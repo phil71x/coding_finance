{
 "cells": [
  {
   "cell_type": "code",
   "execution_count": null,
   "metadata": {},
   "outputs": [],
   "source": [
    "# Step 1: Import the necessary libraries\n",
    "import pandas as pd\n",
    "import numpy as np\n",
    "import statsmodels.api as sm\n",
    "from pandas_datareader import data as pdr"
   ]
  },
  {
   "cell_type": "code",
   "execution_count": null,
   "metadata": {},
   "outputs": [],
   "source": [
    "# Step 2: Load your risk premia strategies data\n",
    "# Assuming you have a CSV file for each strategy named 'strategy1.csv', 'strategy2.csv', etc.\n",
    "strategy_files = ['strategy1.csv', 'strategy2.csv', 'strategy3.csv', 'strategy4.csv']\n",
    "strategies = [pd.read_csv(file, index_col='Date', parse_dates=True) for file in strategy_files]"
   ]
  },
  {
   "cell_type": "code",
   "execution_count": null,
   "metadata": {},
   "outputs": [],
   "source": [
    "# Step 3: Retrieve the Fama-French 4-factor data from the Kenneth R. French data library\n",
    "ff_factors = pdr.DataReader('F-F_Research_Data_Factors_daily', 'famafrench', start='2024-01-01', end='2024-04-30')[0]\n",
    "momentum_factor = pdr.DataReader('F-F_Momentum_Factor_daily', 'famafrench', start='2024-01-01', end='2024-04-30')[0]\n",
    "\n",
    "# Combine the Fama-French factors and the momentum factor into a single DataFrame\n",
    "ff_factors = ff_factors.join(momentum_factor['Mom   '])\n",
    "\n",
    "# Convert the factors to daily returns as percentages\n",
    "ff_factors = ff_factors / 100\n",
    "\n",
    "# Step 4: Run the Fama-French 4-factor regression for each strategy\n",
    "results = {}\n",
    "for i, strategy in enumerate(strategies):\n",
    "    strategy_name = f'Strategy {i+1}'\n",
    "    strategy = strategy.rename(columns={'Return': strategy_name})\n",
    "    \n",
    "    # Merge strategy returns with the Fama-French factors\n",
    "    data = strategy.join(ff_factors, how='inner')\n",
    "    \n",
    "    # Prepare the data for regression\n",
    "    X = data[['Mkt-RF', 'SMB', 'HML', 'Mom   ']]\n",
    "    y = data[strategy_name] - data['RF']\n",
    "    \n",
    "    # Add a constant to the independent variables\n",
    "    X = sm.add_constant(X)\n",
    "    \n",
    "    # Run the regression\n",
    "    model = sm.OLS(y, X).fit()\n",
    "    \n",
    "    # Store the results\n",
    "    results[strategy_name] = model.summary()\n",
    "\n",
    "# Print the results\n",
    "for strategy_name, result in results.items():\n",
    "    print(f\"\\n{strategy_name} Regression Results:\\n\")\n",
    "    print(result)\n"
   ]
  },
  {
   "cell_type": "code",
   "execution_count": null,
   "metadata": {},
   "outputs": [],
   "source": []
  }
 ],
 "metadata": {
  "language_info": {
   "name": "python"
  }
 },
 "nbformat": 4,
 "nbformat_minor": 2
}
