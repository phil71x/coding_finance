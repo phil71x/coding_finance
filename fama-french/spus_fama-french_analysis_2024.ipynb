{
 "cells": [
  {
   "cell_type": "code",
   "execution_count": 1,
   "metadata": {},
   "outputs": [],
   "source": [
    "# Step 1: Import the necessary libraries\n",
    "import pandas as pd\n",
    "import numpy as np\n",
    "import statsmodels.api as sm\n",
    "from pandas_datareader import data as pdr"
   ]
  },
  {
   "cell_type": "code",
   "execution_count": 8,
   "metadata": {},
   "outputs": [
    {
     "name": "stderr",
     "output_type": "stream",
     "text": [
      "C:\\Users\\phil7\\AppData\\Local\\Temp\\ipykernel_58816\\3338920856.py:3: UserWarning: Parsing dates in %d.%m.%Y format when dayfirst=False (the default) was specified. Pass `dayfirst=True` or specify a format to silence this warning.\n",
      "  strategies_prices = pd.read_csv(file_path, parse_dates=True, index_col=0)\n"
     ]
    }
   ],
   "source": [
    "# Step 2: Load the data\n",
    "file_path = 'C:\\\\Users\\\\phil7\\\\OneDrive\\\\Code\\\\_data\\\\ftw_spx_2024.csv'\n",
    "strategies_prices = pd.read_csv(file_path, parse_dates=True, index_col=0)"
   ]
  },
  {
   "cell_type": "code",
   "execution_count": 9,
   "metadata": {},
   "outputs": [],
   "source": [
    "# Step 3: Separate SPX and strategies\n",
    "universe_prices = strategies_prices['SPX']\n",
    "risk_premia_ftw_prices = strategies_prices.drop(columns=['SPX'])\n",
    "\n",
    "# Convert the strategies to returns\n",
    "strategies = risk_premia_ftw_prices.pct_change().dropna()\n",
    "universe = universe_prices.pct_change().dropna()"
   ]
  },
  {
   "cell_type": "code",
   "execution_count": null,
   "metadata": {},
   "outputs": [],
   "source": [
    "# The 4 strategies and the spx index are stored in a single csv file, the first column is the date, the second column is the first strategy, the third column is the second strategy, the fourth column is the third strategy, the fifth column is the fourth strategy, and the sixth column is the spx index\n",
    "# The file is located in the following folder: C:\\Users\\phil7\\OneDrive\\Code\\_data\n",
    "# The name of the strategies are in the first row of the csv file\n",
    "strategies_prices = pd.read_csv('C:\\\\Users\\\\phil7\\\\OneDrive\\\\Code\\\\_data\\\\ftw_spx_2024.csv', parse_dates=True)  # index_col='Date',\n",
    "universe_prices = strategies_prices['SPX']\n",
    "risk_premia_ftw_prices = strategies_prices.drop(columns=['SPX'])\n",
    "# convert the strategies to returns\n",
    "strategies = strategies_prices.pct_change().dropna()\n",
    "universe = universe_prices.pct_change().dropna()\n",
    "risk_premia_ftw = risk_premia_ftw_prices.pct_change().dropna()"
   ]
  },
  {
   "cell_type": "code",
   "execution_count": 10,
   "metadata": {},
   "outputs": [
    {
     "name": "stderr",
     "output_type": "stream",
     "text": [
      "C:\\Users\\phil7\\AppData\\Local\\Temp\\ipykernel_58816\\3849217727.py:2: FutureWarning: The argument 'date_parser' is deprecated and will be removed in a future version. Please use 'date_format' instead, or read your data in as 'object' dtype and then call 'to_datetime'.\n",
      "  ff_factors = pdr.DataReader('F-F_Research_Data_Factors_daily', 'famafrench', start='2024-01-01', end='2024-04-30')[0]\n",
      "C:\\Users\\phil7\\AppData\\Local\\Temp\\ipykernel_58816\\3849217727.py:3: FutureWarning: The argument 'date_parser' is deprecated and will be removed in a future version. Please use 'date_format' instead, or read your data in as 'object' dtype and then call 'to_datetime'.\n",
      "  momentum_factor = pdr.DataReader('F-F_Momentum_Factor_daily', 'famafrench', start='2024-01-01', end='2024-04-30')[0]\n"
     ]
    }
   ],
   "source": [
    "# Step 4: Retrieve the Fama-French 4-factor data\n",
    "ff_factors = pdr.DataReader('F-F_Research_Data_Factors_daily', 'famafrench', start='2024-01-01', end='2024-04-30')[0]\n",
    "momentum_factor = pdr.DataReader('F-F_Momentum_Factor_daily', 'famafrench', start='2024-01-01', end='2024-04-30')[0]\n",
    "\n",
    "# Combine the Fama-French factors and the momentum factor into a single DataFrame\n",
    "ff_factors = ff_factors.join(momentum_factor['Mom   '])\n",
    "\n",
    "# Convert the factors to daily returns as percentages\n",
    "ff_factors = ff_factors / 100"
   ]
  },
  {
   "cell_type": "code",
   "execution_count": 20,
   "metadata": {},
   "outputs": [],
   "source": [
    "# Step 5: Run the Fama-French 4-factor regression for each strategy\n",
    "model_results = {}\n",
    "for strategy_name in strategies.columns:\n",
    "    # Merge strategy returns with the Fama-French factors\n",
    "    data = pd.concat([strategies[strategy_name], ff_factors], axis=1, join='inner')\n",
    "    \n",
    "    # Prepare the data for regression\n",
    "    X = data[['Mkt-RF', 'SMB', 'HML', 'Mom   ']]\n",
    "    y = data[strategy_name] - data['RF']\n",
    "    \n",
    "    # Add a constant to the independent variables\n",
    "    X = sm.add_constant(X)\n",
    "    \n",
    "    # Run the regression\n",
    "    model = sm.OLS(y, X).fit()\n",
    "    \n",
    "    # Store the model results\n",
    "    model_results[strategy_name] = model"
   ]
  },
  {
   "cell_type": "code",
   "execution_count": 21,
   "metadata": {},
   "outputs": [
    {
     "name": "stdout",
     "output_type": "stream",
     "text": [
      "\n",
      "Quality Regression Results:\n",
      "\n",
      "<statsmodels.regression.linear_model.RegressionResultsWrapper object at 0x0000024B5EFCAB00>\n",
      "\n",
      "LowVol Regression Results:\n",
      "\n",
      "<statsmodels.regression.linear_model.RegressionResultsWrapper object at 0x0000024B5EFC8AF0>\n",
      "\n",
      "Value Regression Results:\n",
      "\n",
      "<statsmodels.regression.linear_model.RegressionResultsWrapper object at 0x0000024B5C8A1F00>\n",
      "\n",
      "Momentum Regression Results:\n",
      "\n",
      "<statsmodels.regression.linear_model.RegressionResultsWrapper object at 0x0000024B5C8A08E0>\n"
     ]
    }
   ],
   "source": [
    "# Step 6: Print the results\n",
    "for strategy_name, result in model_results.items():\n",
    "    print(f\"\\n{strategy_name} Regression Results:\\n\")\n",
    "    print(result)"
   ]
  },
  {
   "cell_type": "code",
   "execution_count": 25,
   "metadata": {},
   "outputs": [
    {
     "name": "stdout",
     "output_type": "stream",
     "text": [
      "           Alpha  Mkt-RF     SMB     HML     Mom\n",
      "Quality   0.0001  0.8282  0.0083  0.0256 -0.1420\n",
      "LowVol    0.0010  0.4449 -0.1417 -0.0763 -0.5200\n",
      "Value     0.0012  0.8370 -0.0037  0.5655 -0.4398\n",
      "Momentum  0.0004  0.9663  0.1144  0.1026  0.2838\n",
      "           Alpha  Mkt-RF     SMB     HML     Mom\n",
      "Quality   0.8599  0.0000  0.8336  0.6453  0.0043\n",
      "LowVol    0.0222  0.0000  0.0128  0.3276  0.0000\n",
      "Value     0.0007  0.0000  0.9305  0.0000  0.0000\n",
      "Momentum  0.2829  0.0000  0.0113  0.0998  0.0000\n"
     ]
    },
    {
     "name": "stderr",
     "output_type": "stream",
     "text": [
      "C:\\Users\\phil7\\AppData\\Local\\Temp\\ipykernel_58816\\2412502736.py:14: FutureWarning: DataFrame.applymap has been deprecated. Use DataFrame.map instead.\n",
      "  p_values_df = p_values_df.applymap(lambda x: f\"{x:.4f}\")\n"
     ]
    }
   ],
   "source": [
    "coefficients = {}\n",
    "p_values = {}\n",
    "for strategy_name, model in model_results.items():\n",
    "    coefficients[strategy_name] = model.params\n",
    "    p_values[strategy_name] = model.pvalues\n",
    "\n",
    "# Print the coefficients and p-values in the same table for each strategy\n",
    "# Format for readability\n",
    "coefficients_df = pd.DataFrame(coefficients).T\n",
    "p_values_df = pd.DataFrame(p_values).T\n",
    "coefficients_df.columns = ['Alpha', 'Mkt-RF', 'SMB', 'HML', 'Mom']\n",
    "p_values_df.columns = ['Alpha', 'Mkt-RF', 'SMB', 'HML', 'Mom']\n",
    "coefficients_df = coefficients_df.round(4)\n",
    "p_values_df = p_values_df.applymap(lambda x: f\"{x:.4f}\")\n",
    "print(coefficients_df)\n",
    "print(p_values_df)"
   ]
  },
  {
   "cell_type": "code",
   "execution_count": 17,
   "metadata": {},
   "outputs": [
    {
     "name": "stdout",
     "output_type": "stream",
     "text": [
      "\n",
      "SPX Regression Results:\n",
      "\n",
      "                            OLS Regression Results                            \n",
      "==============================================================================\n",
      "Dep. Variable:                      y   R-squared:                       0.998\n",
      "Model:                            OLS   Adj. R-squared:                  0.997\n",
      "Method:                 Least Squares   F-statistic:                     5893.\n",
      "Date:                Mon, 13 May 2024   Prob (F-statistic):           9.02e-73\n",
      "Time:                        21:44:17   Log-Likelihood:                 401.79\n",
      "No. Observations:                  61   AIC:                            -793.6\n",
      "Df Residuals:                      56   BIC:                            -783.0\n",
      "Df Model:                           4                                         \n",
      "Covariance Type:            nonrobust                                         \n",
      "==============================================================================\n",
      "                 coef    std err          t      P>|t|      [0.025      0.975]\n",
      "------------------------------------------------------------------------------\n",
      "const      -2.638e-05   4.67e-05     -0.565      0.574      -0.000    6.72e-05\n",
      "Mkt-RF         0.9919      0.008    132.084      0.000       0.977       1.007\n",
      "SMB           -0.0948      0.006    -15.347      0.000      -0.107      -0.082\n",
      "HML           -0.0343      0.009     -3.962      0.000      -0.052      -0.017\n",
      "Mom           -0.0260      0.007     -3.466      0.001      -0.041      -0.011\n",
      "==============================================================================\n",
      "Omnibus:                        2.138   Durbin-Watson:                   1.826\n",
      "Prob(Omnibus):                  0.343   Jarque-Bera (JB):                2.099\n",
      "Skew:                           0.407   Prob(JB):                        0.350\n",
      "Kurtosis:                       2.595   Cond. No.                         235.\n",
      "==============================================================================\n",
      "\n",
      "Notes:\n",
      "[1] Standard Errors assume that the covariance matrix of the errors is correctly specified.\n",
      "\n",
      "SPX Regression Coefficients:\n",
      "\n",
      "const    -0.000026\n",
      "Mkt-RF    0.991854\n",
      "SMB      -0.094783\n",
      "HML      -0.034328\n",
      "Mom      -0.025961\n",
      "dtype: float64\n",
      "\n",
      "SPX Regression P-Values:\n",
      "\n",
      "const     5.743447e-01\n",
      "Mkt-RF    1.476485e-71\n",
      "SMB       1.018527e-21\n",
      "HML       2.124958e-04\n",
      "Mom       1.020579e-03\n",
      "dtype: float64\n"
     ]
    }
   ],
   "source": []
  },
  {
   "cell_type": "code",
   "execution_count": null,
   "metadata": {},
   "outputs": [],
   "source": [
    "\n",
    "\n",
    "\n"
   ]
  }
 ],
 "metadata": {
  "kernelspec": {
   "display_name": "Python 3",
   "language": "python",
   "name": "python3"
  },
  "language_info": {
   "codemirror_mode": {
    "name": "ipython",
    "version": 3
   },
   "file_extension": ".py",
   "mimetype": "text/x-python",
   "name": "python",
   "nbconvert_exporter": "python",
   "pygments_lexer": "ipython3",
   "version": "3.10.11"
  }
 },
 "nbformat": 4,
 "nbformat_minor": 2
}
