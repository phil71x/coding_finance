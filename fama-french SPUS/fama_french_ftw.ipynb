{
 "cells": [
  {
   "cell_type": "code",
   "execution_count": 1,
   "metadata": {},
   "outputs": [],
   "source": [
    "# Step 1: Import the necessary libraries\n",
    "import pandas as pd\n",
    "import statsmodels.api as sm\n",
    "from pandas_datareader import data as pdr"
   ]
  },
  {
   "cell_type": "code",
   "execution_count": 2,
   "metadata": {},
   "outputs": [
    {
     "name": "stderr",
     "output_type": "stream",
     "text": [
      "/tmp/ipykernel_95654/58061667.py:3: UserWarning: Parsing dates in %d.%m.%Y format when dayfirst=False (the default) was specified. Pass `dayfirst=True` or specify a format to silence this warning.\n",
      "  strategies_prices = pd.read_csv(file_path, parse_dates=True, index_col=0)\n"
     ]
    }
   ],
   "source": [
    "# Step 2: Load the data\n",
    "file_path = './data/ftw_spx_2024.csv'\n",
    "strategies_prices = pd.read_csv(file_path, parse_dates=True, index_col=0)"
   ]
  },
  {
   "cell_type": "code",
   "execution_count": 3,
   "metadata": {},
   "outputs": [],
   "source": [
    "# Step 3: Separate SPX and strategies\n",
    "universe_prices = strategies_prices['SPX']\n",
    "risk_premia_ftw_prices = strategies_prices.drop(columns=['SPX'])\n",
    "\n",
    "# Convert the strategies to returns\n",
    "strategies = risk_premia_ftw_prices.pct_change().dropna()\n",
    "universe = universe_prices.pct_change().dropna()"
   ]
  },
  {
   "cell_type": "code",
   "execution_count": 4,
   "metadata": {},
   "outputs": [
    {
     "name": "stderr",
     "output_type": "stream",
     "text": [
      "/tmp/ipykernel_95654/3849217727.py:2: FutureWarning: The argument 'date_parser' is deprecated and will be removed in a future version. Please use 'date_format' instead, or read your data in as 'object' dtype and then call 'to_datetime'.\n",
      "  ff_factors = pdr.DataReader('F-F_Research_Data_Factors_daily', 'famafrench', start='2024-01-01', end='2024-04-30')[0]\n",
      "/tmp/ipykernel_95654/3849217727.py:3: FutureWarning: The argument 'date_parser' is deprecated and will be removed in a future version. Please use 'date_format' instead, or read your data in as 'object' dtype and then call 'to_datetime'.\n",
      "  momentum_factor = pdr.DataReader('F-F_Momentum_Factor_daily', 'famafrench', start='2024-01-01', end='2024-04-30')[0]\n"
     ]
    }
   ],
   "source": [
    "# Step 4: Retrieve the Fama-French 4-factor data\n",
    "ff_factors = pdr.DataReader('F-F_Research_Data_Factors_daily', 'famafrench', start='2024-01-01', end='2024-04-30')[0]\n",
    "momentum_factor = pdr.DataReader('F-F_Momentum_Factor_daily', 'famafrench', start='2024-01-01', end='2024-04-30')[0]\n",
    "\n",
    "# Combine the Fama-French factors and the momentum factor into a single DataFrame\n",
    "ff_factors = ff_factors.join(momentum_factor['Mom   '])\n",
    "\n",
    "# Convert the factors to daily returns as percentages\n",
    "ff_factors = ff_factors / 100"
   ]
  },
  {
   "cell_type": "code",
   "execution_count": 5,
   "metadata": {},
   "outputs": [],
   "source": [
    "# Step 5: Run the Fama-French 4-factor regression for each strategy\n",
    "model_results = {}\n",
    "for strategy_name in strategies.columns:\n",
    "    # Merge strategy returns with the Fama-French factors\n",
    "    data = pd.concat([strategies[strategy_name], ff_factors], axis=1, join='inner')\n",
    "    \n",
    "    # Prepare the data for regression\n",
    "    X = data[['Mkt-RF', 'SMB', 'HML', 'Mom   ']]\n",
    "    y = data[strategy_name] - data['RF']\n",
    "    \n",
    "    # Add a constant to the independent variables\n",
    "    X = sm.add_constant(X)\n",
    "    \n",
    "    # Run the regression\n",
    "    model = sm.OLS(y, X).fit()\n",
    "    \n",
    "    # Store the model results\n",
    "    model_results[strategy_name] = model"
   ]
  },
  {
   "cell_type": "code",
   "execution_count": 6,
   "metadata": {},
   "outputs": [
    {
     "name": "stdout",
     "output_type": "stream",
     "text": [
      "Coefficients:\n",
      "        Quality  LowVol  Value  Momentum\n",
      "const     0.000   0.001  0.001     0.000\n",
      "Mkt-RF    0.828   0.445  0.837     0.966\n",
      "SMB       0.008  -0.142 -0.004     0.114\n",
      "HML       0.026  -0.076  0.565     0.103\n",
      "Mom      -0.142  -0.520 -0.440     0.284\n",
      "\n",
      "P-Values:\n",
      "        Quality  LowVol  Value  Momentum\n",
      "const     0.860   0.022  0.001     0.283\n",
      "Mkt-RF    0.000   0.000  0.000     0.000\n",
      "SMB       0.834   0.013  0.931     0.011\n",
      "HML       0.645   0.328  0.000     0.100\n",
      "Mom       0.004   0.000  0.000     0.000\n"
     ]
    }
   ],
   "source": [
    "# Extract the coefficients and p-values for each strategy into 2 distinctive tables\n",
    "coefficients = pd.DataFrame({strategy: model_results[strategy].params for strategy in model_results})\n",
    "p_values = pd.DataFrame({strategy: model_results[strategy].pvalues for strategy in model_results})\n",
    "\n",
    "# Round the values to 3 decimal places\n",
    "coefficients = coefficients.round(3)\n",
    "p_values = p_values.round(3)\n",
    "\n",
    "# Step 6: Display the results\n",
    "print('Coefficients:')\n",
    "print(coefficients)\n",
    "print('\\nP-Values:')\n",
    "print(p_values)"
   ]
  },
  {
   "cell_type": "code",
   "execution_count": 7,
   "metadata": {},
   "outputs": [
    {
     "name": "stdout",
     "output_type": "stream",
     "text": [
      "\n",
      "Universe Coefficients:\n",
      "const    -0.000\n",
      "Mkt-RF    0.992\n",
      "SMB      -0.095\n",
      "HML      -0.034\n",
      "Mom      -0.026\n",
      "dtype: float64\n",
      "\n",
      "Universe P-Values:\n",
      "const     0.574\n",
      "Mkt-RF    0.000\n",
      "SMB       0.000\n",
      "HML       0.000\n",
      "Mom       0.001\n",
      "dtype: float64\n"
     ]
    }
   ],
   "source": [
    "# Add the universe results to these two tables\n",
    "universe_data = pd.concat([universe, ff_factors], axis=1, join='inner')\n",
    "X = universe_data[['Mkt-RF', 'SMB', 'HML', 'Mom   ']]\n",
    "y = universe_data['SPX'] - universe_data['RF']\n",
    "X = sm.add_constant(X)\n",
    "model = sm.OLS(y, X).fit()\n",
    "universe_coefficients = model.params.round(3)\n",
    "universe_p_values = model.pvalues.round(3)\n",
    "\n",
    "print('\\nUniverse Coefficients:')\n",
    "print(universe_coefficients)\n",
    "print('\\nUniverse P-Values:')\n",
    "print(universe_p_values)\n"
   ]
  },
  {
   "cell_type": "code",
   "execution_count": 8,
   "metadata": {},
   "outputs": [
    {
     "name": "stdout",
     "output_type": "stream",
     "text": [
      "\n",
      "Updated Coefficients:\n",
      "        Quality  LowVol  Value  Momentum  S&P500\n",
      "const     0.000   0.001  0.001     0.000  -0.000\n",
      "Mkt-RF    0.828   0.445  0.837     0.966   0.992\n",
      "SMB       0.008  -0.142 -0.004     0.114  -0.095\n",
      "HML       0.026  -0.076  0.565     0.103  -0.034\n",
      "Mom      -0.142  -0.520 -0.440     0.284  -0.026\n",
      "\n",
      "Updated P-Values:\n",
      "        Quality  LowVol  Value  Momentum  S&P500\n",
      "const     0.860   0.022  0.001     0.283   0.574\n",
      "Mkt-RF    0.000   0.000  0.000     0.000   0.000\n",
      "SMB       0.834   0.013  0.931     0.011   0.000\n",
      "HML       0.645   0.328  0.000     0.100   0.000\n",
      "Mom       0.004   0.000  0.000     0.000   0.001\n"
     ]
    }
   ],
   "source": [
    "# Merge universe resuts with the strategy results without append method \n",
    "coefficients = pd.concat([coefficients, universe_coefficients], axis=1)\n",
    "p_values = pd.concat([p_values, universe_p_values], axis=1)\n",
    "# Add \"S&P500\" as its name\n",
    "coefficients.columns = coefficients.columns.tolist()[:-1] + ['S&P500']\n",
    "p_values.columns = p_values.columns.tolist()[:-1] + ['S&P500']\n",
    "\n",
    "\n",
    "# Display the updated tables\n",
    "print('\\nUpdated Coefficients:')\n",
    "print(coefficients)\n",
    "print('\\nUpdated P-Values:')\n",
    "print(p_values)"
   ]
  },
  {
   "cell_type": "code",
   "execution_count": null,
   "metadata": {},
   "outputs": [],
   "source": []
  },
  {
   "cell_type": "code",
   "execution_count": null,
   "metadata": {},
   "outputs": [],
   "source": []
  }
 ],
 "metadata": {
  "language_info": {
   "name": "python"
  }
 },
 "nbformat": 4,
 "nbformat_minor": 2
}
