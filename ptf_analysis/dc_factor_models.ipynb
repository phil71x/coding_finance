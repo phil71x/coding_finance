{
 "cells": [
  {
   "cell_type": "code",
   "execution_count": 1,
   "metadata": {},
   "outputs": [],
   "source": [
    "import pandas as pd\n",
    "\n",
    "# Set the path to the data and output folders\n",
    "from pathlib import Path\n",
    "DATA_PATH = Path(r\"C:\\Users\\phil7\\OneDrive\\Code\\_data\")\n",
    "OUTPUT_PATH = Path(r\"C:\\Users\\phil7\\OneDrive\\Code\\_output\")"
   ]
  },
  {
   "cell_type": "code",
   "execution_count": 6,
   "metadata": {},
   "outputs": [],
   "source": [
    "factor_returns = pd.read_csv(DATA_PATH / 'dc' / \"factors_pf_returns.csv\", index_col=0, parse_dates=True)"
   ]
  },
  {
   "cell_type": "code",
   "execution_count": 7,
   "metadata": {},
   "outputs": [
    {
     "data": {
      "text/html": [
       "<div>\n",
       "<style scoped>\n",
       "    .dataframe tbody tr th:only-of-type {\n",
       "        vertical-align: middle;\n",
       "    }\n",
       "\n",
       "    .dataframe tbody tr th {\n",
       "        vertical-align: top;\n",
       "    }\n",
       "\n",
       "    .dataframe thead th {\n",
       "        text-align: right;\n",
       "    }\n",
       "</style>\n",
       "<table border=\"1\" class=\"dataframe\">\n",
       "  <thead>\n",
       "    <tr style=\"text-align: right;\">\n",
       "      <th></th>\n",
       "      <th>Mkt-RF</th>\n",
       "      <th>SMB</th>\n",
       "      <th>HML</th>\n",
       "      <th>RF</th>\n",
       "      <th>pf_returns</th>\n",
       "    </tr>\n",
       "    <tr>\n",
       "      <th>date</th>\n",
       "      <th></th>\n",
       "      <th></th>\n",
       "      <th></th>\n",
       "      <th></th>\n",
       "      <th></th>\n",
       "    </tr>\n",
       "  </thead>\n",
       "  <tbody>\n",
       "    <tr>\n",
       "      <th>2016-01-04</th>\n",
       "      <td>-1.59</td>\n",
       "      <td>-0.83</td>\n",
       "      <td>0.53</td>\n",
       "      <td>0.000</td>\n",
       "      <td>-1.651745</td>\n",
       "    </tr>\n",
       "    <tr>\n",
       "      <th>2016-01-05</th>\n",
       "      <td>0.12</td>\n",
       "      <td>-0.22</td>\n",
       "      <td>0.01</td>\n",
       "      <td>0.000</td>\n",
       "      <td>0.408161</td>\n",
       "    </tr>\n",
       "    <tr>\n",
       "      <th>2016-01-06</th>\n",
       "      <td>-1.35</td>\n",
       "      <td>-0.12</td>\n",
       "      <td>0.00</td>\n",
       "      <td>0.000</td>\n",
       "      <td>0.325555</td>\n",
       "    </tr>\n",
       "    <tr>\n",
       "      <th>2016-01-07</th>\n",
       "      <td>-2.44</td>\n",
       "      <td>-0.29</td>\n",
       "      <td>0.08</td>\n",
       "      <td>0.000</td>\n",
       "      <td>-0.698259</td>\n",
       "    </tr>\n",
       "    <tr>\n",
       "      <th>2016-01-08</th>\n",
       "      <td>-1.11</td>\n",
       "      <td>-0.47</td>\n",
       "      <td>-0.03</td>\n",
       "      <td>0.000</td>\n",
       "      <td>-0.959352</td>\n",
       "    </tr>\n",
       "    <tr>\n",
       "      <th>...</th>\n",
       "      <td>...</td>\n",
       "      <td>...</td>\n",
       "      <td>...</td>\n",
       "      <td>...</td>\n",
       "      <td>...</td>\n",
       "    </tr>\n",
       "    <tr>\n",
       "      <th>2016-12-23</th>\n",
       "      <td>0.19</td>\n",
       "      <td>0.56</td>\n",
       "      <td>-0.52</td>\n",
       "      <td>0.001</td>\n",
       "      <td>0.438153</td>\n",
       "    </tr>\n",
       "    <tr>\n",
       "      <th>2016-12-27</th>\n",
       "      <td>0.27</td>\n",
       "      <td>0.21</td>\n",
       "      <td>0.13</td>\n",
       "      <td>0.001</td>\n",
       "      <td>0.430411</td>\n",
       "    </tr>\n",
       "    <tr>\n",
       "      <th>2016-12-28</th>\n",
       "      <td>-0.87</td>\n",
       "      <td>-0.27</td>\n",
       "      <td>0.08</td>\n",
       "      <td>0.001</td>\n",
       "      <td>-0.903525</td>\n",
       "    </tr>\n",
       "    <tr>\n",
       "      <th>2016-12-29</th>\n",
       "      <td>-0.04</td>\n",
       "      <td>0.13</td>\n",
       "      <td>-0.31</td>\n",
       "      <td>0.001</td>\n",
       "      <td>0.235954</td>\n",
       "    </tr>\n",
       "    <tr>\n",
       "      <th>2016-12-30</th>\n",
       "      <td>-0.52</td>\n",
       "      <td>-0.11</td>\n",
       "      <td>0.20</td>\n",
       "      <td>0.001</td>\n",
       "      <td>-0.805551</td>\n",
       "    </tr>\n",
       "  </tbody>\n",
       "</table>\n",
       "<p>252 rows × 5 columns</p>\n",
       "</div>"
      ],
      "text/plain": [
       "            Mkt-RF   SMB   HML     RF  pf_returns\n",
       "date                                             \n",
       "2016-01-04   -1.59 -0.83  0.53  0.000   -1.651745\n",
       "2016-01-05    0.12 -0.22  0.01  0.000    0.408161\n",
       "2016-01-06   -1.35 -0.12  0.00  0.000    0.325555\n",
       "2016-01-07   -2.44 -0.29  0.08  0.000   -0.698259\n",
       "2016-01-08   -1.11 -0.47 -0.03  0.000   -0.959352\n",
       "...            ...   ...   ...    ...         ...\n",
       "2016-12-23    0.19  0.56 -0.52  0.001    0.438153\n",
       "2016-12-27    0.27  0.21  0.13  0.001    0.430411\n",
       "2016-12-28   -0.87 -0.27  0.08  0.001   -0.903525\n",
       "2016-12-29   -0.04  0.13 -0.31  0.001    0.235954\n",
       "2016-12-30   -0.52 -0.11  0.20  0.001   -0.805551\n",
       "\n",
       "[252 rows x 5 columns]"
      ]
     },
     "execution_count": 7,
     "metadata": {},
     "output_type": "execute_result"
    }
   ],
   "source": [
    "factor_returns"
   ]
  },
  {
   "cell_type": "code",
   "execution_count": 8,
   "metadata": {},
   "outputs": [
    {
     "name": "stdout",
     "output_type": "stream",
     "text": [
      "              Mkt-RF       SMB       HML        RF  pf_returns\n",
      "Mkt-RF      1.000000  0.331250  0.099800  0.087073    0.738586\n",
      "SMB         0.331250  1.000000 -0.108081  0.076750    0.162303\n",
      "HML         0.099800 -0.108081  1.000000 -0.049019   -0.237647\n",
      "RF          0.087073  0.076750 -0.049019  1.000000    0.039383\n",
      "pf_returns  0.738586  0.162303 -0.237647  0.039383    1.000000\n"
     ]
    }
   ],
   "source": [
    "print(factor_returns.corr())"
   ]
  },
  {
   "cell_type": "code",
   "execution_count": 11,
   "metadata": {},
   "outputs": [
    {
     "name": "stdout",
     "output_type": "stream",
     "text": [
      "                                 OLS Regression Results                                \n",
      "=======================================================================================\n",
      "Dep. Variable:             pf_returns   R-squared (uncentered):                   0.657\n",
      "Model:                            OLS   Adj. R-squared (uncentered):              0.653\n",
      "Method:                 Least Squares   F-statistic:                              158.8\n",
      "Date:                Fri, 23 Aug 2024   Prob (F-statistic):                    1.55e-57\n",
      "Time:                        22:32:07   Log-Likelihood:                         -185.67\n",
      "No. Observations:                 252   AIC:                                      377.3\n",
      "Df Residuals:                     249   BIC:                                      387.9\n",
      "Df Model:                           3                                                  \n",
      "Covariance Type:            nonrobust                                                  \n",
      "==============================================================================\n",
      "                 coef    std err          t      P>|t|      [0.025      0.975]\n",
      "------------------------------------------------------------------------------\n",
      "Mkt-RF         0.8234      0.040     20.627      0.000       0.745       0.902\n",
      "SMB           -0.2272      0.064     -3.545      0.000      -0.353      -0.101\n",
      "HML           -0.4826      0.056     -8.611      0.000      -0.593      -0.372\n",
      "==============================================================================\n",
      "Omnibus:                      143.224   Durbin-Watson:                   1.925\n",
      "Prob(Omnibus):                  0.000   Jarque-Bera (JB):             1746.552\n",
      "Skew:                           1.972   Prob(JB):                         0.00\n",
      "Kurtosis:                      15.279   Cond. No.                         1.89\n",
      "==============================================================================\n",
      "\n",
      "Notes:\n",
      "[1] R² is computed without centering (uncentered) since the model does not contain a constant.\n",
      "[2] Standard Errors assume that the covariance matrix of the errors is correctly specified.\n"
     ]
    }
   ],
   "source": [
    "# Use the Fama French model to explain the returns in your portfolio.\n",
    "# # You'll first walk through the linear regression model taking all the different steps, \n",
    "# and obtain the summary at the end to interpret the results.\n",
    "# In this exercise you'll use statsmodels to run the regression analysis.\n",
    "\n",
    "import statsmodels.api as sm\n",
    "\n",
    "# Define the model\n",
    "model = sm.OLS(factor_returns['pf_returns'], factor_returns[['Mkt-RF', 'SMB', 'HML']]).fit()\n",
    "\n",
    "# Create model predictions\n",
    "predictions = model.predict(factor_returns[['Mkt-RF', 'SMB', 'HML']])\n",
    "factor_returns['predictions'] = predictions\n",
    "\n",
    "# Print out the summary\n",
    "print(model.summary())"
   ]
  },
  {
   "cell_type": "code",
   "execution_count": 15,
   "metadata": {},
   "outputs": [
    {
     "name": "stdout",
     "output_type": "stream",
     "text": [
      "Sensitivity of the portfolio to factors:\n",
      "Market: 0.823\n",
      "SMB: -0.227\n",
      "HML: -0.483\n"
     ]
    }
   ],
   "source": [
    "# obtaining just the beta coefficients of the Fama French model\n",
    "# Align the values\n",
    "b1, b2, b3 = model.params\n",
    "print(f'Sensitivity of the portfolio to factors:')\n",
    "print(f'Market: {b1:.3f}')\n",
    "print(f'SMB: {b2:.3f}')\n",
    "print(f'HML: {b3:.3f}')"
   ]
  }
 ],
 "metadata": {
  "kernelspec": {
   "display_name": "coding_finance_env",
   "language": "python",
   "name": "python3"
  },
  "language_info": {
   "codemirror_mode": {
    "name": "ipython",
    "version": 3
   },
   "file_extension": ".py",
   "mimetype": "text/x-python",
   "name": "python",
   "nbconvert_exporter": "python",
   "pygments_lexer": "ipython3",
   "version": "3.9.13"
  }
 },
 "nbformat": 4,
 "nbformat_minor": 2
}
