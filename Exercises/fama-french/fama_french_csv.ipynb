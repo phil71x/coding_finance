{
 "cells": [
  {
   "cell_type": "code",
   "execution_count": 1,
   "metadata": {},
   "outputs": [],
   "source": [
    "import urllib.request\n",
    "import requests\n",
    "import zipfile\n",
    "from pathlib import Path\n",
    "import sys\n",
    "import os\n",
    "import pandas as pd"
   ]
  },
  {
   "cell_type": "code",
   "execution_count": 2,
   "metadata": {},
   "outputs": [],
   "source": [
    "code_dir = str(Path.cwd())\n",
    "home_dir = str(Path.home())\n",
    "\n",
    "if sys.platform == 'linux':\n",
    "    ff_data_dir = '/data/ff_datasets/indices/' \n",
    "elif sys.platform == 'win32':\n",
    "    ff_data_dir = '\\\\data\\\\ff_datasets\\indices\\\\' \n",
    "\n",
    "full_dir = home_dir+ff_data_dir\n",
    "\n",
    "if not os.path.exists(full_dir):\n",
    "    os.makedirs(full_dir)\n",
    "# change working directory to ff_data_dir\n",
    "os.chdir(full_dir)\n",
    "\n",
    "# #change working directory back to code_dir\n",
    "# os.chdir(code_dir) "
   ]
  },
  {
   "cell_type": "code",
   "execution_count": 3,
   "metadata": {},
   "outputs": [],
   "source": [
    "# Create the download url\n",
    "url = 'http://mba.tuck.dartmouth.edu/pages/faculty/ken.french/ftp/F-F_Research_Data_Factors_CSV.zip'\n",
    "# Download the file and save it in full_dir as fama_french.zip\n",
    "urllib.request.urlretrieve(url, 'fama_french.zip')\n",
    "# Unzip the file\n",
    "zip_file = zipfile.ZipFile('fama_french.zip', 'r')\n",
    "# Extract the file to the current directory\n",
    "zip_file.extractall(\"fama_french.csv\")\n",
    "zip_file.close()\n",
    "\n",
    "# alternative to urlib.request.urlretrieve with requests module\n",
    "# #download the file and save it in full_dir as fama_french.zip with module requests\n",
    "# r = requests.get(url)\n",
    "# with open('fama_french.zip', 'wb') as f:\n",
    "#     f.write(r.content)\n",
    "# # unzip the file\n",
    "# zip_ref = zipfile.ZipFile('fama_french.zip', 'r')\n",
    "# zip_ref.extractall(full_dir)\n",
    "# zip_ref.close()"
   ]
  },
  {
   "cell_type": "code",
   "execution_count": null,
   "metadata": {},
   "outputs": [],
   "source": []
  },
  {
   "cell_type": "code",
   "execution_count": 4,
   "metadata": {},
   "outputs": [],
   "source": [
    "ff_factors = pd.read_csv('fama_french.csv/F-F_Research_Data_Factors.csv', skiprows = 3, index_col = 0)"
   ]
  },
  {
   "cell_type": "code",
   "execution_count": null,
   "metadata": {},
   "outputs": [],
   "source": [
    "dateparse = lambda x: pd.to_datetime(x, format='%Y%m')\n",
    "dateparse(\"201009\")"
   ]
  },
  {
   "cell_type": "code",
   "execution_count": null,
   "metadata": {},
   "outputs": [],
   "source": [
    "readDir = full_dir\n",
    "readFile = readDir + 'FF_10_Industry_Portfolios.csv' \n",
    "df_10indus_m = pd.read_csv(readFile,skiprows=11,nrows=1107,index_col=0,parse_dates=True,date_parser=dateparse) \n",
    "\n",
    "\n",
    "readFile = readDir + 'FF_Research_Data_5_Factors_2x3.csv' \n",
    "df_5fac_m = pd.read_csv(readFile,skiprows=3,nrows=663,index_col=0,parse_dates=True,date_parser=dateparse) "
   ]
  }
 ],
 "metadata": {
  "kernelspec": {
   "display_name": ".venv",
   "language": "python",
   "name": "python3"
  },
  "language_info": {
   "codemirror_mode": {
    "name": "ipython",
    "version": 3
   },
   "file_extension": ".py",
   "mimetype": "text/x-python",
   "name": "python",
   "nbconvert_exporter": "python",
   "pygments_lexer": "ipython3",
   "version": "3.9.21"
  }
 },
 "nbformat": 4,
 "nbformat_minor": 2
}
