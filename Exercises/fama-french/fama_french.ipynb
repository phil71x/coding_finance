{
 "cells": [
  {
   "cell_type": "code",
   "execution_count": 14,
   "metadata": {},
   "outputs": [],
   "source": [
    "# How to download and clean Fama-French data\n",
    "# https://www.codingfinance.com/post/2019-07-01-analyze-ff-factor-python/\n",
    "# https://randlow.github.io/posts/finance-economics/pandas-datareader-KF/\n",
    "\n",
    "import pandas_datareader.data as web\n",
    "from pandas_datareader.famafrench import get_available_datasets\n",
    "import datetime\n",
    "#import pickleshare\n",
    "import pandas as pd\n",
    "import numpy as np\n",
    "import yfinance as yf\n",
    "import statsmodels.api as sm\n",
    "import matplotlib.pyplot as plt"
   ]
  },
  {
   "cell_type": "code",
   "execution_count": 15,
   "metadata": {},
   "outputs": [
    {
     "name": "stdout",
     "output_type": "stream",
     "text": [
      "numpy version: 2.0.2\n",
      "pandas version: 2.2.2\n",
      "statsmodels version: 0.14.4\n",
      "yfinance version: 0.2.54\n"
     ]
    }
   ],
   "source": [
    "# version of modules in a fstring\n",
    "print(f'numpy version: {np.__version__}')\n",
    "print(f'pandas version: {pd.__version__}')\n",
    "print(f'statsmodels version: {sm.__version__}')\n",
    "print(f'yfinance version: {yf.__version__}')"
   ]
  },
  {
   "cell_type": "code",
   "execution_count": 3,
   "metadata": {},
   "outputs": [
    {
     "name": "stdout",
     "output_type": "stream",
     "text": [
      "No. of datasets: 297\n"
     ]
    }
   ],
   "source": [
    "# get the list of available datasets\n",
    "datasets = get_available_datasets()\n",
    "print(f'No. of datasets: {len(datasets)}')\n",
    "#datasets"
   ]
  },
  {
   "cell_type": "code",
   "execution_count": 4,
   "metadata": {},
   "outputs": [
    {
     "data": {
      "text/plain": [
       "['F-F_Research_Data_Factors',\n",
       " 'F-F_Research_Data_Factors_weekly',\n",
       " 'F-F_Research_Data_Factors_daily',\n",
       " 'F-F_Research_Data_5_Factors_2x3',\n",
       " 'F-F_Research_Data_5_Factors_2x3_daily',\n",
       " 'F-F_Momentum_Factor',\n",
       " 'F-F_Momentum_Factor_daily',\n",
       " 'F-F_ST_Reversal_Factor',\n",
       " 'F-F_ST_Reversal_Factor_daily',\n",
       " 'F-F_LT_Reversal_Factor',\n",
       " 'F-F_LT_Reversal_Factor_daily',\n",
       " 'Developed_3_Factors',\n",
       " 'Developed_3_Factors_Daily',\n",
       " 'Developed_ex_US_3_Factors',\n",
       " 'Developed_ex_US_3_Factors_Daily',\n",
       " 'Europe_3_Factors',\n",
       " 'Europe_3_Factors_Daily',\n",
       " 'Japan_3_Factors',\n",
       " 'Japan_3_Factors_Daily',\n",
       " 'Asia_Pacific_ex_Japan_3_Factors',\n",
       " 'Asia_Pacific_ex_Japan_3_Factors_Daily',\n",
       " 'North_America_3_Factors',\n",
       " 'North_America_3_Factors_Daily',\n",
       " 'Developed_5_Factors',\n",
       " 'Developed_5_Factors_Daily',\n",
       " 'Developed_ex_US_5_Factors',\n",
       " 'Developed_ex_US_5_Factors_Daily',\n",
       " 'Europe_5_Factors',\n",
       " 'Europe_5_Factors_Daily',\n",
       " 'Japan_5_Factors',\n",
       " 'Japan_5_Factors_Daily',\n",
       " 'Asia_Pacific_ex_Japan_5_Factors',\n",
       " 'Asia_Pacific_ex_Japan_5_Factors_Daily',\n",
       " 'North_America_5_Factors',\n",
       " 'North_America_5_Factors_Daily',\n",
       " 'Developed_Mom_Factor',\n",
       " 'Developed_Mom_Factor_Daily',\n",
       " 'Developed_ex_US_Mom_Factor',\n",
       " 'Developed_ex_US_Mom_Factor_Daily',\n",
       " 'Europe_Mom_Factor',\n",
       " 'Europe_Mom_Factor_Daily',\n",
       " 'Japan_Mom_Factor',\n",
       " 'Japan_Mom_Factor_Daily',\n",
       " 'Asia_Pacific_ex_Japan_MOM_Factor',\n",
       " 'Asia_Pacific_ex_Japan_MOM_Factor_Daily',\n",
       " 'North_America_Mom_Factor',\n",
       " 'North_America_Mom_Factor_Daily',\n",
       " 'Emerging_5_Factors',\n",
       " 'Emerging_MOM_Factor']"
      ]
     },
     "execution_count": 4,
     "metadata": {},
     "output_type": "execute_result"
    }
   ],
   "source": [
    "datasets_factors_5F = [dataset for dataset in datasets if '_5_' in dataset and 'Factor' in dataset]\n",
    "datasets_factors_3F = [dataset for dataset in datasets if '_3_' in dataset and 'Factor' in dataset]\n",
    "datasets_factors_6F = [dataset for dataset in datasets if '_6_' in dataset and 'Factor' in dataset]\n",
    "\n",
    "datasets_industry_5 = [dataset for dataset in datasets if '5' in dataset and 'Industry' in dataset]\n",
    "datasets_industry_10 = [dataset for dataset in datasets if '10' in dataset and 'Industry' in dataset]\n",
    "datasets_industry_12 = [dataset for dataset in datasets if '12' in dataset and 'Industry' in dataset]\n",
    "datasets_industry_17 = [dataset for dataset in datasets if '17' in dataset and 'Industry' in dataset]\n",
    "datasets_industry_30 = [dataset for dataset in datasets if '30' in dataset and 'Industry' in dataset]\n",
    "datasets_industry_38 = [dataset for dataset in datasets if '38' in dataset and 'Industry' in dataset]\n",
    "datasets_industry_48 = [dataset for dataset in datasets if '48' in dataset and 'Industry' in dataset]\n",
    "datasets_industry_49 = [dataset for dataset in datasets if '49' in dataset and 'Industry' in dataset]\n",
    "\n",
    "datasets_factors_daily = [dataset for dataset in datasets if 'daily' in dataset and 'Factor' in dataset]\n",
    "datasets_factors_weekly = [dataset for dataset in datasets if 'weekly' in dataset and 'Factor' in dataset]\n",
    "datasets_factors_monthly = [dataset for dataset in datasets if 'monthly' in dataset and 'Factor' in dataset]\n",
    "\n",
    "datasets_factors = [dataset for dataset in datasets if 'Factor' in dataset in dataset]\n",
    "datasets_factors"
   ]
  },
  {
   "cell_type": "code",
   "execution_count": 5,
   "metadata": {},
   "outputs": [
    {
     "data": {
      "text/plain": [
       "['F-F_Research_Data_Factors_weekly']"
      ]
     },
     "execution_count": 5,
     "metadata": {},
     "output_type": "execute_result"
    }
   ],
   "source": [
    "datasets_factors_weekly"
   ]
  },
  {
   "cell_type": "code",
   "execution_count": 6,
   "metadata": {},
   "outputs": [
    {
     "data": {
      "text/plain": [
       "['F-F_Research_Data_Factors',\n",
       " 'F-F_Research_Data_Factors_weekly',\n",
       " 'F-F_Research_Data_Factors_daily',\n",
       " 'F-F_Momentum_Factor',\n",
       " 'F-F_Momentum_Factor_daily',\n",
       " 'F-F_ST_Reversal_Factor',\n",
       " 'F-F_ST_Reversal_Factor_daily',\n",
       " 'F-F_LT_Reversal_Factor',\n",
       " 'F-F_LT_Reversal_Factor_daily',\n",
       " 'Developed_Mom_Factor',\n",
       " 'Developed_Mom_Factor_Daily',\n",
       " 'Developed_ex_US_Mom_Factor',\n",
       " 'Developed_ex_US_Mom_Factor_Daily',\n",
       " 'Europe_Mom_Factor',\n",
       " 'Europe_Mom_Factor_Daily',\n",
       " 'Japan_Mom_Factor',\n",
       " 'Japan_Mom_Factor_Daily',\n",
       " 'Asia_Pacific_ex_Japan_MOM_Factor',\n",
       " 'Asia_Pacific_ex_Japan_MOM_Factor_Daily',\n",
       " 'North_America_Mom_Factor',\n",
       " 'North_America_Mom_Factor_Daily',\n",
       " 'Emerging_MOM_Factor']"
      ]
     },
     "execution_count": 6,
     "metadata": {},
     "output_type": "execute_result"
    }
   ],
   "source": [
    "#create dataframe with elements of datasets_factors but not in datasets_5_factors and datasets_3_factors\n",
    "datasets_factors_others = [dataset for dataset in datasets_factors if dataset not in datasets_factors_5F and dataset not in datasets_factors_3F]\n",
    "datasets_factors_others"
   ]
  },
  {
   "cell_type": "code",
   "execution_count": 7,
   "metadata": {},
   "outputs": [
    {
     "data": {
      "text/plain": [
       "['Portfolios_Formed_on_ME',\n",
       " 'Portfolios_Formed_on_ME_Wout_Div',\n",
       " 'Portfolios_Formed_on_ME_Daily',\n",
       " 'Portfolios_Formed_on_BE-ME',\n",
       " 'Portfolios_Formed_on_BE-ME_Wout_Div',\n",
       " 'Portfolios_Formed_on_BE-ME_Daily',\n",
       " 'Portfolios_Formed_on_OP',\n",
       " 'Portfolios_Formed_on_OP_Wout_Div',\n",
       " 'Portfolios_Formed_on_OP_Daily',\n",
       " 'Portfolios_Formed_on_INV',\n",
       " 'Portfolios_Formed_on_INV_Wout_Div',\n",
       " 'Portfolios_Formed_on_INV_Daily',\n",
       " '6_Portfolios_2x3',\n",
       " '6_Portfolios_2x3_Wout_Div',\n",
       " '6_Portfolios_2x3_weekly',\n",
       " '6_Portfolios_2x3_daily',\n",
       " '25_Portfolios_5x5',\n",
       " '25_Portfolios_5x5_Wout_Div',\n",
       " '25_Portfolios_5x5_Daily',\n",
       " '100_Portfolios_10x10',\n",
       " '100_Portfolios_10x10_Wout_Div',\n",
       " '100_Portfolios_10x10_Daily',\n",
       " '6_Portfolios_ME_OP_2x3',\n",
       " '6_Portfolios_ME_OP_2x3_Wout_Div',\n",
       " '6_Portfolios_ME_OP_2x3_daily',\n",
       " '25_Portfolios_ME_OP_5x5',\n",
       " '25_Portfolios_ME_OP_5x5_Wout_Div',\n",
       " '25_Portfolios_ME_OP_5x5_daily',\n",
       " '100_Portfolios_ME_OP_10x10',\n",
       " '100_Portfolios_10x10_ME_OP_Wout_Div',\n",
       " '100_Portfolios_ME_OP_10x10_daily',\n",
       " '6_Portfolios_ME_INV_2x3',\n",
       " '6_Portfolios_ME_INV_2x3_Wout_Div',\n",
       " '6_Portfolios_ME_INV_2x3_daily',\n",
       " '25_Portfolios_ME_INV_5x5',\n",
       " '25_Portfolios_ME_INV_5x5_Wout_Div',\n",
       " '25_Portfolios_ME_INV_5x5_daily',\n",
       " '100_Portfolios_ME_INV_10x10',\n",
       " '100_Portfolios_10x10_ME_INV_Wout_Div',\n",
       " '100_Portfolios_ME_INV_10x10_daily',\n",
       " '25_Portfolios_BEME_OP_5x5',\n",
       " '25_Portfolios_BEME_OP_5x5_Wout_Div',\n",
       " '25_Portfolios_BEME_OP_5x5_daily',\n",
       " '25_Portfolios_BEME_INV_5x5',\n",
       " '25_Portfolios_BEME_INV_5x5_Wout_Div',\n",
       " '25_Portfolios_BEME_INV_5x5_daily',\n",
       " '25_Portfolios_OP_INV_5x5',\n",
       " '25_Portfolios_OP_INV_5x5_Wout_Div',\n",
       " '25_Portfolios_OP_INV_5x5_daily',\n",
       " '32_Portfolios_ME_BEME_OP_2x4x4',\n",
       " '32_Portfolios_ME_BEME_OP_2x4x4_Wout_Div',\n",
       " '32_Portfolios_ME_BEME_INV_2x4x4',\n",
       " '32_Portfolios_ME_BEME_INV_2x4x4_Wout_Div',\n",
       " '32_Portfolios_ME_OP_INV_2x4x4',\n",
       " '32_Portfolios_ME_OP_INV_2x4x4_Wout_Div',\n",
       " 'Portfolios_Formed_on_E-P',\n",
       " 'Portfolios_Formed_on_E-P_Wout_Div',\n",
       " 'Portfolios_Formed_on_CF-P',\n",
       " 'Portfolios_Formed_on_CF-P_Wout_Div',\n",
       " 'Portfolios_Formed_on_D-P',\n",
       " 'Portfolios_Formed_on_D-P_Wout_Div',\n",
       " '6_Portfolios_ME_EP_2x3',\n",
       " '6_Portfolios_ME_EP_2x3_Wout_Div',\n",
       " '6_Portfolios_ME_CFP_2x3',\n",
       " '6_Portfolios_ME_CFP_2x3_Wout_Div',\n",
       " '6_Portfolios_ME_DP_2x3',\n",
       " '6_Portfolios_ME_DP_2x3_Wout_Div',\n",
       " '6_Portfolios_ME_Prior_12_2',\n",
       " '6_Portfolios_ME_Prior_12_2_Daily',\n",
       " '25_Portfolios_ME_Prior_12_2',\n",
       " '25_Portfolios_ME_Prior_12_2_Daily',\n",
       " '10_Portfolios_Prior_12_2',\n",
       " '10_Portfolios_Prior_12_2_Daily',\n",
       " '6_Portfolios_ME_Prior_1_0',\n",
       " '6_Portfolios_ME_Prior_1_0_Daily',\n",
       " '25_Portfolios_ME_Prior_1_0',\n",
       " '25_Portfolios_ME_Prior_1_0_Daily',\n",
       " '10_Portfolios_Prior_1_0',\n",
       " '10_Portfolios_Prior_1_0_Daily',\n",
       " '6_Portfolios_ME_Prior_60_13',\n",
       " '6_Portfolios_ME_Prior_60_13_Daily',\n",
       " '25_Portfolios_ME_Prior_60_13',\n",
       " '25_Portfolios_ME_Prior_60_13_Daily',\n",
       " '10_Portfolios_Prior_60_13',\n",
       " '10_Portfolios_Prior_60_13_Daily',\n",
       " 'Portfolios_Formed_on_AC',\n",
       " '25_Portfolios_ME_AC_5x5',\n",
       " 'Portfolios_Formed_on_BETA',\n",
       " '25_Portfolios_ME_BETA_5x5',\n",
       " 'Portfolios_Formed_on_NI',\n",
       " '25_Portfolios_ME_NI_5x5',\n",
       " 'Portfolios_Formed_on_VAR',\n",
       " '25_Portfolios_ME_VAR_5x5',\n",
       " 'Portfolios_Formed_on_RESVAR',\n",
       " '25_Portfolios_ME_RESVAR_5x5',\n",
       " '5_Industry_Portfolios',\n",
       " '5_Industry_Portfolios_Wout_Div',\n",
       " '5_Industry_Portfolios_daily',\n",
       " '10_Industry_Portfolios',\n",
       " '10_Industry_Portfolios_Wout_Div',\n",
       " '10_Industry_Portfolios_daily',\n",
       " '12_Industry_Portfolios',\n",
       " '12_Industry_Portfolios_Wout_Div',\n",
       " '12_Industry_Portfolios_daily',\n",
       " '17_Industry_Portfolios',\n",
       " '17_Industry_Portfolios_Wout_Div',\n",
       " '17_Industry_Portfolios_daily',\n",
       " '30_Industry_Portfolios',\n",
       " '30_Industry_Portfolios_Wout_Div',\n",
       " '30_Industry_Portfolios_daily',\n",
       " '38_Industry_Portfolios',\n",
       " '38_Industry_Portfolios_Wout_Div',\n",
       " '38_Industry_Portfolios_daily',\n",
       " '48_Industry_Portfolios',\n",
       " '48_Industry_Portfolios_Wout_Div',\n",
       " '48_Industry_Portfolios_daily',\n",
       " '49_Industry_Portfolios',\n",
       " '49_Industry_Portfolios_Wout_Div',\n",
       " '49_Industry_Portfolios_daily',\n",
       " 'ME_Breakpoints',\n",
       " 'BE-ME_Breakpoints',\n",
       " 'OP_Breakpoints',\n",
       " 'INV_Breakpoints',\n",
       " 'E-P_Breakpoints',\n",
       " 'CF-P_Breakpoints',\n",
       " 'D-P_Breakpoints',\n",
       " 'Prior_2-12_Breakpoints',\n",
       " 'Developed_6_Portfolios_ME_BE-ME',\n",
       " 'Developed_6_Portfolios_ME_BE-ME_daily',\n",
       " 'Developed_ex_US_6_Portfolios_ME_BE-ME',\n",
       " 'Developed_ex_US_6_Portfolios_ME_BE-ME_daily',\n",
       " 'Europe_6_Portfolios_ME_BE-ME',\n",
       " 'Europe_6_Portfolios_ME_BE-ME_daily',\n",
       " 'Japan_6_Portfolios_ME_BE-ME',\n",
       " 'Japan_6_Portfolios_ME_BE-ME_daily',\n",
       " 'Asia_Pacific_ex_Japan_6_Portfolios_ME_BE-ME',\n",
       " 'Asia_Pacific_ex_Japan_6_Portfolios_ME_BE-ME_daily',\n",
       " 'North_America_6_Portfolios_ME_BE-ME',\n",
       " 'North_America_6_Portfolios_ME_BE-ME_daily',\n",
       " 'Developed_25_Portfolios_ME_BE-ME',\n",
       " 'Developed_25_Portfolios_ME_BE-ME_daily',\n",
       " 'Developed_ex_US_25_Portfolios_ME_BE-ME',\n",
       " 'Developed_ex_US_25_Portfolios_ME_BE-ME_daily',\n",
       " 'Europe_25_Portfolios_ME_BE-ME',\n",
       " 'Europe_25_Portfolios_ME_BE-ME_daily',\n",
       " 'Japan_25_Portfolios_ME_BE-ME',\n",
       " 'Japan_25_Portfolios_ME_BE-ME_daily',\n",
       " 'Asia_Pacific_ex_Japan_25_Portfolios_ME_BE-ME',\n",
       " 'Asia_Pacific_ex_Japan_25_Portfolios_ME_BE-ME_daily',\n",
       " 'North_America_25_Portfolios_ME_BE-ME',\n",
       " 'North_America_25_Portfolios_ME_BE-ME_daily',\n",
       " 'Developed_6_Portfolios_ME_OP',\n",
       " 'Developed_6_Portfolios_ME_OP_Daily',\n",
       " 'Developed_ex_US_6_Portfolios_ME_OP',\n",
       " 'Developed_ex_US_6_Portfolios_ME_OP_Daily',\n",
       " 'Europe_6_Portfolios_ME_OP',\n",
       " 'Europe_6_Portfolios_ME_OP_Daily',\n",
       " 'Japan_6_Portfolios_ME_OP',\n",
       " 'Japan_6_Portfolios_ME_OP_Daily',\n",
       " 'Asia_Pacific_ex_Japan_6_Portfolios_ME_OP',\n",
       " 'Asia_Pacific_ex_Japan_6_Portfolios_ME_OP_Daily',\n",
       " 'North_America_6_Portfolios_ME_OP',\n",
       " 'North_America_6_Portfolios_ME_OP_Daily',\n",
       " 'Developed_25_Portfolios_ME_OP',\n",
       " 'Developed_25_Portfolios_ME_OP_Daily',\n",
       " 'Developed_ex_US_25_Portfolios_ME_OP',\n",
       " 'Developed_ex_US_25_Portfolios_ME_OP_Daily',\n",
       " 'Europe_25_Portfolios_ME_OP',\n",
       " 'Europe_25_Portfolios_ME_OP_Daily',\n",
       " 'Japan_25_Portfolios_ME_OP',\n",
       " 'Japan_25_Portfolios_ME_OP_Daily',\n",
       " 'Asia_Pacific_ex_Japan_25_Portfolios_ME_OP',\n",
       " 'Asia_Pacific_ex_Japan_25_Portfolios_ME_OP_Daily',\n",
       " 'North_America_25_Portfolios_ME_OP',\n",
       " 'North_America_25_Portfolios_ME_OP_Daily',\n",
       " 'Developed_6_Portfolios_ME_INV',\n",
       " 'Developed_6_Portfolios_ME_INV_Daily',\n",
       " 'Developed_ex_US_6_Portfolios_ME_INV',\n",
       " 'Developed_ex_US_6_Portfolios_ME_INV_Daily',\n",
       " 'Europe_6_Portfolios_ME_INV',\n",
       " 'Europe_6_Portfolios_ME_INV_Daily',\n",
       " 'Japan_6_Portfolios_ME_INV',\n",
       " 'Japan_6_Portfolios_ME_INV_Daily',\n",
       " 'Asia_Pacific_ex_Japan_6_Portfolios_ME_INV',\n",
       " 'Asia_Pacific_ex_Japan_6_Portfolios_ME_INV_Daily',\n",
       " 'North_America_6_Portfolios_ME_INV',\n",
       " 'North_America_6_Portfolios_ME_INV_Daily',\n",
       " 'Developed_25_Portfolios_ME_INV',\n",
       " 'Developed_25_Portfolios_ME_INV_Daily',\n",
       " 'Developed_ex_US_25_Portfolios_ME_INV',\n",
       " 'Developed_ex_US_25_Portfolios_ME_INV_Daily',\n",
       " 'Europe_25_Portfolios_ME_INV',\n",
       " 'Europe_25_Portfolios_ME_INV_Daily',\n",
       " 'Japan_25_Portfolios_ME_INV',\n",
       " 'Japan_25_Portfolios_ME_INV_Daily',\n",
       " 'Asia_Pacific_ex_Japan_25_Portfolios_ME_INV',\n",
       " 'Asia_Pacific_ex_Japan_25_Portfolios_ME_INV_Daily',\n",
       " 'North_America_25_Portfolios_ME_INV',\n",
       " 'North_America_25_Portfolios_ME_INV_Daily',\n",
       " 'Developed_6_Portfolios_ME_Prior_12_2',\n",
       " 'Developed_6_Portfolios_ME_Prior_250_20_daily',\n",
       " 'Developed_ex_US_6_Portfolios_ME_Prior_12_2',\n",
       " 'Developed_ex_US_6_Portfolios_ME_Prior_250_20_daily',\n",
       " 'Europe_6_Portfolios_ME_Prior_12_2',\n",
       " 'Europe_6_Portfolios_ME_Prior_250_20_daily',\n",
       " 'Japan_6_Portfolios_ME_Prior_12_2',\n",
       " 'Japan_6_Portfolios_ME_Prior_250_20_daily',\n",
       " 'Asia_Pacific_ex_Japan_6_Portfolios_ME_Prior_12_2',\n",
       " 'Asia_Pacific_ex_Japan_6_Portfolios_ME_Prior_250_20_daily',\n",
       " 'North_America_6_Portfolios_ME_Prior_12_2',\n",
       " 'North_America_6_Portfolios_ME_Prior_250_20_daily',\n",
       " 'Developed_25_Portfolios_ME_Prior_12_2',\n",
       " 'Developed_25_Portfolios_ME_Prior_250_20_daily',\n",
       " 'Developed_ex_US_25_Portfolios_ME_Prior_12_2',\n",
       " 'Developed_ex_US_25_Portfolios_ME_Prior_250_20_daily',\n",
       " 'Europe_25_Portfolios_ME_Prior_12_2',\n",
       " 'Europe_25_Portfolios_ME_Prior_250_20_daily',\n",
       " 'Japan_25_Portfolios_ME_Prior_12_2',\n",
       " 'Japan_25_Portfolios_ME_Prior_250_20_daily',\n",
       " 'Asia_Pacific_ex_Japan_25_Portfolios_ME_Prior_12_2',\n",
       " 'Asia_Pacific_ex_Japan_25_Portfolios_ME_Prior_250_20_daily',\n",
       " 'North_America_25_Portfolios_ME_Prior_12_2',\n",
       " 'North_America_25_Portfolios_ME_Prior_250_20_daily',\n",
       " 'Developed_32_Portfolios_ME_BE-ME_OP_2x4x4',\n",
       " 'Developed_ex_US_32_Portfolios_ME_BE-ME_OP_2x4x4',\n",
       " 'Europe_32_Portfolios_ME_BE-ME_OP_2x4x4',\n",
       " 'Japan_32_Portfolios_ME_BE-ME_OP_2x4x4',\n",
       " 'Asia_Pacific_ex_Japan_32_Portfolios_ME_BE-ME_OP_2x4x4',\n",
       " 'North_America_32_Portfolios_ME_BE-ME_OP_2x4x4',\n",
       " 'Developed_32_Portfolios_ME_BE-ME_INV(TA)_2x4x4',\n",
       " 'Developed_ex_US_32_Portfolios_ME_BE-ME_INV(TA)_2x4x4',\n",
       " 'Europe_32_Portfolios_ME_BE-ME_INV(TA)_2x4x4',\n",
       " 'Japan_32_Portfolios_ME_BE-ME_INV(TA)_2x4x4',\n",
       " 'Asia_Pacific_ex_Japan_32_Portfolios_ME_BE-ME_INV(TA)_2x4x4',\n",
       " 'North_America_32_Portfolios_ME_BE-ME_INV(TA)_2x4x4',\n",
       " 'Developed_32_Portfolios_ME_INV(TA)_OP_2x4x4',\n",
       " 'Developed_ex_US_32_Portfolios_ME_INV(TA)_OP_2x4x4',\n",
       " 'Europe_32_Portfolios_ME_INV(TA)_OP_2x4x4',\n",
       " 'Japan_32_Portfolios_ME_INV(TA)_OP_2x4x4',\n",
       " 'Asia_Pacific_ex_Japan_32_Portfolios_ME_INV(TA)_OP_2x4x4',\n",
       " 'North_America_32_Portfolios_ME_INV(TA)_OP_2x4x4',\n",
       " 'Emerging_Markets_6_Portfolios_ME_BE-ME',\n",
       " 'Emerging_Markets_6_Portfolios_ME_OP',\n",
       " 'Emerging_Markets_6_Portfolios_ME_INV',\n",
       " 'Emerging_Markets_6_Portfolios_ME_Prior_12_2',\n",
       " 'Emerging_Markets_4_Portfolios_BE-ME_OP',\n",
       " 'Emerging_Markets_4_Portfolios_OP_INV',\n",
       " 'Emerging_Markets_4_Portfolios_BE-ME_INV']"
      ]
     },
     "execution_count": 7,
     "metadata": {},
     "output_type": "execute_result"
    }
   ],
   "source": [
    "#create dataframe with elements of datasets but not with factors\n",
    "datasets_not_factors = [dataset for dataset in datasets if dataset not in datasets_factors]\n",
    "datasets_not_factors"
   ]
  },
  {
   "cell_type": "code",
   "execution_count": null,
   "metadata": {},
   "outputs": [
    {
     "name": "stdout",
     "output_type": "stream",
     "text": [
      "No. of datasets: 297\n",
      "Number of datasets_factors: 49\n",
      "Number of datasets_factors_5F: 15\n",
      "Number of datasets_factors_3F: 12\n",
      "Number of datasets_factors_others: 22\n",
      "Number of datasets_factors_weekly: 1\n",
      "Number of datasets_not_factors: 248\n"
     ]
    }
   ],
   "source": [
    "print(f'No. of datasets: {len(datasets)}')                                      # 297  last update: 2025-02-25, same one year ago on 2024-02-27\n",
    "print(f'Number of datasets_factors: {len(datasets_factors)}')                   # 49\n",
    "print(f'Number of datasets_factors_5F: {len(datasets_factors_5F)}')             # 15\n",
    "print(f'Number of datasets_factors_3F: {len(datasets_factors_3F)}')             # 12\n",
    "print(f'Number of datasets_factors_others: {len(datasets_factors_others)}')     # 22\n",
    "print(f'Number of datasets_factors_weekly: {len(datasets_factors_weekly)}')     # 1\n",
    "print(f'Number of datasets_not_factors: {len(datasets_not_factors)}')           # 248"
   ]
  },
  {
   "cell_type": "code",
   "execution_count": 9,
   "metadata": {},
   "outputs": [
    {
     "name": "stderr",
     "output_type": "stream",
     "text": [
      "C:\\Users\\phil7\\AppData\\Local\\Temp\\ipykernel_50820\\94585646.py:9: FutureWarning: The argument 'date_parser' is deprecated and will be removed in a future version. Please use 'date_format' instead, or read your data in as 'object' dtype and then call 'to_datetime'.\n",
      "  ff3 = web.DataReader(ff3_dataset_name, 'famafrench', start)[0]\n",
      "C:\\Users\\phil7\\AppData\\Local\\Temp\\ipykernel_50820\\94585646.py:9: FutureWarning: The argument 'date_parser' is deprecated and will be removed in a future version. Please use 'date_format' instead, or read your data in as 'object' dtype and then call 'to_datetime'.\n",
      "  ff3 = web.DataReader(ff3_dataset_name, 'famafrench', start)[0]\n",
      "C:\\Users\\phil7\\AppData\\Local\\Temp\\ipykernel_50820\\94585646.py:10: FutureWarning: The argument 'date_parser' is deprecated and will be removed in a future version. Please use 'date_format' instead, or read your data in as 'object' dtype and then call 'to_datetime'.\n",
      "  ff5 = web.DataReader(ff5_dataset_name, 'famafrench', start)[0]\n",
      "C:\\Users\\phil7\\AppData\\Local\\Temp\\ipykernel_50820\\94585646.py:10: FutureWarning: The argument 'date_parser' is deprecated and will be removed in a future version. Please use 'date_format' instead, or read your data in as 'object' dtype and then call 'to_datetime'.\n",
      "  ff5 = web.DataReader(ff5_dataset_name, 'famafrench', start)[0]\n"
     ]
    },
    {
     "data": {
      "application/vnd.microsoft.datawrangler.viewer.v0+json": {
       "columns": [
        {
         "name": "Date",
         "rawType": "datetime64[ns]",
         "type": "datetime"
        },
        {
         "name": "('Fama-French 3-Factor Model', 'Mkt-RF')",
         "rawType": "float64",
         "type": "float"
        },
        {
         "name": "('Fama-French 3-Factor Model', 'SMB')",
         "rawType": "float64",
         "type": "float"
        },
        {
         "name": "('Fama-French 3-Factor Model', 'HML')",
         "rawType": "float64",
         "type": "float"
        },
        {
         "name": "('Fama-French 3-Factor Model', 'RF')",
         "rawType": "float64",
         "type": "float"
        },
        {
         "name": "('Fama-French 5-Factor Model', 'Mkt-RF')",
         "rawType": "float64",
         "type": "float"
        },
        {
         "name": "('Fama-French 5-Factor Model', 'SMB')",
         "rawType": "float64",
         "type": "float"
        },
        {
         "name": "('Fama-French 5-Factor Model', 'HML')",
         "rawType": "float64",
         "type": "float"
        },
        {
         "name": "('Fama-French 5-Factor Model', 'RMW')",
         "rawType": "float64",
         "type": "float"
        },
        {
         "name": "('Fama-French 5-Factor Model', 'CMA')",
         "rawType": "float64",
         "type": "float"
        },
        {
         "name": "('Fama-French 5-Factor Model', 'RF')",
         "rawType": "float64",
         "type": "float"
        }
       ],
       "conversionMethod": "pd.DataFrame",
       "ref": "dec3fc39-51bc-4370-92c7-07165d3e7914",
       "rows": [
        [
         "1979-12-31 00:00:00",
         "0.0179",
         "0.0417",
         "-0.021",
         "0.0095",
         "0.0179",
         "0.0432",
         "-0.021",
         "-0.006999999999999999",
         "-0.0092",
         "0.0095"
        ],
        [
         "1980-01-31 00:00:00",
         "0.055099999999999996",
         "0.016200000000000003",
         "0.0175",
         "0.008",
         "0.055099999999999996",
         "0.0183",
         "0.0175",
         "-0.017",
         "0.016399999999999998",
         "0.008"
        ],
        [
         "1980-02-29 00:00:00",
         "-0.012199999999999999",
         "-0.018500000000000003",
         "0.0060999999999999995",
         "0.0089",
         "-0.012199999999999999",
         "-0.015700000000000002",
         "0.0060999999999999995",
         "0.0004",
         "0.0268",
         "0.0089"
        ],
        [
         "1980-03-31 00:00:00",
         "-0.129",
         "-0.0664",
         "-0.0101",
         "0.0121",
         "-0.129",
         "-0.0693",
         "-0.0101",
         "0.0146",
         "-0.011899999999999999",
         "0.0121"
        ],
        [
         "1980-04-30 00:00:00",
         "0.0397",
         "0.0105",
         "0.0106",
         "0.0126",
         "0.0397",
         "0.0105",
         "0.0106",
         "-0.021",
         "0.0029",
         "0.0126"
        ],
        [
         "1980-05-31 00:00:00",
         "0.0526",
         "0.0213",
         "0.0038",
         "0.008100000000000001",
         "0.0526",
         "0.021099999999999997",
         "0.0038",
         "0.0034000000000000002",
         "-0.0031",
         "0.008100000000000001"
        ],
        [
         "1980-06-30 00:00:00",
         "0.030600000000000002",
         "0.0166",
         "-0.0076",
         "0.0060999999999999995",
         "0.030600000000000002",
         "0.0141",
         "-0.0076",
         "-0.0015",
         "-0.0126",
         "0.0060999999999999995"
        ],
        [
         "1980-07-31 00:00:00",
         "0.0649",
         "0.0414",
         "-0.0641",
         "0.0053",
         "0.0649",
         "0.0382",
         "-0.0641",
         "0.0406",
         "-0.024300000000000002",
         "0.0053"
        ],
        [
         "1980-08-31 00:00:00",
         "0.018000000000000002",
         "0.0392",
         "-0.026000000000000002",
         "0.0064",
         "0.018000000000000002",
         "0.0425",
         "-0.026000000000000002",
         "0.0206",
         "-0.0086",
         "0.0064"
        ],
        [
         "1980-09-30 00:00:00",
         "0.0219",
         "0.0098",
         "-0.045899999999999996",
         "0.0075",
         "0.0219",
         "0.0067",
         "-0.045899999999999996",
         "0.0191",
         "-0.0276",
         "0.0075"
        ],
        [
         "1980-10-31 00:00:00",
         "0.0106",
         "0.024700000000000003",
         "-0.0276",
         "0.0095",
         "0.0106",
         "0.0233",
         "-0.0276",
         "0.0165",
         "-0.0115",
         "0.0095"
        ],
        [
         "1980-11-30 00:00:00",
         "0.0959",
         "-0.0336",
         "-0.0833",
         "0.0096",
         "0.0959",
         "-0.0331",
         "-0.0833",
         "0.045",
         "-0.056600000000000004",
         "0.0096"
        ],
        [
         "1980-12-31 00:00:00",
         "-0.0452",
         "-0.0026",
         "0.0279",
         "0.0131",
         "-0.0452",
         "-0.0029",
         "0.0279",
         "-0.0129",
         "0.0124",
         "0.0131"
        ],
        [
         "1981-01-31 00:00:00",
         "-0.0504",
         "0.0292",
         "0.0672",
         "0.0104",
         "-0.0504",
         "0.0329",
         "0.0672",
         "-0.0351",
         "0.0433",
         "0.0104"
        ],
        [
         "1981-02-28 00:00:00",
         "0.005699999999999999",
         "-0.0034000000000000002",
         "0.0102",
         "0.010700000000000001",
         "0.005699999999999999",
         "-0.005",
         "0.0102",
         "0.0021",
         "0.0222",
         "0.010700000000000001"
        ],
        [
         "1981-03-31 00:00:00",
         "0.0356",
         "0.0354",
         "0.0064",
         "0.0121",
         "0.0356",
         "0.0302",
         "0.0064",
         "-0.022400000000000003",
         "-0.0054",
         "0.0121"
        ],
        [
         "1981-04-30 00:00:00",
         "-0.021099999999999997",
         "0.044000000000000004",
         "0.022799999999999997",
         "0.0108",
         "-0.021099999999999997",
         "0.045899999999999996",
         "0.022799999999999997",
         "0.0083",
         "0.0124",
         "0.0108"
        ],
        [
         "1981-05-31 00:00:00",
         "0.0011",
         "0.02",
         "-0.0042",
         "0.0115",
         "0.0011",
         "0.0245",
         "-0.0042",
         "0.003",
         "-0.015300000000000001",
         "0.0115"
        ],
        [
         "1981-06-30 00:00:00",
         "-0.0236",
         "-0.0083",
         "0.0513",
         "0.013500000000000002",
         "-0.0236",
         "-0.0096",
         "0.0513",
         "-0.0137",
         "0.026600000000000002",
         "0.013500000000000002"
        ],
        [
         "1981-07-31 00:00:00",
         "-0.0154",
         "-0.0219",
         "-0.005",
         "0.0124",
         "-0.0154",
         "-0.020499999999999997",
         "-0.005",
         "0.0126",
         "-0.0254",
         "0.0124"
        ],
        [
         "1981-08-31 00:00:00",
         "-0.0704",
         "-0.0195",
         "0.047599999999999996",
         "0.0128",
         "-0.0704",
         "-0.0181",
         "0.047599999999999996",
         "-0.0032",
         "0.0141",
         "0.0128"
        ],
        [
         "1981-09-30 00:00:00",
         "-0.0717",
         "-0.0265",
         "0.051699999999999996",
         "0.0124",
         "-0.0717",
         "-0.0245",
         "0.051699999999999996",
         "0.0008",
         "0.0263",
         "0.0124"
        ],
        [
         "1981-10-31 00:00:00",
         "0.0492",
         "0.0223",
         "-0.0421",
         "0.0121",
         "0.0492",
         "0.023700000000000002",
         "-0.0421",
         "0.0315",
         "-0.0301",
         "0.0121"
        ],
        [
         "1981-11-30 00:00:00",
         "0.0336",
         "-0.0103",
         "0.0183",
         "0.010700000000000001",
         "0.0336",
         "-0.0151",
         "0.0183",
         "0.0008",
         "0.0095",
         "0.010700000000000001"
        ],
        [
         "1981-12-31 00:00:00",
         "-0.0365",
         "0.012",
         "0.008100000000000001",
         "0.0087",
         "-0.0365",
         "0.012",
         "0.008100000000000001",
         "0.0022",
         "0.025",
         "0.0087"
        ],
        [
         "1982-01-31 00:00:00",
         "-0.032400000000000005",
         "-0.0128",
         "0.0319",
         "0.008",
         "-0.032400000000000005",
         "-0.011399999999999999",
         "0.0319",
         "-0.0149",
         "0.0192",
         "0.008"
        ],
        [
         "1982-02-28 00:00:00",
         "-0.058600000000000006",
         "0.0044",
         "0.0605",
         "0.0092",
         "-0.058600000000000006",
         "0.0034999999999999996",
         "0.0605",
         "-0.0348",
         "0.045599999999999995",
         "0.0092"
        ],
        [
         "1982-03-31 00:00:00",
         "-0.0187",
         "-0.0021",
         "0.0381",
         "0.0098",
         "-0.0187",
         "-0.0005",
         "0.0381",
         "-0.0138",
         "0.024900000000000002",
         "0.0098"
        ],
        [
         "1982-04-30 00:00:00",
         "0.0327",
         "0.0147",
         "-0.027000000000000003",
         "0.0113",
         "0.0327",
         "0.0109",
         "-0.027000000000000003",
         "0.015700000000000002",
         "-0.0001",
         "0.0113"
        ],
        [
         "1982-05-31 00:00:00",
         "-0.039900000000000005",
         "0.0052",
         "0.0175",
         "0.0106",
         "-0.039900000000000005",
         "0.0064",
         "0.0175",
         "0.0087",
         "-0.003",
         "0.0106"
        ],
        [
         "1982-06-30 00:00:00",
         "-0.030899999999999997",
         "-0.004",
         "0.015300000000000001",
         "0.0096",
         "-0.030899999999999997",
         "-0.0052",
         "0.015300000000000001",
         "0.0001",
         "0.027200000000000002",
         "0.0096"
        ],
        [
         "1982-07-31 00:00:00",
         "-0.0319",
         "0.0083",
         "0.0009",
         "0.0105",
         "-0.0319",
         "0.0095",
         "0.0009",
         "0.0104",
         "0.0155",
         "0.0105"
        ],
        [
         "1982-08-31 00:00:00",
         "0.1114",
         "-0.0414",
         "0.0095",
         "0.0076",
         "0.1114",
         "-0.0435",
         "0.0095",
         "-0.0189",
         "0.0009",
         "0.0076"
        ],
        [
         "1982-09-30 00:00:00",
         "0.0129",
         "0.029500000000000002",
         "0.0028000000000000004",
         "0.0051",
         "0.0129",
         "0.026099999999999998",
         "0.0028000000000000004",
         "0.021400000000000002",
         "-0.0004",
         "0.0051"
        ],
        [
         "1982-10-31 00:00:00",
         "0.113",
         "0.023399999999999997",
         "-0.0366",
         "0.0059",
         "0.113",
         "0.0192",
         "-0.0366",
         "0.0029",
         "-0.0034000000000000002",
         "0.0059"
        ],
        [
         "1982-11-30 00:00:00",
         "0.0467",
         "0.0467",
         "-0.0187",
         "0.0063",
         "0.0467",
         "0.0443",
         "-0.0187",
         "-0.0097",
         "0.0027",
         "0.0063"
        ],
        [
         "1982-12-31 00:00:00",
         "0.0055000000000000005",
         "-0.0022",
         "-0.0002",
         "0.0067",
         "0.0055000000000000005",
         "-0.0004",
         "-0.0002",
         "-0.0001",
         "0.0102",
         "0.0067"
        ],
        [
         "1983-01-31 00:00:00",
         "0.036000000000000004",
         "0.0273",
         "-0.0075",
         "0.0069",
         "0.036000000000000004",
         "0.0335",
         "-0.0075",
         "-0.0155",
         "-0.0058",
         "0.0069"
        ],
        [
         "1983-02-28 00:00:00",
         "0.0259",
         "0.0327",
         "0.006999999999999999",
         "0.0062",
         "0.0259",
         "0.0292",
         "0.006999999999999999",
         "-0.0052",
         "0.0105",
         "0.0062"
        ],
        [
         "1983-03-31 00:00:00",
         "0.0282",
         "0.0173",
         "0.0202",
         "0.0063",
         "0.0282",
         "0.0137",
         "0.0202",
         "-0.0017000000000000001",
         "0.0274",
         "0.0063"
        ],
        [
         "1983-04-30 00:00:00",
         "0.0667",
         "0.005",
         "0.0049",
         "0.0070999999999999995",
         "0.0667",
         "0.0048",
         "0.0049",
         "-0.0011",
         "0.014199999999999999",
         "0.0070999999999999995"
        ],
        [
         "1983-05-31 00:00:00",
         "0.0052",
         "0.062400000000000004",
         "-0.013999999999999999",
         "0.0069",
         "0.0052",
         "0.063",
         "-0.013999999999999999",
         "-0.0184",
         "-0.0151",
         "0.0069"
        ],
        [
         "1983-06-30 00:00:00",
         "0.030699999999999998",
         "0.0095",
         "-0.039",
         "0.0067",
         "0.030699999999999998",
         "0.0118",
         "-0.039",
         "0.026000000000000002",
         "-0.0087",
         "0.0067"
        ],
        [
         "1983-07-31 00:00:00",
         "-0.0407",
         "0.015",
         "0.0562",
         "0.0074",
         "-0.0407",
         "0.0101",
         "0.0562",
         "-0.0014000000000000002",
         "0.0281",
         "0.0074"
        ],
        [
         "1983-08-31 00:00:00",
         "-0.005",
         "-0.042800000000000005",
         "0.0554",
         "0.0076",
         "-0.005",
         "-0.0432",
         "0.0554",
         "0.0051",
         "0.019",
         "0.0076"
        ],
        [
         "1983-09-30 00:00:00",
         "0.0091",
         "0.0060999999999999995",
         "0.0101",
         "0.0076",
         "0.0091",
         "0.003",
         "0.0101",
         "0.0124",
         "0.005",
         "0.0076"
        ],
        [
         "1983-10-31 00:00:00",
         "-0.0344",
         "-0.035699999999999996",
         "0.049699999999999994",
         "0.0076",
         "-0.0344",
         "-0.0377",
         "0.049699999999999994",
         "-0.0077",
         "0.0296",
         "0.0076"
        ],
        [
         "1983-11-30 00:00:00",
         "0.0216",
         "0.020099999999999996",
         "-0.0072",
         "0.006999999999999999",
         "0.0216",
         "0.0187",
         "-0.0072",
         "-0.0067",
         "0.0066",
         "0.006999999999999999"
        ],
        [
         "1983-12-31 00:00:00",
         "-0.0178",
         "-0.0027",
         "0.0173",
         "0.0073",
         "-0.0178",
         "-0.0045000000000000005",
         "0.0173",
         "0.016399999999999998",
         "0.0127",
         "0.0073"
        ],
        [
         "1984-01-31 00:00:00",
         "-0.0192",
         "-0.0038",
         "0.0758",
         "0.0076",
         "-0.0192",
         "-0.0004",
         "0.0758",
         "-0.0089",
         "0.0292",
         "0.0076"
        ]
       ],
       "shape": {
        "columns": 10,
        "rows": 541
       }
      },
      "text/html": [
       "<div>\n",
       "<style scoped>\n",
       "    .dataframe tbody tr th:only-of-type {\n",
       "        vertical-align: middle;\n",
       "    }\n",
       "\n",
       "    .dataframe tbody tr th {\n",
       "        vertical-align: top;\n",
       "    }\n",
       "\n",
       "    .dataframe thead tr th {\n",
       "        text-align: left;\n",
       "    }\n",
       "\n",
       "    .dataframe thead tr:last-of-type th {\n",
       "        text-align: right;\n",
       "    }\n",
       "</style>\n",
       "<table border=\"1\" class=\"dataframe\">\n",
       "  <thead>\n",
       "    <tr>\n",
       "      <th></th>\n",
       "      <th colspan=\"4\" halign=\"left\">Fama-French 3-Factor Model</th>\n",
       "      <th colspan=\"6\" halign=\"left\">Fama-French 5-Factor Model</th>\n",
       "    </tr>\n",
       "    <tr>\n",
       "      <th></th>\n",
       "      <th>Mkt-RF</th>\n",
       "      <th>SMB</th>\n",
       "      <th>HML</th>\n",
       "      <th>RF</th>\n",
       "      <th>Mkt-RF</th>\n",
       "      <th>SMB</th>\n",
       "      <th>HML</th>\n",
       "      <th>RMW</th>\n",
       "      <th>CMA</th>\n",
       "      <th>RF</th>\n",
       "    </tr>\n",
       "    <tr>\n",
       "      <th>Date</th>\n",
       "      <th></th>\n",
       "      <th></th>\n",
       "      <th></th>\n",
       "      <th></th>\n",
       "      <th></th>\n",
       "      <th></th>\n",
       "      <th></th>\n",
       "      <th></th>\n",
       "      <th></th>\n",
       "      <th></th>\n",
       "    </tr>\n",
       "  </thead>\n",
       "  <tbody>\n",
       "    <tr>\n",
       "      <th>1979-12-31</th>\n",
       "      <td>0.0179</td>\n",
       "      <td>0.0417</td>\n",
       "      <td>-0.0210</td>\n",
       "      <td>0.0095</td>\n",
       "      <td>0.0179</td>\n",
       "      <td>0.0432</td>\n",
       "      <td>-0.0210</td>\n",
       "      <td>-0.0070</td>\n",
       "      <td>-0.0092</td>\n",
       "      <td>0.0095</td>\n",
       "    </tr>\n",
       "    <tr>\n",
       "      <th>1980-01-31</th>\n",
       "      <td>0.0551</td>\n",
       "      <td>0.0162</td>\n",
       "      <td>0.0175</td>\n",
       "      <td>0.0080</td>\n",
       "      <td>0.0551</td>\n",
       "      <td>0.0183</td>\n",
       "      <td>0.0175</td>\n",
       "      <td>-0.0170</td>\n",
       "      <td>0.0164</td>\n",
       "      <td>0.0080</td>\n",
       "    </tr>\n",
       "    <tr>\n",
       "      <th>1980-02-29</th>\n",
       "      <td>-0.0122</td>\n",
       "      <td>-0.0185</td>\n",
       "      <td>0.0061</td>\n",
       "      <td>0.0089</td>\n",
       "      <td>-0.0122</td>\n",
       "      <td>-0.0157</td>\n",
       "      <td>0.0061</td>\n",
       "      <td>0.0004</td>\n",
       "      <td>0.0268</td>\n",
       "      <td>0.0089</td>\n",
       "    </tr>\n",
       "    <tr>\n",
       "      <th>1980-03-31</th>\n",
       "      <td>-0.1290</td>\n",
       "      <td>-0.0664</td>\n",
       "      <td>-0.0101</td>\n",
       "      <td>0.0121</td>\n",
       "      <td>-0.1290</td>\n",
       "      <td>-0.0693</td>\n",
       "      <td>-0.0101</td>\n",
       "      <td>0.0146</td>\n",
       "      <td>-0.0119</td>\n",
       "      <td>0.0121</td>\n",
       "    </tr>\n",
       "    <tr>\n",
       "      <th>1980-04-30</th>\n",
       "      <td>0.0397</td>\n",
       "      <td>0.0105</td>\n",
       "      <td>0.0106</td>\n",
       "      <td>0.0126</td>\n",
       "      <td>0.0397</td>\n",
       "      <td>0.0105</td>\n",
       "      <td>0.0106</td>\n",
       "      <td>-0.0210</td>\n",
       "      <td>0.0029</td>\n",
       "      <td>0.0126</td>\n",
       "    </tr>\n",
       "    <tr>\n",
       "      <th>...</th>\n",
       "      <td>...</td>\n",
       "      <td>...</td>\n",
       "      <td>...</td>\n",
       "      <td>...</td>\n",
       "      <td>...</td>\n",
       "      <td>...</td>\n",
       "      <td>...</td>\n",
       "      <td>...</td>\n",
       "      <td>...</td>\n",
       "      <td>...</td>\n",
       "    </tr>\n",
       "    <tr>\n",
       "      <th>2024-08-31</th>\n",
       "      <td>0.0161</td>\n",
       "      <td>-0.0355</td>\n",
       "      <td>-0.0113</td>\n",
       "      <td>0.0048</td>\n",
       "      <td>0.0161</td>\n",
       "      <td>-0.0365</td>\n",
       "      <td>-0.0113</td>\n",
       "      <td>0.0085</td>\n",
       "      <td>0.0086</td>\n",
       "      <td>0.0048</td>\n",
       "    </tr>\n",
       "    <tr>\n",
       "      <th>2024-09-30</th>\n",
       "      <td>0.0174</td>\n",
       "      <td>-0.0017</td>\n",
       "      <td>-0.0259</td>\n",
       "      <td>0.0040</td>\n",
       "      <td>0.0174</td>\n",
       "      <td>-0.0102</td>\n",
       "      <td>-0.0259</td>\n",
       "      <td>0.0004</td>\n",
       "      <td>-0.0026</td>\n",
       "      <td>0.0040</td>\n",
       "    </tr>\n",
       "    <tr>\n",
       "      <th>2024-10-31</th>\n",
       "      <td>-0.0097</td>\n",
       "      <td>-0.0101</td>\n",
       "      <td>0.0089</td>\n",
       "      <td>0.0039</td>\n",
       "      <td>-0.0097</td>\n",
       "      <td>-0.0088</td>\n",
       "      <td>0.0089</td>\n",
       "      <td>-0.0138</td>\n",
       "      <td>0.0103</td>\n",
       "      <td>0.0039</td>\n",
       "    </tr>\n",
       "    <tr>\n",
       "      <th>2024-11-30</th>\n",
       "      <td>0.0651</td>\n",
       "      <td>0.0463</td>\n",
       "      <td>-0.0005</td>\n",
       "      <td>0.0040</td>\n",
       "      <td>0.0651</td>\n",
       "      <td>0.0478</td>\n",
       "      <td>-0.0005</td>\n",
       "      <td>-0.0262</td>\n",
       "      <td>-0.0217</td>\n",
       "      <td>0.0040</td>\n",
       "    </tr>\n",
       "    <tr>\n",
       "      <th>2024-12-31</th>\n",
       "      <td>-0.0317</td>\n",
       "      <td>-0.0273</td>\n",
       "      <td>-0.0295</td>\n",
       "      <td>0.0037</td>\n",
       "      <td>-0.0317</td>\n",
       "      <td>-0.0387</td>\n",
       "      <td>-0.0295</td>\n",
       "      <td>0.0182</td>\n",
       "      <td>-0.0110</td>\n",
       "      <td>0.0037</td>\n",
       "    </tr>\n",
       "  </tbody>\n",
       "</table>\n",
       "<p>541 rows × 10 columns</p>\n",
       "</div>"
      ],
      "text/plain": [
       "           Fama-French 3-Factor Model                          \\\n",
       "                               Mkt-RF     SMB     HML      RF   \n",
       "Date                                                            \n",
       "1979-12-31                     0.0179  0.0417 -0.0210  0.0095   \n",
       "1980-01-31                     0.0551  0.0162  0.0175  0.0080   \n",
       "1980-02-29                    -0.0122 -0.0185  0.0061  0.0089   \n",
       "1980-03-31                    -0.1290 -0.0664 -0.0101  0.0121   \n",
       "1980-04-30                     0.0397  0.0105  0.0106  0.0126   \n",
       "...                               ...     ...     ...     ...   \n",
       "2024-08-31                     0.0161 -0.0355 -0.0113  0.0048   \n",
       "2024-09-30                     0.0174 -0.0017 -0.0259  0.0040   \n",
       "2024-10-31                    -0.0097 -0.0101  0.0089  0.0039   \n",
       "2024-11-30                     0.0651  0.0463 -0.0005  0.0040   \n",
       "2024-12-31                    -0.0317 -0.0273 -0.0295  0.0037   \n",
       "\n",
       "           Fama-French 5-Factor Model                                          \n",
       "                               Mkt-RF     SMB     HML     RMW     CMA      RF  \n",
       "Date                                                                           \n",
       "1979-12-31                     0.0179  0.0432 -0.0210 -0.0070 -0.0092  0.0095  \n",
       "1980-01-31                     0.0551  0.0183  0.0175 -0.0170  0.0164  0.0080  \n",
       "1980-02-29                    -0.0122 -0.0157  0.0061  0.0004  0.0268  0.0089  \n",
       "1980-03-31                    -0.1290 -0.0693 -0.0101  0.0146 -0.0119  0.0121  \n",
       "1980-04-30                     0.0397  0.0105  0.0106 -0.0210  0.0029  0.0126  \n",
       "...                               ...     ...     ...     ...     ...     ...  \n",
       "2024-08-31                     0.0161 -0.0365 -0.0113  0.0085  0.0086  0.0048  \n",
       "2024-09-30                     0.0174 -0.0102 -0.0259  0.0004 -0.0026  0.0040  \n",
       "2024-10-31                    -0.0097 -0.0088  0.0089 -0.0138  0.0103  0.0039  \n",
       "2024-11-30                     0.0651  0.0478 -0.0005 -0.0262 -0.0217  0.0040  \n",
       "2024-12-31                    -0.0317 -0.0387 -0.0295  0.0182 -0.0110  0.0037  \n",
       "\n",
       "[541 rows x 10 columns]"
      ]
     },
     "execution_count": 9,
     "metadata": {},
     "output_type": "execute_result"
    }
   ],
   "source": [
    "# Fama-French 3F Model & Fama-French 5F Model\n",
    "\n",
    "# Selecting the dataset of interest in string format\n",
    "ff3_dataset_name = 'F-F_Research_Data_Factors'\n",
    "ff5_dataset_name = 'F-F_Research_Data_5_Factors_2x3'\n",
    "# start = date_format('2010-1-1'', %Y-%m-%d')\n",
    "start = datetime.datetime(1979, 12, 31)\n",
    "\n",
    "ff3 = web.DataReader(ff3_dataset_name, 'famafrench', start)[0]\n",
    "ff5 = web.DataReader(ff5_dataset_name, 'famafrench', start)[0]\n",
    "\n",
    "#convert in decimal format\n",
    "ff3 = ff3.apply(lambda x: x/ 100)\n",
    "ff5 = ff5.apply(lambda x: x/ 100)\n",
    "\n",
    "#convert PeriodDtype index to datestamp index and end of moonth\n",
    "ff3.index = ff3.index.to_timestamp() + pd.offsets.MonthEnd()\n",
    "ff5.index = ff5.index.to_timestamp() + pd.offsets.MonthEnd()\n",
    "#ff3.index = ff3.index \n",
    "\n",
    "#rename columns\n",
    "ff3_name = 'Fama-French 3-Factor Model'\n",
    "ff5_name = 'Fama-French 5-Factor Model'\n",
    "\n",
    "# Display two lines of headers with a list of lists\n",
    "ff3_superheader = [ff3_name] * len(ff3.columns)\n",
    "ff3_headers = list(ff3.columns)\n",
    "ff5_superheader = [ff5_name] * len(ff5.columns)\n",
    "ff5_headers = list(ff5.columns)\n",
    "ff3_two_lines_headers = [ff3_superheader, ff3_headers]\n",
    "ff5_two_lines_headers = [ff5_superheader, ff5_headers]\n",
    "# ff3.columns = ff3_two_lines_headers\n",
    "# ff5.columns = ff5_two_lines_headers\n",
    "\n",
    "#concatenate the two dataframes into one with subcategories in columns and add dataset name in columns header\n",
    "ff3_5 = pd.concat([ff3, ff5], axis=1)\n",
    "\n",
    "# concatenate the two headers into one horizontal header with ff3_two_lines_headers and ff5_two_lines_headers\n",
    "ff3_5.columns = [ff3_superheader + ff5_superheader, ff3_headers + ff5_headers]\n",
    "#ff3_5.columns = pd.MultiIndex.from_arrays([ff3_superheader + ff5_superheader, ff3_headers + ff5_headers])\n",
    "ff3_5"
   ]
  },
  {
   "cell_type": "code",
   "execution_count": 10,
   "metadata": {},
   "outputs": [
    {
     "data": {
      "application/vnd.microsoft.datawrangler.viewer.v0+json": {
       "columns": [
        {
         "name": "Date",
         "rawType": "datetime64[ns]",
         "type": "datetime"
        },
        {
         "name": "Mkt-RF",
         "rawType": "float64",
         "type": "float"
        },
        {
         "name": "SMB",
         "rawType": "float64",
         "type": "float"
        },
        {
         "name": "HML",
         "rawType": "float64",
         "type": "float"
        },
        {
         "name": "RF",
         "rawType": "float64",
         "type": "float"
        }
       ],
       "conversionMethod": "pd.DataFrame",
       "ref": "a72955a6-2769-4ee3-85ea-dbe7180ce92c",
       "rows": [
        [
         "1979-12-31 00:00:00",
         "0.0179",
         "0.0417",
         "-0.021",
         "0.0095"
        ],
        [
         "1980-01-31 00:00:00",
         "0.055099999999999996",
         "0.016200000000000003",
         "0.0175",
         "0.008"
        ],
        [
         "1980-02-29 00:00:00",
         "-0.012199999999999999",
         "-0.018500000000000003",
         "0.0060999999999999995",
         "0.0089"
        ],
        [
         "1980-03-31 00:00:00",
         "-0.129",
         "-0.0664",
         "-0.0101",
         "0.0121"
        ],
        [
         "1980-04-30 00:00:00",
         "0.0397",
         "0.0105",
         "0.0106",
         "0.0126"
        ],
        [
         "1980-05-31 00:00:00",
         "0.0526",
         "0.0213",
         "0.0038",
         "0.008100000000000001"
        ],
        [
         "1980-06-30 00:00:00",
         "0.030600000000000002",
         "0.0166",
         "-0.0076",
         "0.0060999999999999995"
        ],
        [
         "1980-07-31 00:00:00",
         "0.0649",
         "0.0414",
         "-0.0641",
         "0.0053"
        ],
        [
         "1980-08-31 00:00:00",
         "0.018000000000000002",
         "0.0392",
         "-0.026000000000000002",
         "0.0064"
        ],
        [
         "1980-09-30 00:00:00",
         "0.0219",
         "0.0098",
         "-0.045899999999999996",
         "0.0075"
        ],
        [
         "1980-10-31 00:00:00",
         "0.0106",
         "0.024700000000000003",
         "-0.0276",
         "0.0095"
        ],
        [
         "1980-11-30 00:00:00",
         "0.0959",
         "-0.0336",
         "-0.0833",
         "0.0096"
        ],
        [
         "1980-12-31 00:00:00",
         "-0.0452",
         "-0.0026",
         "0.0279",
         "0.0131"
        ],
        [
         "1981-01-31 00:00:00",
         "-0.0504",
         "0.0292",
         "0.0672",
         "0.0104"
        ],
        [
         "1981-02-28 00:00:00",
         "0.005699999999999999",
         "-0.0034000000000000002",
         "0.0102",
         "0.010700000000000001"
        ],
        [
         "1981-03-31 00:00:00",
         "0.0356",
         "0.0354",
         "0.0064",
         "0.0121"
        ],
        [
         "1981-04-30 00:00:00",
         "-0.021099999999999997",
         "0.044000000000000004",
         "0.022799999999999997",
         "0.0108"
        ],
        [
         "1981-05-31 00:00:00",
         "0.0011",
         "0.02",
         "-0.0042",
         "0.0115"
        ],
        [
         "1981-06-30 00:00:00",
         "-0.0236",
         "-0.0083",
         "0.0513",
         "0.013500000000000002"
        ],
        [
         "1981-07-31 00:00:00",
         "-0.0154",
         "-0.0219",
         "-0.005",
         "0.0124"
        ],
        [
         "1981-08-31 00:00:00",
         "-0.0704",
         "-0.0195",
         "0.047599999999999996",
         "0.0128"
        ],
        [
         "1981-09-30 00:00:00",
         "-0.0717",
         "-0.0265",
         "0.051699999999999996",
         "0.0124"
        ],
        [
         "1981-10-31 00:00:00",
         "0.0492",
         "0.0223",
         "-0.0421",
         "0.0121"
        ],
        [
         "1981-11-30 00:00:00",
         "0.0336",
         "-0.0103",
         "0.0183",
         "0.010700000000000001"
        ],
        [
         "1981-12-31 00:00:00",
         "-0.0365",
         "0.012",
         "0.008100000000000001",
         "0.0087"
        ],
        [
         "1982-01-31 00:00:00",
         "-0.032400000000000005",
         "-0.0128",
         "0.0319",
         "0.008"
        ],
        [
         "1982-02-28 00:00:00",
         "-0.058600000000000006",
         "0.0044",
         "0.0605",
         "0.0092"
        ],
        [
         "1982-03-31 00:00:00",
         "-0.0187",
         "-0.0021",
         "0.0381",
         "0.0098"
        ],
        [
         "1982-04-30 00:00:00",
         "0.0327",
         "0.0147",
         "-0.027000000000000003",
         "0.0113"
        ],
        [
         "1982-05-31 00:00:00",
         "-0.039900000000000005",
         "0.0052",
         "0.0175",
         "0.0106"
        ],
        [
         "1982-06-30 00:00:00",
         "-0.030899999999999997",
         "-0.004",
         "0.015300000000000001",
         "0.0096"
        ],
        [
         "1982-07-31 00:00:00",
         "-0.0319",
         "0.0083",
         "0.0009",
         "0.0105"
        ],
        [
         "1982-08-31 00:00:00",
         "0.1114",
         "-0.0414",
         "0.0095",
         "0.0076"
        ],
        [
         "1982-09-30 00:00:00",
         "0.0129",
         "0.029500000000000002",
         "0.0028000000000000004",
         "0.0051"
        ],
        [
         "1982-10-31 00:00:00",
         "0.113",
         "0.023399999999999997",
         "-0.0366",
         "0.0059"
        ],
        [
         "1982-11-30 00:00:00",
         "0.0467",
         "0.0467",
         "-0.0187",
         "0.0063"
        ],
        [
         "1982-12-31 00:00:00",
         "0.0055000000000000005",
         "-0.0022",
         "-0.0002",
         "0.0067"
        ],
        [
         "1983-01-31 00:00:00",
         "0.036000000000000004",
         "0.0273",
         "-0.0075",
         "0.0069"
        ],
        [
         "1983-02-28 00:00:00",
         "0.0259",
         "0.0327",
         "0.006999999999999999",
         "0.0062"
        ],
        [
         "1983-03-31 00:00:00",
         "0.0282",
         "0.0173",
         "0.0202",
         "0.0063"
        ],
        [
         "1983-04-30 00:00:00",
         "0.0667",
         "0.005",
         "0.0049",
         "0.0070999999999999995"
        ],
        [
         "1983-05-31 00:00:00",
         "0.0052",
         "0.062400000000000004",
         "-0.013999999999999999",
         "0.0069"
        ],
        [
         "1983-06-30 00:00:00",
         "0.030699999999999998",
         "0.0095",
         "-0.039",
         "0.0067"
        ],
        [
         "1983-07-31 00:00:00",
         "-0.0407",
         "0.015",
         "0.0562",
         "0.0074"
        ],
        [
         "1983-08-31 00:00:00",
         "-0.005",
         "-0.042800000000000005",
         "0.0554",
         "0.0076"
        ],
        [
         "1983-09-30 00:00:00",
         "0.0091",
         "0.0060999999999999995",
         "0.0101",
         "0.0076"
        ],
        [
         "1983-10-31 00:00:00",
         "-0.0344",
         "-0.035699999999999996",
         "0.049699999999999994",
         "0.0076"
        ],
        [
         "1983-11-30 00:00:00",
         "0.0216",
         "0.020099999999999996",
         "-0.0072",
         "0.006999999999999999"
        ],
        [
         "1983-12-31 00:00:00",
         "-0.0178",
         "-0.0027",
         "0.0173",
         "0.0073"
        ],
        [
         "1984-01-31 00:00:00",
         "-0.0192",
         "-0.0038",
         "0.0758",
         "0.0076"
        ]
       ],
       "shape": {
        "columns": 4,
        "rows": 541
       }
      },
      "text/html": [
       "<div>\n",
       "<style scoped>\n",
       "    .dataframe tbody tr th:only-of-type {\n",
       "        vertical-align: middle;\n",
       "    }\n",
       "\n",
       "    .dataframe tbody tr th {\n",
       "        vertical-align: top;\n",
       "    }\n",
       "\n",
       "    .dataframe thead th {\n",
       "        text-align: right;\n",
       "    }\n",
       "</style>\n",
       "<table border=\"1\" class=\"dataframe\">\n",
       "  <thead>\n",
       "    <tr style=\"text-align: right;\">\n",
       "      <th></th>\n",
       "      <th>Mkt-RF</th>\n",
       "      <th>SMB</th>\n",
       "      <th>HML</th>\n",
       "      <th>RF</th>\n",
       "    </tr>\n",
       "    <tr>\n",
       "      <th>Date</th>\n",
       "      <th></th>\n",
       "      <th></th>\n",
       "      <th></th>\n",
       "      <th></th>\n",
       "    </tr>\n",
       "  </thead>\n",
       "  <tbody>\n",
       "    <tr>\n",
       "      <th>1979-12-31</th>\n",
       "      <td>0.0179</td>\n",
       "      <td>0.0417</td>\n",
       "      <td>-0.0210</td>\n",
       "      <td>0.0095</td>\n",
       "    </tr>\n",
       "    <tr>\n",
       "      <th>1980-01-31</th>\n",
       "      <td>0.0551</td>\n",
       "      <td>0.0162</td>\n",
       "      <td>0.0175</td>\n",
       "      <td>0.0080</td>\n",
       "    </tr>\n",
       "    <tr>\n",
       "      <th>1980-02-29</th>\n",
       "      <td>-0.0122</td>\n",
       "      <td>-0.0185</td>\n",
       "      <td>0.0061</td>\n",
       "      <td>0.0089</td>\n",
       "    </tr>\n",
       "    <tr>\n",
       "      <th>1980-03-31</th>\n",
       "      <td>-0.1290</td>\n",
       "      <td>-0.0664</td>\n",
       "      <td>-0.0101</td>\n",
       "      <td>0.0121</td>\n",
       "    </tr>\n",
       "    <tr>\n",
       "      <th>1980-04-30</th>\n",
       "      <td>0.0397</td>\n",
       "      <td>0.0105</td>\n",
       "      <td>0.0106</td>\n",
       "      <td>0.0126</td>\n",
       "    </tr>\n",
       "    <tr>\n",
       "      <th>...</th>\n",
       "      <td>...</td>\n",
       "      <td>...</td>\n",
       "      <td>...</td>\n",
       "      <td>...</td>\n",
       "    </tr>\n",
       "    <tr>\n",
       "      <th>2024-08-31</th>\n",
       "      <td>0.0161</td>\n",
       "      <td>-0.0355</td>\n",
       "      <td>-0.0113</td>\n",
       "      <td>0.0048</td>\n",
       "    </tr>\n",
       "    <tr>\n",
       "      <th>2024-09-30</th>\n",
       "      <td>0.0174</td>\n",
       "      <td>-0.0017</td>\n",
       "      <td>-0.0259</td>\n",
       "      <td>0.0040</td>\n",
       "    </tr>\n",
       "    <tr>\n",
       "      <th>2024-10-31</th>\n",
       "      <td>-0.0097</td>\n",
       "      <td>-0.0101</td>\n",
       "      <td>0.0089</td>\n",
       "      <td>0.0039</td>\n",
       "    </tr>\n",
       "    <tr>\n",
       "      <th>2024-11-30</th>\n",
       "      <td>0.0651</td>\n",
       "      <td>0.0463</td>\n",
       "      <td>-0.0005</td>\n",
       "      <td>0.0040</td>\n",
       "    </tr>\n",
       "    <tr>\n",
       "      <th>2024-12-31</th>\n",
       "      <td>-0.0317</td>\n",
       "      <td>-0.0273</td>\n",
       "      <td>-0.0295</td>\n",
       "      <td>0.0037</td>\n",
       "    </tr>\n",
       "  </tbody>\n",
       "</table>\n",
       "<p>541 rows × 4 columns</p>\n",
       "</div>"
      ],
      "text/plain": [
       "            Mkt-RF     SMB     HML      RF\n",
       "Date                                      \n",
       "1979-12-31  0.0179  0.0417 -0.0210  0.0095\n",
       "1980-01-31  0.0551  0.0162  0.0175  0.0080\n",
       "1980-02-29 -0.0122 -0.0185  0.0061  0.0089\n",
       "1980-03-31 -0.1290 -0.0664 -0.0101  0.0121\n",
       "1980-04-30  0.0397  0.0105  0.0106  0.0126\n",
       "...            ...     ...     ...     ...\n",
       "2024-08-31  0.0161 -0.0355 -0.0113  0.0048\n",
       "2024-09-30  0.0174 -0.0017 -0.0259  0.0040\n",
       "2024-10-31 -0.0097 -0.0101  0.0089  0.0039\n",
       "2024-11-30  0.0651  0.0463 -0.0005  0.0040\n",
       "2024-12-31 -0.0317 -0.0273 -0.0295  0.0037\n",
       "\n",
       "[541 rows x 4 columns]"
      ]
     },
     "execution_count": 10,
     "metadata": {},
     "output_type": "execute_result"
    }
   ],
   "source": [
    "ff3"
   ]
  },
  {
   "cell_type": "code",
   "execution_count": 11,
   "metadata": {},
   "outputs": [
    {
     "data": {
      "text/plain": [
       "Timestamp('2024-12-31 00:00:00')"
      ]
     },
     "execution_count": 11,
     "metadata": {},
     "output_type": "execute_result"
    }
   ],
   "source": [
    "#last date of the dataset\n",
    "ff_last = ff3.index[-1]\n",
    "ff_last"
   ]
  },
  {
   "cell_type": "code",
   "execution_count": 18,
   "metadata": {},
   "outputs": [
    {
     "name": "stderr",
     "output_type": "stream",
     "text": [
      "[*********************100%***********************]  1 of 1 completed\n"
     ]
    },
    {
     "data": {
      "application/vnd.microsoft.datawrangler.viewer.v0+json": {
       "columns": [
        {
         "name": "Date",
         "rawType": "datetime64[ns]",
         "type": "datetime"
        },
        {
         "name": "Asset",
         "rawType": "float64",
         "type": "float"
        }
       ],
       "conversionMethod": "pd.DataFrame",
       "ref": "459eb831-9961-476a-87ad-20978495ab31",
       "rows": [
        [
         "2024-12-24 00:00:00",
         "21.639999389648438"
        ],
        [
         "2024-12-26 00:00:00",
         "21.600000381469727"
        ],
        [
         "2024-12-27 00:00:00",
         "21.3700008392334"
        ],
        [
         "2024-12-30 00:00:00",
         "21.15999984741211"
        ],
        [
         "2024-12-31 00:00:00",
         "21.030000686645508"
        ]
       ],
       "shape": {
        "columns": 1,
        "rows": 5
       }
      },
      "text/html": [
       "<div>\n",
       "<style scoped>\n",
       "    .dataframe tbody tr th:only-of-type {\n",
       "        vertical-align: middle;\n",
       "    }\n",
       "\n",
       "    .dataframe tbody tr th {\n",
       "        vertical-align: top;\n",
       "    }\n",
       "\n",
       "    .dataframe thead th {\n",
       "        text-align: right;\n",
       "    }\n",
       "</style>\n",
       "<table border=\"1\" class=\"dataframe\">\n",
       "  <thead>\n",
       "    <tr style=\"text-align: right;\">\n",
       "      <th></th>\n",
       "      <th>Asset</th>\n",
       "    </tr>\n",
       "    <tr>\n",
       "      <th>Date</th>\n",
       "      <th></th>\n",
       "    </tr>\n",
       "  </thead>\n",
       "  <tbody>\n",
       "    <tr>\n",
       "      <th>2024-12-24</th>\n",
       "      <td>21.639999</td>\n",
       "    </tr>\n",
       "    <tr>\n",
       "      <th>2024-12-26</th>\n",
       "      <td>21.600000</td>\n",
       "    </tr>\n",
       "    <tr>\n",
       "      <th>2024-12-27</th>\n",
       "      <td>21.370001</td>\n",
       "    </tr>\n",
       "    <tr>\n",
       "      <th>2024-12-30</th>\n",
       "      <td>21.160000</td>\n",
       "    </tr>\n",
       "    <tr>\n",
       "      <th>2024-12-31</th>\n",
       "      <td>21.030001</td>\n",
       "    </tr>\n",
       "  </tbody>\n",
       "</table>\n",
       "</div>"
      ],
      "text/plain": [
       "                Asset\n",
       "Date                 \n",
       "2024-12-24  21.639999\n",
       "2024-12-26  21.600000\n",
       "2024-12-27  21.370001\n",
       "2024-12-30  21.160000\n",
       "2024-12-31  21.030001"
      ]
     },
     "execution_count": 18,
     "metadata": {},
     "output_type": "execute_result"
    }
   ],
   "source": [
    "# get time series of FCNTX\n",
    "asset_prices = yf.download('FCNTX')\n",
    "# stop at ff_last\n",
    "asset_prices = asset_prices[:ff_last]\n",
    "asset_prices = asset_prices[['Close']]\n",
    "asset_prices.columns = ['Asset']\n",
    "\n",
    "asset_prices.tail()"
   ]
  },
  {
   "cell_type": "code",
   "execution_count": 19,
   "metadata": {},
   "outputs": [
    {
     "name": "stderr",
     "output_type": "stream",
     "text": [
      "C:\\Users\\phil7\\AppData\\Local\\Temp\\ipykernel_50820\\874138046.py:1: FutureWarning: 'M' is deprecated and will be removed in a future version, please use 'ME' instead.\n",
      "  asset_prices_monthly = asset_prices.resample('M').last()\n"
     ]
    }
   ],
   "source": [
    "asset_prices_monthly = asset_prices.resample('M').last()\n",
    "asset_prices_monthly = asset_prices_monthly[:'2019-06-30']\n",
    "ff3 = ff3['1980-02-29':'2019-06-30']\n",
    "asset = asset_prices_monthly.pct_change().dropna()"
   ]
  },
  {
   "cell_type": "code",
   "execution_count": 20,
   "metadata": {},
   "outputs": [
    {
     "data": {
      "application/vnd.microsoft.datawrangler.viewer.v0+json": {
       "columns": [
        {
         "name": "Date",
         "rawType": "datetime64[ns]",
         "type": "datetime"
        },
        {
         "name": "Asset",
         "rawType": "float64",
         "type": "float"
        },
        {
         "name": "Asset-RF",
         "rawType": "float64",
         "type": "float"
        }
       ],
       "conversionMethod": "pd.DataFrame",
       "ref": "3604f6cc-d80c-44ad-8b2c-46515f35ab1d",
       "rows": [
        [
         "1980-02-29 00:00:00",
         "-0.016873721527579266",
         "-0.025773721527579264"
        ],
        [
         "1980-03-31 00:00:00",
         "-0.08943108637188013",
         "-0.10153108637188013"
        ],
        [
         "1980-04-30 00:00:00",
         "0.017857675768289116",
         "0.005257675768289116"
        ],
        [
         "1980-05-31 00:00:00",
         "0.07894703110395529",
         "0.0708470311039553"
        ],
        [
         "1980-06-30 00:00:00",
         "0.011743184260470718",
         "0.005643184260470719"
        ],
        [
         "1980-07-31 00:00:00",
         "0.10357182552330468",
         "0.09827182552330468"
        ],
        [
         "1980-08-31 00:00:00",
         "0.008090120040728843",
         "0.0016901200407288429"
        ],
        [
         "1980-09-30 00:00:00",
         "0.03611531973486004",
         "0.02861531973486004"
        ],
        [
         "1980-10-31 00:00:00",
         "0.019365243961841472",
         "0.009865243961841472"
        ],
        [
         "1980-11-30 00:00:00",
         "0.06458958447865082",
         "0.05498958447865082"
        ],
        [
         "1980-12-31 00:00:00",
         "0.01924614465326968",
         "0.006146144653269681"
        ],
        [
         "1981-01-31 00:00:00",
         "-0.16606035180341483",
         "-0.17646035180341482"
        ],
        [
         "1981-02-28 00:00:00",
         "0.05065540708864691",
         "0.03995540708864691"
        ],
        [
         "1981-03-31 00:00:00",
         "0.060681454006158875",
         "0.048581454006158875"
        ],
        [
         "1981-04-30 00:00:00",
         "0.0",
         "-0.0108"
        ],
        [
         "1981-05-31 00:00:00",
         "0.002351625207098529",
         "-0.009148374792901471"
        ],
        [
         "1981-06-30 00:00:00",
         "-0.0031277273719044763",
         "-0.016627727371904478"
        ],
        [
         "1981-07-31 00:00:00",
         "-0.034509642269284546",
         "-0.04690964226928455"
        ],
        [
         "1981-08-31 00:00:00",
         "-0.04711655431951589",
         "-0.05991655431951589"
        ],
        [
         "1981-09-30 00:00:00",
         "-0.04177305102948958",
         "-0.054173051029489584"
        ],
        [
         "1981-10-31 00:00:00",
         "0.01601388444559837",
         "0.00391388444559837"
        ],
        [
         "1981-11-30 00:00:00",
         "0.04553462649534379",
         "0.03483462649534379"
        ],
        [
         "1981-12-31 00:00:00",
         "-0.012424728700736853",
         "-0.021124728700736853"
        ],
        [
         "1982-01-31 00:00:00",
         "-0.1298119021792723",
         "-0.1378119021792723"
        ],
        [
         "1982-02-28 00:00:00",
         "-0.03395020894768053",
         "-0.04315020894768053"
        ],
        [
         "1982-03-31 00:00:00",
         "-0.007455368303595944",
         "-0.017255368303595944"
        ],
        [
         "1982-04-30 00:00:00",
         "0.038626992396891824",
         "0.027326992396891826"
        ],
        [
         "1982-05-31 00:00:00",
         "-0.04752097648412068",
         "-0.05812097648412068"
        ],
        [
         "1982-06-30 00:00:00",
         "-0.023861012965037953",
         "-0.03346101296503795"
        ],
        [
         "1982-07-31 00:00:00",
         "-0.04333302125040006",
         "-0.053833021250400064"
        ],
        [
         "1982-08-31 00:00:00",
         "0.14750247382732273",
         "0.13990247382732274"
        ],
        [
         "1982-09-30 00:00:00",
         "0.007085064250049067",
         "0.0019850642500490664"
        ],
        [
         "1982-10-31 00:00:00",
         "0.14371855027006397",
         "0.13781855027006398"
        ],
        [
         "1982-11-30 00:00:00",
         "0.014059581935323973",
         "0.0077595819353239726"
        ],
        [
         "1982-12-31 00:00:00",
         "0.0018120794399019147",
         "-0.0048879205600980856"
        ],
        [
         "1983-01-31 00:00:00",
         "0.02079538448291518",
         "0.01389538448291518"
        ],
        [
         "1983-02-28 00:00:00",
         "0.03808672911048139",
         "0.03188672911048139"
        ],
        [
         "1983-03-31 00:00:00",
         "0.0460756192607914",
         "0.0397756192607914"
        ],
        [
         "1983-04-30 00:00:00",
         "0.09543212183128547",
         "0.08833212183128547"
        ],
        [
         "1983-05-31 00:00:00",
         "-0.004467823510673208",
         "-0.011367823510673208"
        ],
        [
         "1983-06-30 00:00:00",
         "-0.0014958925022329206",
         "-0.008195892502232922"
        ],
        [
         "1983-07-31 00:00:00",
         "-0.05992524329377058",
         "-0.06732524329377058"
        ],
        [
         "1983-08-31 00:00:00",
         "0.00796784691389596",
         "0.0003678469138959596"
        ],
        [
         "1983-09-30 00:00:00",
         "0.011067452630386443",
         "0.003467452630386443"
        ],
        [
         "1983-10-31 00:00:00",
         "-0.03909290157511858",
         "-0.04669290157511858"
        ],
        [
         "1983-11-30 00:00:00",
         "0.06346639081235383",
         "0.056466390812353835"
        ],
        [
         "1983-12-31 00:00:00",
         "0.009360754891005518",
         "0.002060754891005518"
        ],
        [
         "1984-01-31 00:00:00",
         "-0.17203448264844756",
         "-0.17963448264844756"
        ],
        [
         "1984-02-29 00:00:00",
         "-0.08633767744743281",
         "-0.09343767744743281"
        ],
        [
         "1984-03-31 00:00:00",
         "-0.0031153811583848334",
         "-0.010415381158384834"
        ]
       ],
       "shape": {
        "columns": 2,
        "rows": 473
       }
      },
      "text/html": [
       "<div>\n",
       "<style scoped>\n",
       "    .dataframe tbody tr th:only-of-type {\n",
       "        vertical-align: middle;\n",
       "    }\n",
       "\n",
       "    .dataframe tbody tr th {\n",
       "        vertical-align: top;\n",
       "    }\n",
       "\n",
       "    .dataframe thead th {\n",
       "        text-align: right;\n",
       "    }\n",
       "</style>\n",
       "<table border=\"1\" class=\"dataframe\">\n",
       "  <thead>\n",
       "    <tr style=\"text-align: right;\">\n",
       "      <th></th>\n",
       "      <th>Asset</th>\n",
       "      <th>Asset-RF</th>\n",
       "    </tr>\n",
       "    <tr>\n",
       "      <th>Date</th>\n",
       "      <th></th>\n",
       "      <th></th>\n",
       "    </tr>\n",
       "  </thead>\n",
       "  <tbody>\n",
       "    <tr>\n",
       "      <th>1980-02-29</th>\n",
       "      <td>-0.016874</td>\n",
       "      <td>-0.025774</td>\n",
       "    </tr>\n",
       "    <tr>\n",
       "      <th>1980-03-31</th>\n",
       "      <td>-0.089431</td>\n",
       "      <td>-0.101531</td>\n",
       "    </tr>\n",
       "    <tr>\n",
       "      <th>1980-04-30</th>\n",
       "      <td>0.017858</td>\n",
       "      <td>0.005258</td>\n",
       "    </tr>\n",
       "    <tr>\n",
       "      <th>1980-05-31</th>\n",
       "      <td>0.078947</td>\n",
       "      <td>0.070847</td>\n",
       "    </tr>\n",
       "    <tr>\n",
       "      <th>1980-06-30</th>\n",
       "      <td>0.011743</td>\n",
       "      <td>0.005643</td>\n",
       "    </tr>\n",
       "    <tr>\n",
       "      <th>...</th>\n",
       "      <td>...</td>\n",
       "      <td>...</td>\n",
       "    </tr>\n",
       "    <tr>\n",
       "      <th>2019-02-28</th>\n",
       "      <td>0.023960</td>\n",
       "      <td>0.022160</td>\n",
       "    </tr>\n",
       "    <tr>\n",
       "      <th>2019-03-31</th>\n",
       "      <td>0.022077</td>\n",
       "      <td>0.020177</td>\n",
       "    </tr>\n",
       "    <tr>\n",
       "      <th>2019-04-30</th>\n",
       "      <td>0.048800</td>\n",
       "      <td>0.046700</td>\n",
       "    </tr>\n",
       "    <tr>\n",
       "      <th>2019-05-31</th>\n",
       "      <td>-0.057208</td>\n",
       "      <td>-0.059308</td>\n",
       "    </tr>\n",
       "    <tr>\n",
       "      <th>2019-06-30</th>\n",
       "      <td>0.066343</td>\n",
       "      <td>0.064543</td>\n",
       "    </tr>\n",
       "  </tbody>\n",
       "</table>\n",
       "<p>473 rows × 2 columns</p>\n",
       "</div>"
      ],
      "text/plain": [
       "               Asset  Asset-RF\n",
       "Date                          \n",
       "1980-02-29 -0.016874 -0.025774\n",
       "1980-03-31 -0.089431 -0.101531\n",
       "1980-04-30  0.017858  0.005258\n",
       "1980-05-31  0.078947  0.070847\n",
       "1980-06-30  0.011743  0.005643\n",
       "...              ...       ...\n",
       "2019-02-28  0.023960  0.022160\n",
       "2019-03-31  0.022077  0.020177\n",
       "2019-04-30  0.048800  0.046700\n",
       "2019-05-31 -0.057208 -0.059308\n",
       "2019-06-30  0.066343  0.064543\n",
       "\n",
       "[473 rows x 2 columns]"
      ]
     },
     "execution_count": 20,
     "metadata": {},
     "output_type": "execute_result"
    }
   ],
   "source": [
    "asset['Asset-RF'] = asset['Asset'] - ff3['RF']\n",
    "asset"
   ]
  },
  {
   "cell_type": "code",
   "execution_count": 21,
   "metadata": {},
   "outputs": [
    {
     "name": "stdout",
     "output_type": "stream",
     "text": [
      "                             OLS Regression Results                            \n",
      "===============================================================================\n",
      "Dep. Variable:                Asset-RF   R-squared:                       0.866\n",
      "Model:                             OLS   Adj. R-squared:                  0.863\n",
      "Method:                  Least Squares   F-statistic:                     309.0\n",
      "Date:              mar., 25 févr. 2025   Prob (F-statistic):           1.50e-22\n",
      "Time:                         21:18:57   Log-Likelihood:                 141.86\n",
      "No. Observations:                   50   AIC:                            -279.7\n",
      "Df Residuals:                       48   BIC:                            -275.9\n",
      "Df Model:                            1                                         \n",
      "Covariance Type:             nonrobust                                         \n",
      "==============================================================================\n",
      "                 coef    std err          t      P>|t|      [0.025      0.975]\n",
      "------------------------------------------------------------------------------\n",
      "const          0.0020      0.002      0.961      0.342      -0.002       0.006\n",
      "Mkt-RF         0.9697      0.055     17.578      0.000       0.859       1.081\n",
      "==============================================================================\n",
      "Omnibus:                        2.361   Durbin-Watson:                   2.002\n",
      "Prob(Omnibus):                  0.307   Jarque-Bera (JB):                1.436\n",
      "Skew:                          -0.273   Prob(JB):                        0.488\n",
      "Kurtosis:                       3.626   Cond. No.                         27.0\n",
      "==============================================================================\n",
      "\n",
      "Notes:\n",
      "[1] Standard Errors assume that the covariance matrix of the errors is correctly specified.\n"
     ]
    }
   ],
   "source": [
    "# Run the multiple regression model\n",
    "#dependent variable\n",
    "y = asset['Asset-RF'][-50:]\n",
    "#independent variables\n",
    "x = ff3['Mkt-RF'][-50:]\n",
    "x = sm.add_constant(x)\n",
    "#model\n",
    "model = sm.OLS(y, x)\n",
    "results = model.fit()\n",
    "print(results.summary())"
   ]
  },
  {
   "cell_type": "code",
   "execution_count": 22,
   "metadata": {},
   "outputs": [
    {
     "name": "stdout",
     "output_type": "stream",
     "text": [
      "                             OLS Regression Results                            \n",
      "===============================================================================\n",
      "Dep. Variable:                Asset-RF   R-squared:                       0.788\n",
      "Model:                             OLS   Adj. R-squared:                  0.787\n",
      "Method:                  Least Squares   F-statistic:                     580.6\n",
      "Date:              mar., 25 févr. 2025   Prob (F-statistic):          2.82e-157\n",
      "Time:                         21:19:03   Log-Likelihood:                 1152.9\n",
      "No. Observations:                  472   AIC:                            -2298.\n",
      "Df Residuals:                      468   BIC:                            -2281.\n",
      "Df Model:                            3                                         \n",
      "Covariance Type:             nonrobust                                         \n",
      "==============================================================================\n",
      "                 coef    std err          t      P>|t|      [0.025      0.975]\n",
      "------------------------------------------------------------------------------\n",
      "const          0.0012      0.001      1.207      0.228      -0.001       0.003\n",
      "Mkt-RF         0.8934      0.023     38.463      0.000       0.848       0.939\n",
      "SMB            0.0292      0.034      0.855      0.393      -0.038       0.096\n",
      "HML           -0.1078      0.035     -3.046      0.002      -0.177      -0.038\n",
      "==============================================================================\n",
      "Omnibus:                      232.886   Durbin-Watson:                   2.158\n",
      "Prob(Omnibus):                  0.000   Jarque-Bera (JB):             2590.831\n",
      "Skew:                          -1.853   Prob(JB):                         0.00\n",
      "Kurtosis:                      13.863   Cond. No.                         39.5\n",
      "==============================================================================\n",
      "\n",
      "Notes:\n",
      "[1] Standard Errors assume that the covariance matrix of the errors is correctly specified.\n"
     ]
    }
   ],
   "source": [
    "# Run the multiple regression model\n",
    "#dependent variable\n",
    "y = asset['Asset-RF'].loc['1980-01-31':'2019-05-31']\n",
    "#independent three variables\n",
    "x = ff3[['Mkt-RF', 'SMB', 'HML']].loc['1980-01-31':'2019-05-31']\n",
    "x = sm.add_constant(x)\n",
    "#model\n",
    "model = sm.OLS(y, x)\n",
    "print(model.fit().summary())"
   ]
  },
  {
   "cell_type": "code",
   "execution_count": 23,
   "metadata": {},
   "outputs": [
    {
     "data": {
      "text/plain": [
       "const     0.001195\n",
       "Mkt-RF    0.893397\n",
       "SMB       0.029186\n",
       "HML      -0.107796\n",
       "dtype: float64"
      ]
     },
     "execution_count": 23,
     "metadata": {},
     "output_type": "execute_result"
    }
   ],
   "source": [
    "model.fit().params"
   ]
  },
  {
   "cell_type": "code",
   "execution_count": 24,
   "metadata": {},
   "outputs": [
    {
     "data": {
      "application/vnd.microsoft.datawrangler.viewer.v0+json": {
       "columns": [
        {
         "name": "Date",
         "rawType": "datetime64[ns]",
         "type": "datetime"
        },
        {
         "name": "const",
         "rawType": "float64",
         "type": "float"
        },
        {
         "name": "Mkt-RF",
         "rawType": "float64",
         "type": "float"
        },
        {
         "name": "SMB",
         "rawType": "float64",
         "type": "float"
        },
        {
         "name": "HML",
         "rawType": "float64",
         "type": "float"
        },
        {
         "name": "Asset-RF",
         "rawType": "float64",
         "type": "float"
        }
       ],
       "conversionMethod": "pd.DataFrame",
       "ref": "8a285a6d-8d54-4c00-ade2-88999cd46b25",
       "rows": [
        [
         "1980-02-29 00:00:00",
         "1.0",
         "-0.012199999999999999",
         "-0.018500000000000003",
         "0.0060999999999999995",
         "-0.025773721527579264"
        ],
        [
         "1980-03-31 00:00:00",
         "1.0",
         "-0.129",
         "-0.0664",
         "-0.0101",
         "-0.10153108637188013"
        ],
        [
         "1980-04-30 00:00:00",
         "1.0",
         "0.0397",
         "0.0105",
         "0.0106",
         "0.005257675768289116"
        ],
        [
         "1980-05-31 00:00:00",
         "1.0",
         "0.0526",
         "0.0213",
         "0.0038",
         "0.0708470311039553"
        ],
        [
         "1980-06-30 00:00:00",
         "1.0",
         "0.030600000000000002",
         "0.0166",
         "-0.0076",
         "0.005643184260470719"
        ],
        [
         "1980-07-31 00:00:00",
         "1.0",
         "0.0649",
         "0.0414",
         "-0.0641",
         "0.09827182552330468"
        ],
        [
         "1980-08-31 00:00:00",
         "1.0",
         "0.018000000000000002",
         "0.0392",
         "-0.026000000000000002",
         "0.0016901200407288429"
        ],
        [
         "1980-09-30 00:00:00",
         "1.0",
         "0.0219",
         "0.0098",
         "-0.045899999999999996",
         "0.02861531973486004"
        ],
        [
         "1980-10-31 00:00:00",
         "1.0",
         "0.0106",
         "0.024700000000000003",
         "-0.0276",
         "0.009865243961841472"
        ],
        [
         "1980-11-30 00:00:00",
         "1.0",
         "0.0959",
         "-0.0336",
         "-0.0833",
         "0.05498958447865082"
        ],
        [
         "1980-12-31 00:00:00",
         "1.0",
         "-0.0452",
         "-0.0026",
         "0.0279",
         "0.006146144653269681"
        ],
        [
         "1981-01-31 00:00:00",
         "1.0",
         "-0.0504",
         "0.0292",
         "0.0672",
         "-0.17646035180341482"
        ],
        [
         "1981-02-28 00:00:00",
         "1.0",
         "0.005699999999999999",
         "-0.0034000000000000002",
         "0.0102",
         "0.03995540708864691"
        ],
        [
         "1981-03-31 00:00:00",
         "1.0",
         "0.0356",
         "0.0354",
         "0.0064",
         "0.048581454006158875"
        ],
        [
         "1981-04-30 00:00:00",
         "1.0",
         "-0.021099999999999997",
         "0.044000000000000004",
         "0.022799999999999997",
         "-0.0108"
        ],
        [
         "1981-05-31 00:00:00",
         "1.0",
         "0.0011",
         "0.02",
         "-0.0042",
         "-0.009148374792901471"
        ],
        [
         "1981-06-30 00:00:00",
         "1.0",
         "-0.0236",
         "-0.0083",
         "0.0513",
         "-0.016627727371904478"
        ],
        [
         "1981-07-31 00:00:00",
         "1.0",
         "-0.0154",
         "-0.0219",
         "-0.005",
         "-0.04690964226928455"
        ],
        [
         "1981-08-31 00:00:00",
         "1.0",
         "-0.0704",
         "-0.0195",
         "0.047599999999999996",
         "-0.05991655431951589"
        ],
        [
         "1981-09-30 00:00:00",
         "1.0",
         "-0.0717",
         "-0.0265",
         "0.051699999999999996",
         "-0.054173051029489584"
        ],
        [
         "1981-10-31 00:00:00",
         "1.0",
         "0.0492",
         "0.0223",
         "-0.0421",
         "0.00391388444559837"
        ],
        [
         "1981-11-30 00:00:00",
         "1.0",
         "0.0336",
         "-0.0103",
         "0.0183",
         "0.03483462649534379"
        ],
        [
         "1981-12-31 00:00:00",
         "1.0",
         "-0.0365",
         "0.012",
         "0.008100000000000001",
         "-0.021124728700736853"
        ],
        [
         "1982-01-31 00:00:00",
         "1.0",
         "-0.032400000000000005",
         "-0.0128",
         "0.0319",
         "-0.1378119021792723"
        ],
        [
         "1982-02-28 00:00:00",
         "1.0",
         "-0.058600000000000006",
         "0.0044",
         "0.0605",
         "-0.04315020894768053"
        ],
        [
         "1982-03-31 00:00:00",
         "1.0",
         "-0.0187",
         "-0.0021",
         "0.0381",
         "-0.017255368303595944"
        ],
        [
         "1982-04-30 00:00:00",
         "1.0",
         "0.0327",
         "0.0147",
         "-0.027000000000000003",
         "0.027326992396891826"
        ],
        [
         "1982-05-31 00:00:00",
         "1.0",
         "-0.039900000000000005",
         "0.0052",
         "0.0175",
         "-0.05812097648412068"
        ],
        [
         "1982-06-30 00:00:00",
         "1.0",
         "-0.030899999999999997",
         "-0.004",
         "0.015300000000000001",
         "-0.03346101296503795"
        ],
        [
         "1982-07-31 00:00:00",
         "1.0",
         "-0.0319",
         "0.0083",
         "0.0009",
         "-0.053833021250400064"
        ],
        [
         "1982-08-31 00:00:00",
         "1.0",
         "0.1114",
         "-0.0414",
         "0.0095",
         "0.13990247382732274"
        ],
        [
         "1982-09-30 00:00:00",
         "1.0",
         "0.0129",
         "0.029500000000000002",
         "0.0028000000000000004",
         "0.0019850642500490664"
        ],
        [
         "1982-10-31 00:00:00",
         "1.0",
         "0.113",
         "0.023399999999999997",
         "-0.0366",
         "0.13781855027006398"
        ],
        [
         "1982-11-30 00:00:00",
         "1.0",
         "0.0467",
         "0.0467",
         "-0.0187",
         "0.0077595819353239726"
        ],
        [
         "1982-12-31 00:00:00",
         "1.0",
         "0.0055000000000000005",
         "-0.0022",
         "-0.0002",
         "-0.0048879205600980856"
        ],
        [
         "1983-01-31 00:00:00",
         "1.0",
         "0.036000000000000004",
         "0.0273",
         "-0.0075",
         "0.01389538448291518"
        ],
        [
         "1983-02-28 00:00:00",
         "1.0",
         "0.0259",
         "0.0327",
         "0.006999999999999999",
         "0.03188672911048139"
        ],
        [
         "1983-03-31 00:00:00",
         "1.0",
         "0.0282",
         "0.0173",
         "0.0202",
         "0.0397756192607914"
        ],
        [
         "1983-04-30 00:00:00",
         "1.0",
         "0.0667",
         "0.005",
         "0.0049",
         "0.08833212183128547"
        ],
        [
         "1983-05-31 00:00:00",
         "1.0",
         "0.0052",
         "0.062400000000000004",
         "-0.013999999999999999",
         "-0.011367823510673208"
        ],
        [
         "1983-06-30 00:00:00",
         "1.0",
         "0.030699999999999998",
         "0.0095",
         "-0.039",
         "-0.008195892502232922"
        ],
        [
         "1983-07-31 00:00:00",
         "1.0",
         "-0.0407",
         "0.015",
         "0.0562",
         "-0.06732524329377058"
        ],
        [
         "1983-08-31 00:00:00",
         "1.0",
         "-0.005",
         "-0.042800000000000005",
         "0.0554",
         "0.0003678469138959596"
        ],
        [
         "1983-09-30 00:00:00",
         "1.0",
         "0.0091",
         "0.0060999999999999995",
         "0.0101",
         "0.003467452630386443"
        ],
        [
         "1983-10-31 00:00:00",
         "1.0",
         "-0.0344",
         "-0.035699999999999996",
         "0.049699999999999994",
         "-0.04669290157511858"
        ],
        [
         "1983-11-30 00:00:00",
         "1.0",
         "0.0216",
         "0.020099999999999996",
         "-0.0072",
         "0.056466390812353835"
        ],
        [
         "1983-12-31 00:00:00",
         "1.0",
         "-0.0178",
         "-0.0027",
         "0.0173",
         "0.002060754891005518"
        ],
        [
         "1984-01-31 00:00:00",
         "1.0",
         "-0.0192",
         "-0.0038",
         "0.0758",
         "-0.17963448264844756"
        ],
        [
         "1984-02-29 00:00:00",
         "1.0",
         "-0.0482",
         "-0.0169",
         "0.0333",
         "-0.09343767744743281"
        ],
        [
         "1984-03-31 00:00:00",
         "1.0",
         "0.0063",
         "0.0007000000000000001",
         "0.0046",
         "-0.010415381158384834"
        ]
       ],
       "shape": {
        "columns": 5,
        "rows": 472
       }
      },
      "text/html": [
       "<div>\n",
       "<style scoped>\n",
       "    .dataframe tbody tr th:only-of-type {\n",
       "        vertical-align: middle;\n",
       "    }\n",
       "\n",
       "    .dataframe tbody tr th {\n",
       "        vertical-align: top;\n",
       "    }\n",
       "\n",
       "    .dataframe thead th {\n",
       "        text-align: right;\n",
       "    }\n",
       "</style>\n",
       "<table border=\"1\" class=\"dataframe\">\n",
       "  <thead>\n",
       "    <tr style=\"text-align: right;\">\n",
       "      <th></th>\n",
       "      <th>const</th>\n",
       "      <th>Mkt-RF</th>\n",
       "      <th>SMB</th>\n",
       "      <th>HML</th>\n",
       "      <th>Asset-RF</th>\n",
       "    </tr>\n",
       "    <tr>\n",
       "      <th>Date</th>\n",
       "      <th></th>\n",
       "      <th></th>\n",
       "      <th></th>\n",
       "      <th></th>\n",
       "      <th></th>\n",
       "    </tr>\n",
       "  </thead>\n",
       "  <tbody>\n",
       "    <tr>\n",
       "      <th>1980-02-29</th>\n",
       "      <td>1.0</td>\n",
       "      <td>-0.0122</td>\n",
       "      <td>-0.0185</td>\n",
       "      <td>0.0061</td>\n",
       "      <td>-0.025774</td>\n",
       "    </tr>\n",
       "    <tr>\n",
       "      <th>1980-03-31</th>\n",
       "      <td>1.0</td>\n",
       "      <td>-0.1290</td>\n",
       "      <td>-0.0664</td>\n",
       "      <td>-0.0101</td>\n",
       "      <td>-0.101531</td>\n",
       "    </tr>\n",
       "    <tr>\n",
       "      <th>1980-04-30</th>\n",
       "      <td>1.0</td>\n",
       "      <td>0.0397</td>\n",
       "      <td>0.0105</td>\n",
       "      <td>0.0106</td>\n",
       "      <td>0.005258</td>\n",
       "    </tr>\n",
       "    <tr>\n",
       "      <th>1980-05-31</th>\n",
       "      <td>1.0</td>\n",
       "      <td>0.0526</td>\n",
       "      <td>0.0213</td>\n",
       "      <td>0.0038</td>\n",
       "      <td>0.070847</td>\n",
       "    </tr>\n",
       "    <tr>\n",
       "      <th>1980-06-30</th>\n",
       "      <td>1.0</td>\n",
       "      <td>0.0306</td>\n",
       "      <td>0.0166</td>\n",
       "      <td>-0.0076</td>\n",
       "      <td>0.005643</td>\n",
       "    </tr>\n",
       "    <tr>\n",
       "      <th>...</th>\n",
       "      <td>...</td>\n",
       "      <td>...</td>\n",
       "      <td>...</td>\n",
       "      <td>...</td>\n",
       "      <td>...</td>\n",
       "    </tr>\n",
       "    <tr>\n",
       "      <th>2019-01-31</th>\n",
       "      <td>1.0</td>\n",
       "      <td>0.0840</td>\n",
       "      <td>0.0288</td>\n",
       "      <td>-0.0045</td>\n",
       "      <td>0.092360</td>\n",
       "    </tr>\n",
       "    <tr>\n",
       "      <th>2019-02-28</th>\n",
       "      <td>1.0</td>\n",
       "      <td>0.0340</td>\n",
       "      <td>0.0206</td>\n",
       "      <td>-0.0271</td>\n",
       "      <td>0.022160</td>\n",
       "    </tr>\n",
       "    <tr>\n",
       "      <th>2019-03-31</th>\n",
       "      <td>1.0</td>\n",
       "      <td>0.0110</td>\n",
       "      <td>-0.0305</td>\n",
       "      <td>-0.0412</td>\n",
       "      <td>0.020177</td>\n",
       "    </tr>\n",
       "    <tr>\n",
       "      <th>2019-04-30</th>\n",
       "      <td>1.0</td>\n",
       "      <td>0.0397</td>\n",
       "      <td>-0.0172</td>\n",
       "      <td>0.0216</td>\n",
       "      <td>0.046700</td>\n",
       "    </tr>\n",
       "    <tr>\n",
       "      <th>2019-05-31</th>\n",
       "      <td>1.0</td>\n",
       "      <td>-0.0694</td>\n",
       "      <td>-0.0131</td>\n",
       "      <td>-0.0237</td>\n",
       "      <td>-0.059308</td>\n",
       "    </tr>\n",
       "  </tbody>\n",
       "</table>\n",
       "<p>472 rows × 5 columns</p>\n",
       "</div>"
      ],
      "text/plain": [
       "            const  Mkt-RF     SMB     HML  Asset-RF\n",
       "Date                                               \n",
       "1980-02-29    1.0 -0.0122 -0.0185  0.0061 -0.025774\n",
       "1980-03-31    1.0 -0.1290 -0.0664 -0.0101 -0.101531\n",
       "1980-04-30    1.0  0.0397  0.0105  0.0106  0.005258\n",
       "1980-05-31    1.0  0.0526  0.0213  0.0038  0.070847\n",
       "1980-06-30    1.0  0.0306  0.0166 -0.0076  0.005643\n",
       "...           ...     ...     ...     ...       ...\n",
       "2019-01-31    1.0  0.0840  0.0288 -0.0045  0.092360\n",
       "2019-02-28    1.0  0.0340  0.0206 -0.0271  0.022160\n",
       "2019-03-31    1.0  0.0110 -0.0305 -0.0412  0.020177\n",
       "2019-04-30    1.0  0.0397 -0.0172  0.0216  0.046700\n",
       "2019-05-31    1.0 -0.0694 -0.0131 -0.0237 -0.059308\n",
       "\n",
       "[472 rows x 5 columns]"
      ]
     },
     "execution_count": 24,
     "metadata": {},
     "output_type": "execute_result"
    }
   ],
   "source": [
    "pd.concat([x, y], axis=1)"
   ]
  }
 ],
 "metadata": {
  "kernelspec": {
   "display_name": ".venv",
   "language": "python",
   "name": "python3"
  },
  "language_info": {
   "codemirror_mode": {
    "name": "ipython",
    "version": 3
   },
   "file_extension": ".py",
   "mimetype": "text/x-python",
   "name": "python",
   "nbconvert_exporter": "python",
   "pygments_lexer": "ipython3",
   "version": "3.9.21"
  }
 },
 "nbformat": 4,
 "nbformat_minor": 2
}
