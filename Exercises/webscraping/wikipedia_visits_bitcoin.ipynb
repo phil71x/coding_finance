{
 "cells": [
  {
   "cell_type": "code",
   "execution_count": 1,
   "metadata": {},
   "outputs": [],
   "source": [
    "import requests\n",
    "import json\n",
    "import matplotlib.pyplot as plt\n",
    "import pandas as pd\n",
    "import numpy as np"
   ]
  },
  {
   "cell_type": "code",
   "execution_count": 2,
   "metadata": {},
   "outputs": [
    {
     "data": {
      "text/plain": [
       "' def get_daily_visits(page_title, start_date, end_date):\\n    S = requests.Session()\\n\\n    URL = f\"https://wikimedia.org/api/rest_v1/metrics/pageviews/per-article/en.wikipedia/all-access/all-agents/{page_title}/daily/{start_date}/{end_date}\"\\n\\n    R = S.get(url=URL)\\n    DATA = R.json()\\n\\n    print(\"Daily visits for the page %s:\" % page_title)\\n    for item in DATA[\\'items\\']:\\n        print(\"Date: %s, Views: %s\" % (item[\\'timestamp\\'], item[\\'views\\'])) '"
      ]
     },
     "execution_count": 2,
     "metadata": {},
     "output_type": "execute_result"
    }
   ],
   "source": [
    "\n",
    "\"\"\" def get_daily_visits(page_title, start_date, end_date):\n",
    "    S = requests.Session()\n",
    "\n",
    "    URL = f\"https://wikimedia.org/api/rest_v1/metrics/pageviews/per-article/en.wikipedia/all-access/all-agents/{page_title}/daily/{start_date}/{end_date}\"\n",
    "\n",
    "    R = S.get(url=URL)\n",
    "    DATA = R.json()\n",
    "\n",
    "    print(\"Daily visits for the page %s:\" % page_title)\n",
    "    for item in DATA['items']:\n",
    "        print(\"Date: %s, Views: %s\" % (item['timestamp'], item['views'])) \"\"\"\n"
   ]
  },
  {
   "cell_type": "code",
   "execution_count": 3,
   "metadata": {},
   "outputs": [],
   "source": [
    "\n",
    "def get_daily_visits(page_title, start_date, end_date):\n",
    "    S = requests.Session()\n",
    "\n",
    "    URL = f\"https://wikimedia.org/api/rest_v1/metrics/pageviews/per-article/en.wikipedia/all-access/all-agents/{page_title}/daily/{start_date}/{end_date}\"\n",
    "\n",
    "    R = S.get(url=URL)\n",
    "    if R.status_code != 200:\n",
    "        print(\"Error: Failed to retrieve data from API\")\n",
    "        return\n",
    "\n",
    "    try:\n",
    "        DATA = R.json()\n",
    "    except json.JSONDecodeError:\n",
    "        print(\"Error: Failed to parse response as JSON\")\n",
    "        return\n",
    "\n",
    "    print(\"Daily visits for the page %s:\" % page_title)\n",
    "    for item in DATA['items']:\n",
    "        print(\"Date: %s, Views: %s\" % (item['timestamp'], item['views']))\n"
   ]
  },
  {
   "cell_type": "code",
   "execution_count": 5,
   "metadata": {},
   "outputs": [
    {
     "name": "stdout",
     "output_type": "stream",
     "text": [
      "Error: Failed to retrieve data from API\n"
     ]
    }
   ],
   "source": [
    "# Set the page title and date range\n",
    "page_title = \"Bitcoin\"\n",
    "start_date = \"20231001\"\n",
    "end_date = \"20231031\"\n",
    "\n",
    "get_daily_visits(page_title, start_date, end_date)"
   ]
  }
 ],
 "metadata": {
  "kernelspec": {
   "display_name": "coding_finance_env",
   "language": "python",
   "name": "python3"
  },
  "language_info": {
   "codemirror_mode": {
    "name": "ipython",
    "version": 3
   },
   "file_extension": ".py",
   "mimetype": "text/x-python",
   "name": "python",
   "nbconvert_exporter": "python",
   "pygments_lexer": "ipython3",
   "version": "3.10.11"
  }
 },
 "nbformat": 4,
 "nbformat_minor": 2
}
