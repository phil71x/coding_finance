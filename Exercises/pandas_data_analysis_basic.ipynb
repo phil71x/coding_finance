{
 "cells": [
  {
   "cell_type": "code",
   "execution_count": null,
   "metadata": {},
   "outputs": [],
   "source": [
    "# perform the most basic operations using the pandas library. We will do the following.\n",
    "\n",
    "    # Load the data\n",
    "    # Look at columns, rows and cells\n",
    "    # Subset rows and columns\n",
    "    # Grouped Aggregate Calculations\n",
    "\n",
    "\n",
    "# Import the pandas library\n",
    "import pandas as pd\n",
    "\n",
    "# Read in the data\n",
    " "
   ]
  }
 ],
 "metadata": {
  "language_info": {
   "name": "python"
  }
 },
 "nbformat": 4,
 "nbformat_minor": 2
}
