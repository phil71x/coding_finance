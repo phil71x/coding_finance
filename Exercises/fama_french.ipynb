{
 "cells": [
  {
   "cell_type": "code",
   "execution_count": 2,
   "metadata": {},
   "outputs": [],
   "source": [
    "# How to download and clean Fama French 3 factor Model data in Python\n",
    "# https://www.youtube.com/watch?v=0eQv4xVbVfQ\n",
    "# https://randlow.github.io/posts/finance-economics/pandas-datareader-KF/\n",
    "\n",
    "import pandas_datareader.data as web\n",
    "from pandas_datareader.famafrench import get_available_datasets\n",
    "import datetime\n",
    "import pickleshare\n",
    "import pandas as pd\n",
    "import numpy as np\n",
    "import matplotlib.pyplot as plt"
   ]
  },
  {
   "cell_type": "code",
   "execution_count": 3,
   "metadata": {},
   "outputs": [
    {
     "name": "stdout",
     "output_type": "stream",
     "text": [
      "No. of datasets:297\n"
     ]
    }
   ],
   "source": [
    "# get the list of available datasets\n",
    "datasets = get_available_datasets()\n",
    "print('No. of datasets:{}'.format(len(datasets)))\n",
    "#datasets"
   ]
  },
  {
   "cell_type": "code",
   "execution_count": 4,
   "metadata": {},
   "outputs": [
    {
     "data": {
      "text/plain": [
       "['F-F_Research_Data_Factors',\n",
       " 'F-F_Research_Data_Factors_weekly',\n",
       " 'F-F_Research_Data_Factors_daily',\n",
       " 'F-F_Research_Data_5_Factors_2x3',\n",
       " 'F-F_Research_Data_5_Factors_2x3_daily',\n",
       " 'F-F_Momentum_Factor',\n",
       " 'F-F_Momentum_Factor_daily',\n",
       " 'F-F_ST_Reversal_Factor',\n",
       " 'F-F_ST_Reversal_Factor_daily',\n",
       " 'F-F_LT_Reversal_Factor',\n",
       " 'F-F_LT_Reversal_Factor_daily',\n",
       " 'Developed_3_Factors',\n",
       " 'Developed_3_Factors_Daily',\n",
       " 'Developed_ex_US_3_Factors',\n",
       " 'Developed_ex_US_3_Factors_Daily',\n",
       " 'Europe_3_Factors',\n",
       " 'Europe_3_Factors_Daily',\n",
       " 'Japan_3_Factors',\n",
       " 'Japan_3_Factors_Daily',\n",
       " 'Asia_Pacific_ex_Japan_3_Factors',\n",
       " 'Asia_Pacific_ex_Japan_3_Factors_Daily',\n",
       " 'North_America_3_Factors',\n",
       " 'North_America_3_Factors_Daily',\n",
       " 'Developed_5_Factors',\n",
       " 'Developed_5_Factors_Daily',\n",
       " 'Developed_ex_US_5_Factors',\n",
       " 'Developed_ex_US_5_Factors_Daily',\n",
       " 'Europe_5_Factors',\n",
       " 'Europe_5_Factors_Daily',\n",
       " 'Japan_5_Factors',\n",
       " 'Japan_5_Factors_Daily',\n",
       " 'Asia_Pacific_ex_Japan_5_Factors',\n",
       " 'Asia_Pacific_ex_Japan_5_Factors_Daily',\n",
       " 'North_America_5_Factors',\n",
       " 'North_America_5_Factors_Daily',\n",
       " 'Developed_Mom_Factor',\n",
       " 'Developed_Mom_Factor_Daily',\n",
       " 'Developed_ex_US_Mom_Factor',\n",
       " 'Developed_ex_US_Mom_Factor_Daily',\n",
       " 'Europe_Mom_Factor',\n",
       " 'Europe_Mom_Factor_Daily',\n",
       " 'Japan_Mom_Factor',\n",
       " 'Japan_Mom_Factor_Daily',\n",
       " 'Asia_Pacific_ex_Japan_MOM_Factor',\n",
       " 'Asia_Pacific_ex_Japan_MOM_Factor_Daily',\n",
       " 'North_America_Mom_Factor',\n",
       " 'North_America_Mom_Factor_Daily',\n",
       " 'Emerging_5_Factors',\n",
       " 'Emerging_MOM_Factor']"
      ]
     },
     "execution_count": 4,
     "metadata": {},
     "output_type": "execute_result"
    }
   ],
   "source": [
    "datasets_factors_5F = [dataset for dataset in datasets if '_5_' in dataset and 'Factor' in dataset]\n",
    "datasets_factors_3F = [dataset for dataset in datasets if '_3_' in dataset and 'Factor' in dataset]\n",
    "\n",
    "datasets_factors_weekly = [dataset for dataset in datasets if 'weekly' in dataset and 'Factor' in dataset]\n",
    "\n",
    "\n",
    "datasets_factors = [dataset for dataset in datasets if 'Factor' in dataset in dataset]\n",
    "datasets_factors"
   ]
  },
  {
   "cell_type": "code",
   "execution_count": 5,
   "metadata": {},
   "outputs": [
    {
     "data": {
      "text/plain": [
       "['F-F_Research_Data_Factors',\n",
       " 'F-F_Research_Data_Factors_weekly',\n",
       " 'F-F_Research_Data_Factors_daily',\n",
       " 'F-F_Momentum_Factor',\n",
       " 'F-F_Momentum_Factor_daily',\n",
       " 'F-F_ST_Reversal_Factor',\n",
       " 'F-F_ST_Reversal_Factor_daily',\n",
       " 'F-F_LT_Reversal_Factor',\n",
       " 'F-F_LT_Reversal_Factor_daily',\n",
       " 'Developed_Mom_Factor',\n",
       " 'Developed_Mom_Factor_Daily',\n",
       " 'Developed_ex_US_Mom_Factor',\n",
       " 'Developed_ex_US_Mom_Factor_Daily',\n",
       " 'Europe_Mom_Factor',\n",
       " 'Europe_Mom_Factor_Daily',\n",
       " 'Japan_Mom_Factor',\n",
       " 'Japan_Mom_Factor_Daily',\n",
       " 'Asia_Pacific_ex_Japan_MOM_Factor',\n",
       " 'Asia_Pacific_ex_Japan_MOM_Factor_Daily',\n",
       " 'North_America_Mom_Factor',\n",
       " 'North_America_Mom_Factor_Daily',\n",
       " 'Emerging_MOM_Factor']"
      ]
     },
     "execution_count": 5,
     "metadata": {},
     "output_type": "execute_result"
    }
   ],
   "source": [
    "#create dataframe with elements of datasets_factors but not in datasets_5_factors and datasets_3_factors\n",
    "datasets_factors_others = [dataset for dataset in datasets_factors if dataset not in datasets_factors_5F and dataset not in datasets_factors_3F]\n",
    "datasets_factors_others"
   ]
  },
  {
   "cell_type": "code",
   "execution_count": 6,
   "metadata": {},
   "outputs": [
    {
     "name": "stdout",
     "output_type": "stream",
     "text": [
      "Number of datasets_factors: 49\n",
      "Number of datasets_factors_5F: 15\n",
      "Number of datasets_factors_3F: 12\n",
      "Number of datasets_factors_others: 22\n",
      "Number of datasets_factors_weekly: 1\n"
     ]
    }
   ],
   "source": [
    "print(f\"Number of datasets_factors: {len(datasets_factors)}\")                   # 49\n",
    "print(f\"Number of datasets_factors_5F: {len(datasets_factors_5F)}\")             # 15\n",
    "print(f\"Number of datasets_factors_3F: {len(datasets_factors_3F)}\")             # 12\n",
    "print(f\"Number of datasets_factors_others: {len(datasets_factors_others)}\")     # 22\n",
    "print(f\"Number of datasets_factors_weekly: {len(datasets_factors_weekly)}\")     # 1"
   ]
  },
  {
   "cell_type": "code",
   "execution_count": 7,
   "metadata": {},
   "outputs": [
    {
     "name": "stderr",
     "output_type": "stream",
     "text": [
      "/tmp/ipykernel_85760/1208585125.py:9: FutureWarning: The argument 'date_parser' is deprecated and will be removed in a future version. Please use 'date_format' instead, or read your data in as 'object' dtype and then call 'to_datetime'.\n",
      "  ff3 = web.DataReader(ff3_dataset_name, 'famafrench', start)[0]\n",
      "/tmp/ipykernel_85760/1208585125.py:9: FutureWarning: The argument 'date_parser' is deprecated and will be removed in a future version. Please use 'date_format' instead, or read your data in as 'object' dtype and then call 'to_datetime'.\n",
      "  ff3 = web.DataReader(ff3_dataset_name, 'famafrench', start)[0]\n",
      "/tmp/ipykernel_85760/1208585125.py:10: FutureWarning: The argument 'date_parser' is deprecated and will be removed in a future version. Please use 'date_format' instead, or read your data in as 'object' dtype and then call 'to_datetime'.\n",
      "  ff5 = web.DataReader(ff5_dataset_name, 'famafrench', start)[0]\n",
      "/tmp/ipykernel_85760/1208585125.py:10: FutureWarning: The argument 'date_parser' is deprecated and will be removed in a future version. Please use 'date_format' instead, or read your data in as 'object' dtype and then call 'to_datetime'.\n",
      "  ff5 = web.DataReader(ff5_dataset_name, 'famafrench', start)[0]\n"
     ]
    },
    {
     "ename": "ValueError",
     "evalue": "Length mismatch: Expected axis has 10 elements, new values have 4 elements",
     "output_type": "error",
     "traceback": [
      "\u001b[0;31m---------------------------------------------------------------------------\u001b[0m",
      "\u001b[0;31mValueError\u001b[0m                                Traceback (most recent call last)",
      "\u001b[1;32m/home/mansel/code/coding_finance/Exercises/fama_french.ipynb Cell 6\u001b[0m line \u001b[0;36m2\n\u001b[1;32m     <a href='vscode-notebook-cell:/home/mansel/code/coding_finance/Exercises/fama_french.ipynb#W5sZmlsZQ%3D%3D?line=23'>24</a>\u001b[0m ff3_headers \u001b[39m=\u001b[39m \u001b[39mlist\u001b[39m(ff3\u001b[39m.\u001b[39mcolumns)\n\u001b[1;32m     <a href='vscode-notebook-cell:/home/mansel/code/coding_finance/Exercises/fama_french.ipynb#W5sZmlsZQ%3D%3D?line=24'>25</a>\u001b[0m ff3_two_lines_headers \u001b[39m=\u001b[39m [ff3_superheader, ff3_headers]\n\u001b[0;32m---> <a href='vscode-notebook-cell:/home/mansel/code/coding_finance/Exercises/fama_french.ipynb#W5sZmlsZQ%3D%3D?line=25'>26</a>\u001b[0m ff3_5\u001b[39m.\u001b[39;49mcolumns \u001b[39m=\u001b[39m ff3_two_lines_headers\n\u001b[1;32m     <a href='vscode-notebook-cell:/home/mansel/code/coding_finance/Exercises/fama_french.ipynb#W5sZmlsZQ%3D%3D?line=28'>29</a>\u001b[0m \u001b[39m#column_headers = ('Mkt-RF', 'SMB', 'HML', 'RF', 'Mkt-RF', 'SMB', 'HML', 'RMW', 'CMA', 'RF')\u001b[39;00m\n\u001b[1;32m     <a href='vscode-notebook-cell:/home/mansel/code/coding_finance/Exercises/fama_french.ipynb#W5sZmlsZQ%3D%3D?line=30'>31</a>\u001b[0m ff3_5\u001b[39m.\u001b[39mcolumns \u001b[39m=\u001b[39m pd\u001b[39m.\u001b[39mMultiIndex\u001b[39m.\u001b[39mfrom_tuples([(\u001b[39m'\u001b[39m\u001b[39mff3\u001b[39m\u001b[39m'\u001b[39m, \u001b[39m'\u001b[39m\u001b[39mMkt-RF\u001b[39m\u001b[39m'\u001b[39m), (\u001b[39m'\u001b[39m\u001b[39mff3\u001b[39m\u001b[39m'\u001b[39m, \u001b[39m'\u001b[39m\u001b[39mSMB\u001b[39m\u001b[39m'\u001b[39m), (\u001b[39m'\u001b[39m\u001b[39mff3\u001b[39m\u001b[39m'\u001b[39m, \u001b[39m'\u001b[39m\u001b[39mHML\u001b[39m\u001b[39m'\u001b[39m), (\u001b[39m'\u001b[39m\u001b[39mff3\u001b[39m\u001b[39m'\u001b[39m, \u001b[39m'\u001b[39m\u001b[39mRF\u001b[39m\u001b[39m'\u001b[39m), (\u001b[39m'\u001b[39m\u001b[39mff5\u001b[39m\u001b[39m'\u001b[39m, \u001b[39m'\u001b[39m\u001b[39mMkt-RF\u001b[39m\u001b[39m'\u001b[39m), (\u001b[39m'\u001b[39m\u001b[39mff5\u001b[39m\u001b[39m'\u001b[39m, \u001b[39m'\u001b[39m\u001b[39mSMB\u001b[39m\u001b[39m'\u001b[39m), (\u001b[39m'\u001b[39m\u001b[39mff5\u001b[39m\u001b[39m'\u001b[39m, \u001b[39m'\u001b[39m\u001b[39mHML\u001b[39m\u001b[39m'\u001b[39m), (\u001b[39m'\u001b[39m\u001b[39mff5\u001b[39m\u001b[39m'\u001b[39m, \u001b[39m'\u001b[39m\u001b[39mRMW\u001b[39m\u001b[39m'\u001b[39m), (\u001b[39m'\u001b[39m\u001b[39mff5\u001b[39m\u001b[39m'\u001b[39m, \u001b[39m'\u001b[39m\u001b[39mCMA\u001b[39m\u001b[39m'\u001b[39m), (\u001b[39m'\u001b[39m\u001b[39mff5\u001b[39m\u001b[39m'\u001b[39m, \u001b[39m'\u001b[39m\u001b[39mRF\u001b[39m\u001b[39m'\u001b[39m)])\n",
      "File \u001b[0;32m~/virtualenvs/coding_finance_env/lib/python3.10/site-packages/pandas/core/generic.py:6218\u001b[0m, in \u001b[0;36mNDFrame.__setattr__\u001b[0;34m(self, name, value)\u001b[0m\n\u001b[1;32m   6216\u001b[0m \u001b[39mtry\u001b[39;00m:\n\u001b[1;32m   6217\u001b[0m     \u001b[39mobject\u001b[39m\u001b[39m.\u001b[39m\u001b[39m__getattribute__\u001b[39m(\u001b[39mself\u001b[39m, name)\n\u001b[0;32m-> 6218\u001b[0m     \u001b[39mreturn\u001b[39;00m \u001b[39mobject\u001b[39;49m\u001b[39m.\u001b[39;49m\u001b[39m__setattr__\u001b[39;49m(\u001b[39mself\u001b[39;49m, name, value)\n\u001b[1;32m   6219\u001b[0m \u001b[39mexcept\u001b[39;00m \u001b[39mAttributeError\u001b[39;00m:\n\u001b[1;32m   6220\u001b[0m     \u001b[39mpass\u001b[39;00m\n",
      "File \u001b[0;32mproperties.pyx:69\u001b[0m, in \u001b[0;36mpandas._libs.properties.AxisProperty.__set__\u001b[0;34m()\u001b[0m\n",
      "File \u001b[0;32m~/virtualenvs/coding_finance_env/lib/python3.10/site-packages/pandas/core/generic.py:767\u001b[0m, in \u001b[0;36mNDFrame._set_axis\u001b[0;34m(self, axis, labels)\u001b[0m\n\u001b[1;32m    762\u001b[0m \u001b[39m\u001b[39m\u001b[39m\"\"\"\u001b[39;00m\n\u001b[1;32m    763\u001b[0m \u001b[39mThis is called from the cython code when we set the `index` attribute\u001b[39;00m\n\u001b[1;32m    764\u001b[0m \u001b[39mdirectly, e.g. `series.index = [1, 2, 3]`.\u001b[39;00m\n\u001b[1;32m    765\u001b[0m \u001b[39m\"\"\"\u001b[39;00m\n\u001b[1;32m    766\u001b[0m labels \u001b[39m=\u001b[39m ensure_index(labels)\n\u001b[0;32m--> 767\u001b[0m \u001b[39mself\u001b[39;49m\u001b[39m.\u001b[39;49m_mgr\u001b[39m.\u001b[39;49mset_axis(axis, labels)\n\u001b[1;32m    768\u001b[0m \u001b[39mself\u001b[39m\u001b[39m.\u001b[39m_clear_item_cache()\n",
      "File \u001b[0;32m~/virtualenvs/coding_finance_env/lib/python3.10/site-packages/pandas/core/internals/managers.py:227\u001b[0m, in \u001b[0;36mBaseBlockManager.set_axis\u001b[0;34m(self, axis, new_labels)\u001b[0m\n\u001b[1;32m    225\u001b[0m \u001b[39mdef\u001b[39;00m \u001b[39mset_axis\u001b[39m(\u001b[39mself\u001b[39m, axis: AxisInt, new_labels: Index) \u001b[39m-\u001b[39m\u001b[39m>\u001b[39m \u001b[39mNone\u001b[39;00m:\n\u001b[1;32m    226\u001b[0m     \u001b[39m# Caller is responsible for ensuring we have an Index object.\u001b[39;00m\n\u001b[0;32m--> 227\u001b[0m     \u001b[39mself\u001b[39;49m\u001b[39m.\u001b[39;49m_validate_set_axis(axis, new_labels)\n\u001b[1;32m    228\u001b[0m     \u001b[39mself\u001b[39m\u001b[39m.\u001b[39maxes[axis] \u001b[39m=\u001b[39m new_labels\n",
      "File \u001b[0;32m~/virtualenvs/coding_finance_env/lib/python3.10/site-packages/pandas/core/internals/base.py:85\u001b[0m, in \u001b[0;36mDataManager._validate_set_axis\u001b[0;34m(self, axis, new_labels)\u001b[0m\n\u001b[1;32m     82\u001b[0m     \u001b[39mpass\u001b[39;00m\n\u001b[1;32m     84\u001b[0m \u001b[39melif\u001b[39;00m new_len \u001b[39m!=\u001b[39m old_len:\n\u001b[0;32m---> 85\u001b[0m     \u001b[39mraise\u001b[39;00m \u001b[39mValueError\u001b[39;00m(\n\u001b[1;32m     86\u001b[0m         \u001b[39mf\u001b[39m\u001b[39m\"\u001b[39m\u001b[39mLength mismatch: Expected axis has \u001b[39m\u001b[39m{\u001b[39;00mold_len\u001b[39m}\u001b[39;00m\u001b[39m elements, new \u001b[39m\u001b[39m\"\u001b[39m\n\u001b[1;32m     87\u001b[0m         \u001b[39mf\u001b[39m\u001b[39m\"\u001b[39m\u001b[39mvalues have \u001b[39m\u001b[39m{\u001b[39;00mnew_len\u001b[39m}\u001b[39;00m\u001b[39m elements\u001b[39m\u001b[39m\"\u001b[39m\n\u001b[1;32m     88\u001b[0m     )\n",
      "\u001b[0;31mValueError\u001b[0m: Length mismatch: Expected axis has 10 elements, new values have 4 elements"
     ]
    }
   ],
   "source": [
    "# Fama-French 3F Model & Fama-French 5F Model\n",
    "\n",
    "# Selecting the dataset of interest in string format\n",
    "ff3_dataset_name = 'F-F_Research_Data_Factors'\n",
    "ff5_dataset_name = 'F-F_Research_Data_5_Factors_2x3'\n",
    "# start = date_format(\"2010-1-1\"\", %Y-%m-%d\")\n",
    "start = datetime.datetime(2010, 1, 1)\n",
    "\n",
    "ff3 = web.DataReader(ff3_dataset_name, 'famafrench', start)[0]\n",
    "ff5 = web.DataReader(ff5_dataset_name, 'famafrench', start)[0]\n",
    "\n",
    "#convert in decimal format\n",
    "ff3 = ff3.apply(lambda x: x/ 100)\n",
    "ff5 = ff5.apply(lambda x: x/ 100)\n",
    "\n",
    "#concatenate the two dataframes into one with subcategories in columns and add dataset name in columns header\n",
    "ff3_5 = pd.concat([ff3, ff5], axis=1)\n",
    "\n",
    "# Display Two Rows as Column Headers\n",
    "ff3_name = 'Fama-French 3 Factor'\n",
    "ff5_name = 'Fama-French 5 Factor'\n",
    "# column headers with two lines\n",
    "ff3_superheader = [ff3_name] * len(ff3.columns)\n",
    "ff3_headers = list(ff3.columns)\n",
    "ff3_two_lines_headers = [ff3_superheader, ff3_headers]\n",
    "ff3_5.columns = ff3_two_lines_headers\n",
    "\n",
    "\n",
    "#column_headers = ('Mkt-RF', 'SMB', 'HML', 'RF', 'Mkt-RF', 'SMB', 'HML', 'RMW', 'CMA', 'RF')\n",
    "\n",
    "ff3_5.columns = pd.MultiIndex.from_tuples([('ff3', 'Mkt-RF'), ('ff3', 'SMB'), ('ff3', 'HML'), ('ff3', 'RF'), ('ff5', 'Mkt-RF'), ('ff5', 'SMB'), ('ff5', 'HML'), ('ff5', 'RMW'), ('ff5', 'CMA'), ('ff5', 'RF')])\n",
    "ff3_5\n"
   ]
  },
  {
   "cell_type": "code",
   "execution_count": null,
   "metadata": {},
   "outputs": [
    {
     "ename": "NameError",
     "evalue": "name 'ff3_name' is not defined",
     "output_type": "error",
     "traceback": [
      "\u001b[0;31m---------------------------------------------------------------------------\u001b[0m",
      "\u001b[0;31mNameError\u001b[0m                                 Traceback (most recent call last)",
      "\u001b[1;32m/home/mansel/code/coding_finance/Exercises/fama_french.ipynb Cell 7\u001b[0m line \u001b[0;36m2\n\u001b[1;32m      <a href='vscode-notebook-cell:/home/mansel/code/coding_finance/Exercises/fama_french.ipynb#W6sZmlsZQ%3D%3D?line=0'>1</a>\u001b[0m \u001b[39m# column headers with two lines\u001b[39;00m\n\u001b[0;32m----> <a href='vscode-notebook-cell:/home/mansel/code/coding_finance/Exercises/fama_french.ipynb#W6sZmlsZQ%3D%3D?line=1'>2</a>\u001b[0m ff3_superheader \u001b[39m=\u001b[39m [ff3_name] \u001b[39m*\u001b[39m \u001b[39mlen\u001b[39m(ff3\u001b[39m.\u001b[39mcolumns)\n\u001b[1;32m      <a href='vscode-notebook-cell:/home/mansel/code/coding_finance/Exercises/fama_french.ipynb#W6sZmlsZQ%3D%3D?line=2'>3</a>\u001b[0m ff3_headers \u001b[39m=\u001b[39m \u001b[39mlist\u001b[39m(ff3\u001b[39m.\u001b[39mcolumns)\n\u001b[1;32m      <a href='vscode-notebook-cell:/home/mansel/code/coding_finance/Exercises/fama_french.ipynb#W6sZmlsZQ%3D%3D?line=3'>4</a>\u001b[0m ff3_two_lines_headers \u001b[39m=\u001b[39m [ff3_superheader, ff3_headers]\n",
      "\u001b[0;31mNameError\u001b[0m: name 'ff3_name' is not defined"
     ]
    }
   ],
   "source": []
  }
 ],
 "metadata": {
  "kernelspec": {
   "display_name": "coding_finance_env",
   "language": "python",
   "name": "python3"
  },
  "language_info": {
   "codemirror_mode": {
    "name": "ipython",
    "version": 3
   },
   "file_extension": ".py",
   "mimetype": "text/x-python",
   "name": "python",
   "nbconvert_exporter": "python",
   "pygments_lexer": "ipython3",
   "version": "3.10.12"
  }
 },
 "nbformat": 4,
 "nbformat_minor": 2
}
