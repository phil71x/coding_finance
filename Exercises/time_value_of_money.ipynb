{
 "cells": [
  {
   "cell_type": "code",
   "execution_count": 18,
   "metadata": {},
   "outputs": [],
   "source": [
    "import pandas as pd\n",
    "import numpy as np\n",
    "import numpy_financial as npf\n",
    "import matplotlib.pyplot as pyplot"
   ]
  },
  {
   "cell_type": "code",
   "execution_count": 13,
   "metadata": {},
   "outputs": [
    {
     "name": "stdout",
     "output_type": "stream",
     "text": [
      "   Year  cash_flow          pv\n",
      "0     0       -100 -100.000000\n",
      "1     1          5    4.761905\n",
      "2     2          5    4.535147\n",
      "3     3          5    4.319188\n",
      "4     4        105   86.383760\n",
      "\n",
      "The NPV is -0.0\n"
     ]
    }
   ],
   "source": [
    "# Setting interest rate to 5%\n",
    "r = 0.05\n",
    "cf = pd.DataFrame({'Year':[0,1,2,3,4], \"cash_flow\":[-100,5,5,5,105]})\n",
    "cf[\"pv\"] = cf[\"cash_flow\"] / (1 + r)**(cf[\"Year\"])\n",
    "npv = cf[\"pv\"].sum()\n",
    "print(cf)\n",
    "print(f\"\\nThe NPV is {round(npv,2)}\")"
   ]
  },
  {
   "cell_type": "markdown",
   "metadata": {},
   "source": [
    "IRR Calculation"
   ]
  },
  {
   "cell_type": "code",
   "execution_count": 14,
   "metadata": {},
   "outputs": [
    {
     "name": "stdout",
     "output_type": "stream",
     "text": [
      "   Year   cf\n",
      "0     0 -800\n",
      "1     1  200\n",
      "2     2  250\n",
      "3     3  300\n",
      "4     4  350\n",
      "5     5  400\n"
     ]
    }
   ],
   "source": [
    "project1_cf = pd.DataFrame({\"Year\":np.arange(0,6),\n",
    "\"cf\": [-800,200,250,300,350,400]})\n",
    "project2_cf = pd.DataFrame({\"Year\":np.arange(0,6),\n",
    "\"cf\": [-500,150,170,178,250,300]})\n",
    "print(project1_cf)"
   ]
  },
  {
   "cell_type": "code",
   "execution_count": 15,
   "metadata": {},
   "outputs": [
    {
     "name": "stdout",
     "output_type": "stream",
     "text": [
      "   Year   cf\n",
      "0     0 -500\n",
      "1     1  150\n",
      "2     2  170\n",
      "3     3  178\n",
      "4     4  250\n",
      "5     5  300\n"
     ]
    }
   ],
   "source": [
    "print(project2_cf)"
   ]
  },
  {
   "cell_type": "code",
   "execution_count": 20,
   "metadata": {},
   "outputs": [
    {
     "data": {
      "text/html": [
       "<div>\n",
       "<style scoped>\n",
       "    .dataframe tbody tr th:only-of-type {\n",
       "        vertical-align: middle;\n",
       "    }\n",
       "\n",
       "    .dataframe tbody tr th {\n",
       "        vertical-align: top;\n",
       "    }\n",
       "\n",
       "    .dataframe thead th {\n",
       "        text-align: right;\n",
       "    }\n",
       "</style>\n",
       "<table border=\"1\" class=\"dataframe\">\n",
       "  <thead>\n",
       "    <tr style=\"text-align: right;\">\n",
       "      <th></th>\n",
       "      <th>Name</th>\n",
       "      <th>IRR</th>\n",
       "    </tr>\n",
       "  </thead>\n",
       "  <tbody>\n",
       "    <tr>\n",
       "      <th>0</th>\n",
       "      <td>Project1</td>\n",
       "      <td>0.221603</td>\n",
       "    </tr>\n",
       "    <tr>\n",
       "      <th>1</th>\n",
       "      <td>Project2</td>\n",
       "      <td>0.267620</td>\n",
       "    </tr>\n",
       "  </tbody>\n",
       "</table>\n",
       "</div>"
      ],
      "text/plain": [
       "       Name       IRR\n",
       "0  Project1  0.221603\n",
       "1  Project2  0.267620"
      ]
     },
     "execution_count": 20,
     "metadata": {},
     "output_type": "execute_result"
    }
   ],
   "source": [
    "irr_1 = npf.irr(project1_cf[\"cf\"])\n",
    "irr_2 = npf.irr(project2_cf[\"cf\"])\n",
    "irr_df = pd.DataFrame({\"Name\":[\"Project1\", \"Project2\"],\n",
    "                      \"IRR\":[irr_1, irr_2]})\n",
    "irr_df"
   ]
  }
 ],
 "metadata": {
  "kernelspec": {
   "display_name": "coding_finance_env",
   "language": "python",
   "name": "python3"
  },
  "language_info": {
   "codemirror_mode": {
    "name": "ipython",
    "version": 3
   },
   "file_extension": ".py",
   "mimetype": "text/x-python",
   "name": "python",
   "nbconvert_exporter": "python",
   "pygments_lexer": "ipython3",
   "version": "3.10.11"
  },
  "orig_nbformat": 4
 },
 "nbformat": 4,
 "nbformat_minor": 2
}
