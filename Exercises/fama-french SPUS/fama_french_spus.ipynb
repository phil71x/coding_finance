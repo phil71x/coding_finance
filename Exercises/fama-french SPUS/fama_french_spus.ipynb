{
 "cells": [
  {
   "cell_type": "code",
   "execution_count": 1,
   "metadata": {},
   "outputs": [],
   "source": [
    "# Step 1: Import the necessary libraries\n",
    "import pandas as pd\n",
    "import statsmodels.api as sm\n",
    "from pandas_datareader import data as pdr"
   ]
  },
  {
   "cell_type": "code",
   "execution_count": 2,
   "metadata": {},
   "outputs": [
    {
     "name": "stderr",
     "output_type": "stream",
     "text": [
      "/tmp/ipykernel_100192/2726091380.py:3: UserWarning: Parsing dates in %d.%m.%Y format when dayfirst=False (the default) was specified. Pass `dayfirst=True` or specify a format to silence this warning.\n",
      "  strategies_prices = pd.read_csv(file_path, parse_dates=True, index_col=0)\n"
     ]
    }
   ],
   "source": [
    "# Step 2: Load the data\n",
    "file_path = './data/spus_2024.csv'\n",
    "strategies_prices = pd.read_csv(file_path, parse_dates=True, index_col=0)"
   ]
  },
  {
   "cell_type": "code",
   "execution_count": 3,
   "metadata": {},
   "outputs": [],
   "source": [
    "# Step 3: Separate SPX and strategies\n",
    "universe_name = 'SPUS Bench'\n",
    "universe_prices = strategies_prices[universe_name]\n",
    "risk_premia_spus_prices = strategies_prices.drop(columns=[universe_name])\n",
    "\n",
    "# Convert the strategies to returns\n",
    "strategies = risk_premia_spus_prices.pct_change().dropna()\n",
    "universe = universe_prices.pct_change().dropna()"
   ]
  },
  {
   "cell_type": "code",
   "execution_count": 4,
   "metadata": {},
   "outputs": [
    {
     "name": "stderr",
     "output_type": "stream",
     "text": [
      "/tmp/ipykernel_100192/3849217727.py:2: FutureWarning: The argument 'date_parser' is deprecated and will be removed in a future version. Please use 'date_format' instead, or read your data in as 'object' dtype and then call 'to_datetime'.\n",
      "  ff_factors = pdr.DataReader('F-F_Research_Data_Factors_daily', 'famafrench', start='2024-01-01', end='2024-04-30')[0]\n",
      "/tmp/ipykernel_100192/3849217727.py:3: FutureWarning: The argument 'date_parser' is deprecated and will be removed in a future version. Please use 'date_format' instead, or read your data in as 'object' dtype and then call 'to_datetime'.\n",
      "  momentum_factor = pdr.DataReader('F-F_Momentum_Factor_daily', 'famafrench', start='2024-01-01', end='2024-04-30')[0]\n"
     ]
    }
   ],
   "source": [
    "# Step 4: Retrieve the Fama-French 4-factor data\n",
    "ff_factors = pdr.DataReader('F-F_Research_Data_Factors_daily', 'famafrench', start='2024-01-01', end='2024-04-30')[0]\n",
    "momentum_factor = pdr.DataReader('F-F_Momentum_Factor_daily', 'famafrench', start='2024-01-01', end='2024-04-30')[0]\n",
    "\n",
    "# Combine the Fama-French factors and the momentum factor into a single DataFrame\n",
    "ff_factors = ff_factors.join(momentum_factor['Mom   '])\n",
    "\n",
    "# Convert the factors to daily returns as percentages\n",
    "ff_factors = ff_factors / 100"
   ]
  },
  {
   "cell_type": "code",
   "execution_count": 5,
   "metadata": {},
   "outputs": [],
   "source": [
    "# Step 5: Run the Fama-French 4-factor regression for each strategy\n",
    "model_results = {}\n",
    "for strategy_name in strategies.columns:\n",
    "    # Merge strategy returns with the Fama-French factors\n",
    "    data = pd.concat([strategies[strategy_name], ff_factors], axis=1, join='inner')\n",
    "    \n",
    "    # Prepare the data for regression\n",
    "    X = data[['Mkt-RF', 'SMB', 'HML', 'Mom   ']]\n",
    "    y = data[strategy_name] - data['RF']\n",
    "    \n",
    "    # Add a constant to the independent variables\n",
    "    X = sm.add_constant(X)\n",
    "    \n",
    "    # Run the regression\n",
    "    model = sm.OLS(y, X).fit()\n",
    "    \n",
    "    # Store the model results\n",
    "    model_results[strategy_name] = model"
   ]
  },
  {
   "cell_type": "code",
   "execution_count": 6,
   "metadata": {},
   "outputs": [
    {
     "name": "stdout",
     "output_type": "stream",
     "text": [
      "Coefficients:\n",
      "        SPUS Value  SPUS Momentum  SPUS Quality  SPUS Low Beta  SPUS Ptf\n",
      "const       -0.000         -0.001         0.000          0.000     0.000\n",
      "Mkt-RF       1.126          1.087         1.001          0.823     0.989\n",
      "SMB         -0.025          0.093        -0.004         -0.168    -0.004\n",
      "HML          0.289         -0.005        -0.036         -0.093     0.076\n",
      "Mom         -0.228          0.502         0.043         -0.313     0.023\n",
      "\n",
      "P-Values:\n",
      "        SPUS Value  SPUS Momentum  SPUS Quality  SPUS Low Beta  SPUS Ptf\n",
      "const        0.972          0.315         0.511          0.558     0.838\n",
      "Mkt-RF       0.000          0.000         0.000          0.000     0.000\n",
      "SMB          0.681          0.183         0.938          0.002     0.901\n",
      "HML          0.001          0.961         0.595          0.193     0.117\n",
      "Mom          0.003          0.000         0.464          0.000     0.588\n"
     ]
    }
   ],
   "source": [
    "# Extract the coefficients and p-values for each strategy into 2 distinctive tables\n",
    "coefficients = pd.DataFrame({strategy: model_results[strategy].params for strategy in model_results})\n",
    "p_values = pd.DataFrame({strategy: model_results[strategy].pvalues for strategy in model_results})\n",
    "\n",
    "# Round the values to 3 decimal places\n",
    "coefficients = coefficients.round(3)\n",
    "p_values = p_values.round(3)\n",
    "\n",
    "# Step 6: Display the results\n",
    "print('Coefficients:')\n",
    "print(coefficients)\n",
    "print('\\nP-Values:')\n",
    "print(p_values)"
   ]
  },
  {
   "cell_type": "code",
   "execution_count": 7,
   "metadata": {},
   "outputs": [
    {
     "name": "stdout",
     "output_type": "stream",
     "text": [
      "\n",
      "Universe Coefficients:\n",
      "const     0.000\n",
      "Mkt-RF    1.009\n",
      "SMB      -0.068\n",
      "HML      -0.007\n",
      "Mom       0.020\n",
      "dtype: float64\n",
      "\n",
      "Universe P-Values:\n",
      "const     0.979\n",
      "Mkt-RF    0.000\n",
      "SMB       0.000\n",
      "HML       0.789\n",
      "Mom       0.363\n",
      "dtype: float64\n"
     ]
    }
   ],
   "source": [
    "# Add the universe results to these two tables\n",
    "universe_data = pd.concat([universe, ff_factors], axis=1, join='inner')\n",
    "X = universe_data[['Mkt-RF', 'SMB', 'HML', 'Mom   ']]\n",
    "y = universe_data[universe_name] - universe_data['RF']\n",
    "X = sm.add_constant(X)\n",
    "model = sm.OLS(y, X).fit()\n",
    "universe_coefficients = model.params.round(3)\n",
    "universe_p_values = model.pvalues.round(3)\n",
    "\n",
    "print('\\nUniverse Coefficients:')\n",
    "print(universe_coefficients)\n",
    "print('\\nUniverse P-Values:')\n",
    "print(universe_p_values)\n"
   ]
  },
  {
   "cell_type": "code",
   "execution_count": 8,
   "metadata": {},
   "outputs": [
    {
     "name": "stdout",
     "output_type": "stream",
     "text": [
      "\n",
      "Updated Coefficients:\n",
      "        SPUS Value  SPUS Momentum  SPUS Quality  SPUS Low Beta  SPUS Ptf  SPUS Bench\n",
      "const       -0.000         -0.001         0.000          0.000     0.000       0.000\n",
      "Mkt-RF       1.126          1.087         1.001          0.823     0.989       1.009\n",
      "SMB         -0.025          0.093        -0.004         -0.168    -0.004      -0.068\n",
      "HML          0.289         -0.005        -0.036         -0.093     0.076      -0.007\n",
      "Mom         -0.228          0.502         0.043         -0.313     0.023       0.020\n",
      "\n",
      "Updated P-Values:\n",
      "        SPUS Value  SPUS Momentum  SPUS Quality  SPUS Low Beta  SPUS Ptf  SPUS Bench\n",
      "const        0.972          0.315         0.511          0.558     0.838       0.979\n",
      "Mkt-RF       0.000          0.000         0.000          0.000     0.000       0.000\n",
      "SMB          0.681          0.183         0.938          0.002     0.901       0.000\n",
      "HML          0.001          0.961         0.595          0.193     0.117       0.789\n",
      "Mom          0.003          0.000         0.464          0.000     0.588       0.363\n"
     ]
    }
   ],
   "source": [
    "# Merge universe resuts with the strategy results without append method \n",
    "coefficients = pd.concat([coefficients, universe_coefficients], axis=1)\n",
    "p_values = pd.concat([p_values, universe_p_values], axis=1)\n",
    "# Add universe name as field name\n",
    "coefficients.columns = coefficients.columns.tolist()[:-1] + [universe_name]\n",
    "p_values.columns = p_values.columns.tolist()[:-1] + [universe_name]\n",
    "\n",
    "\n",
    "# Display the updated tables with no wrap because of too many rows\n",
    "pd.set_option('display.expand_frame_repr', False)\n",
    "print('\\nUpdated Coefficients:')\n",
    "print(coefficients)\n",
    "print('\\nUpdated P-Values:')\n",
    "print(p_values)\n",
    "\n",
    "# Reset the display settings\n",
    "pd.reset_option('display.expand_frame_repr')"
   ]
  },
  {
   "cell_type": "code",
   "execution_count": 12,
   "metadata": {},
   "outputs": [],
   "source": [
    "# Step 7: Save the results to a CSV file\n",
    "coefficients.to_csv('./data/coefficients.csv')\n",
    "p_values.to_csv('./data/p_values.csv')"
   ]
  },
  {
   "cell_type": "code",
   "execution_count": null,
   "metadata": {},
   "outputs": [],
   "source": [
    "```\n",
    "The code above is a Python script that performs the following steps:\n",
    "\n",
    "1. Import the necessary libraries.\n",
    "2. Load the data from the CSV file.\n",
    "3. Separate the S&P 500 index and the strategies, convert the prices to returns, and calculate the Fama-French factors and the momentum factor.\n",
    "4. Run the Fama-French 4-factor regression for each strategy and store the model results.\n",
    "5. Extract the coefficients and p-values for each strategy and the S&P 500 index into two separate tables.\n",
    "6. Display the results and add the S&P 500 index results to the tables.\n",
    "7. Save the results to CSV files.\n",
    "\n",
    "The script uses the `pandas`, `statsmodels`, and `pandas_datareader` libraries to load and analyze the data. It calculates the Fama-French factors and momentum factor, runs the regression analysis, and outputs the coefficients and p-values for each strategy and the S&P 500 index.\n",
    "\n",
    "You can run this script in a Python environment to analyze the Fama-French 4-factor model for the strategies and the S&P 500 index. The results will be saved to CSV files for further analysis or reporting.\n",
    "\n",
    "Please note that you may need to install the required libraries (`pandas`, `statsmodels`, `pandas_datareader`) if you haven't already done so. You can install them using `pip` by running the following commands in your Python environment:\n",
    "\n",
    "```bash\n"
   ]
  },
  {
   "cell_type": "code",
   "execution_count": null,
   "metadata": {},
   "outputs": [],
   "source": []
  }
 ],
 "metadata": {
  "language_info": {
   "name": "python"
  }
 },
 "nbformat": 4,
 "nbformat_minor": 2
}
