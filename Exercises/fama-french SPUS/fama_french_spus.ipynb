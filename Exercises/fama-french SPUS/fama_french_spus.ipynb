{
 "cells": [
  {
   "cell_type": "code",
   "execution_count": 2,
   "metadata": {},
   "outputs": [],
   "source": [
    "# Step 1: Import the necessary libraries\n",
    "import pandas as pd\n",
    "import statsmodels.api as sm\n",
    "from pandas_datareader import data as pdr"
   ]
  },
  {
   "cell_type": "code",
   "execution_count": 6,
   "metadata": {},
   "outputs": [
    {
     "name": "stderr",
     "output_type": "stream",
     "text": [
      "C:\\Users\\phil7\\AppData\\Local\\Temp\\ipykernel_22360\\3367856652.py:3: UserWarning: Parsing dates in %d.%m.%Y format when dayfirst=False (the default) was specified. Pass `dayfirst=True` or specify a format to silence this warning.\n",
      "  strategies_prices = pd.read_csv(file_path, parse_dates=True, index_col=0)\n"
     ]
    }
   ],
   "source": [
    "# Step 2: Load the data\n",
    "file_path = '../../data/spus_2024.csv'\n",
    "strategies_prices = pd.read_csv(file_path, parse_dates=True, index_col=0)"
   ]
  },
  {
   "cell_type": "code",
   "execution_count": 7,
   "metadata": {},
   "outputs": [],
   "source": [
    "# Step 3: Separate SPX and strategies\n",
    "universe_name = 'SPUS Bench'\n",
    "universe_prices = strategies_prices[universe_name]\n",
    "risk_premia_spus_prices = strategies_prices.drop(columns=[universe_name])\n",
    "\n",
    "# Convert the strategies to returns\n",
    "strategies = risk_premia_spus_prices.pct_change().dropna()\n",
    "universe = universe_prices.pct_change().dropna()"
   ]
  },
  {
   "cell_type": "code",
   "execution_count": 8,
   "metadata": {},
   "outputs": [
    {
     "name": "stderr",
     "output_type": "stream",
     "text": [
      "C:\\Users\\phil7\\AppData\\Local\\Temp\\ipykernel_22360\\3849217727.py:2: FutureWarning: The argument 'date_parser' is deprecated and will be removed in a future version. Please use 'date_format' instead, or read your data in as 'object' dtype and then call 'to_datetime'.\n",
      "  ff_factors = pdr.DataReader('F-F_Research_Data_Factors_daily', 'famafrench', start='2024-01-01', end='2024-04-30')[0]\n",
      "C:\\Users\\phil7\\AppData\\Local\\Temp\\ipykernel_22360\\3849217727.py:3: FutureWarning: The argument 'date_parser' is deprecated and will be removed in a future version. Please use 'date_format' instead, or read your data in as 'object' dtype and then call 'to_datetime'.\n",
      "  momentum_factor = pdr.DataReader('F-F_Momentum_Factor_daily', 'famafrench', start='2024-01-01', end='2024-04-30')[0]\n"
     ]
    }
   ],
   "source": [
    "# Step 4: Retrieve the Fama-French 4-factor data\n",
    "ff_factors = pdr.DataReader('F-F_Research_Data_Factors_daily', 'famafrench', start='2024-01-01', end='2024-04-30')[0]\n",
    "momentum_factor = pdr.DataReader('F-F_Momentum_Factor_daily', 'famafrench', start='2024-01-01', end='2024-04-30')[0]\n",
    "\n",
    "# Combine the Fama-French factors and the momentum factor into a single DataFrame\n",
    "ff_factors = ff_factors.join(momentum_factor['Mom   '])\n",
    "\n",
    "# Convert the factors to daily returns as percentages\n",
    "ff_factors = ff_factors / 100"
   ]
  },
  {
   "cell_type": "code",
   "execution_count": 9,
   "metadata": {},
   "outputs": [],
   "source": [
    "# Step 5: Run the Fama-French 4-factor regression for each strategy\n",
    "model_results = {}\n",
    "for strategy_name in strategies.columns:\n",
    "    # Merge strategy returns with the Fama-French factors\n",
    "    data = pd.concat([strategies[strategy_name], ff_factors], axis=1, join='inner')\n",
    "    \n",
    "    # Prepare the data for regression\n",
    "    X = data[['Mkt-RF', 'SMB', 'HML', 'Mom   ']]\n",
    "    y = data[strategy_name] - data['RF']\n",
    "    \n",
    "    # Add a constant to the independent variables\n",
    "    X = sm.add_constant(X)\n",
    "    \n",
    "    # Run the regression\n",
    "    model = sm.OLS(y, X).fit()\n",
    "    \n",
    "    # Store the model results\n",
    "    model_results[strategy_name] = model"
   ]
  },
  {
   "cell_type": "code",
   "execution_count": 10,
   "metadata": {},
   "outputs": [
    {
     "name": "stdout",
     "output_type": "stream",
     "text": [
      "Coefficients:\n",
      "        SPUS Value  SPUS Momentum  SPUS Quality  SPUS Low Beta  SPUS Ptf\n",
      "const       -0.000         -0.000        -0.000          0.000    -0.000\n",
      "Mkt-RF       1.152          1.050         1.017          0.795     0.992\n",
      "SMB         -0.026          0.109        -0.022         -0.164    -0.011\n",
      "HML          0.218         -0.039         0.016         -0.040     0.068\n",
      "Mom         -0.250          0.474         0.055         -0.281     0.017\n",
      "\n",
      "P-Values:\n",
      "        SPUS Value  SPUS Momentum  SPUS Quality  SPUS Low Beta  SPUS Ptf\n",
      "const        0.555          0.527         0.886          0.368     0.841\n",
      "Mkt-RF       0.000          0.000         0.000          0.000     0.000\n",
      "SMB          0.645          0.081         0.624          0.000     0.716\n",
      "HML          0.003          0.615         0.784          0.479     0.079\n",
      "Mom          0.000          0.000         0.274          0.000     0.621\n"
     ]
    }
   ],
   "source": [
    "# Extract the coefficients and p-values for each strategy into 2 distinctive tables\n",
    "coefficients = pd.DataFrame({strategy: model_results[strategy].params for strategy in model_results})\n",
    "p_values = pd.DataFrame({strategy: model_results[strategy].pvalues for strategy in model_results})\n",
    "\n",
    "# Round the values to 3 decimal places\n",
    "coefficients = coefficients.round(3)\n",
    "p_values = p_values.round(3)\n",
    "\n",
    "# Step 6: Display the results\n",
    "print('Coefficients:')\n",
    "print(coefficients)\n",
    "print('\\nP-Values:')\n",
    "print(p_values)"
   ]
  },
  {
   "cell_type": "code",
   "execution_count": 11,
   "metadata": {},
   "outputs": [
    {
     "name": "stdout",
     "output_type": "stream",
     "text": [
      "\n",
      "Universe Coefficients:\n",
      "const    -0.000\n",
      "Mkt-RF    1.010\n",
      "SMB      -0.067\n",
      "HML      -0.013\n",
      "Mom       0.015\n",
      "dtype: float64\n",
      "\n",
      "Universe P-Values:\n",
      "const     0.841\n",
      "Mkt-RF    0.000\n",
      "SMB       0.000\n",
      "HML       0.532\n",
      "Mom       0.420\n",
      "dtype: float64\n"
     ]
    }
   ],
   "source": [
    "# Add the universe results to these two tables\n",
    "universe_data = pd.concat([universe, ff_factors], axis=1, join='inner')\n",
    "X = universe_data[['Mkt-RF', 'SMB', 'HML', 'Mom   ']]\n",
    "y = universe_data[universe_name] - universe_data['RF']\n",
    "X = sm.add_constant(X)\n",
    "model = sm.OLS(y, X).fit()\n",
    "universe_coefficients = model.params.round(3)\n",
    "universe_p_values = model.pvalues.round(3)\n",
    "\n",
    "print('\\nUniverse Coefficients:')\n",
    "print(universe_coefficients)\n",
    "print('\\nUniverse P-Values:')\n",
    "print(universe_p_values)\n"
   ]
  },
  {
   "cell_type": "code",
   "execution_count": 12,
   "metadata": {},
   "outputs": [
    {
     "name": "stdout",
     "output_type": "stream",
     "text": [
      "\n",
      "Updated Coefficients:\n",
      "        SPUS Value  SPUS Momentum  SPUS Quality  SPUS Low Beta  SPUS Ptf  SPUS Bench\n",
      "const       -0.000         -0.000        -0.000          0.000    -0.000      -0.000\n",
      "Mkt-RF       1.152          1.050         1.017          0.795     0.992       1.010\n",
      "SMB         -0.026          0.109        -0.022         -0.164    -0.011      -0.067\n",
      "HML          0.218         -0.039         0.016         -0.040     0.068      -0.013\n",
      "Mom         -0.250          0.474         0.055         -0.281     0.017       0.015\n",
      "\n",
      "Updated P-Values:\n",
      "        SPUS Value  SPUS Momentum  SPUS Quality  SPUS Low Beta  SPUS Ptf  SPUS Bench\n",
      "const        0.555          0.527         0.886          0.368     0.841       0.841\n",
      "Mkt-RF       0.000          0.000         0.000          0.000     0.000       0.000\n",
      "SMB          0.645          0.081         0.624          0.000     0.716       0.000\n",
      "HML          0.003          0.615         0.784          0.479     0.079       0.532\n",
      "Mom          0.000          0.000         0.274          0.000     0.621       0.420\n"
     ]
    }
   ],
   "source": [
    "# Merge universe resuts with the strategy results without append method \n",
    "coefficients = pd.concat([coefficients, universe_coefficients], axis=1)\n",
    "p_values = pd.concat([p_values, universe_p_values], axis=1)\n",
    "# Add universe name as field name\n",
    "coefficients.columns = coefficients.columns.tolist()[:-1] + [universe_name]\n",
    "p_values.columns = p_values.columns.tolist()[:-1] + [universe_name]\n",
    "\n",
    "\n",
    "# Display the updated tables with no wrap because of too many rows\n",
    "pd.set_option('display.expand_frame_repr', False)\n",
    "print('\\nUpdated Coefficients:')\n",
    "print(coefficients)\n",
    "print('\\nUpdated P-Values:')\n",
    "print(p_values)\n",
    "\n",
    "# Reset the display settings\n",
    "pd.reset_option('display.expand_frame_repr')"
   ]
  },
  {
   "cell_type": "code",
   "execution_count": 15,
   "metadata": {},
   "outputs": [],
   "source": [
    "# Step 7: Save the results to a CSV file\n",
    "coefficients.to_csv('../../output/coefficients.csv')\n",
    "p_values.to_csv('../../output/p_values.csv')"
   ]
  },
  {
   "cell_type": "markdown",
   "metadata": {},
   "source": [
    "The code above is a Python script that performs the following steps:\n",
    "\n",
    "1. Import the necessary libraries.\n",
    "2. Load the data from the CSV file.\n",
    "3. Separate the S&P 500 index and the strategies, convert the prices to returns, and calculate the Fama-French factors and the momentum factor.\n",
    "4. Run the Fama-French 4-factor regression for each strategy and store the model results.\n",
    "5. Extract the coefficients and p-values for each strategy and the S&P 500 index into two separate tables.\n",
    "6. Display the results and add the S&P 500 index results to the tables.\n",
    "7. Save the results to CSV files.\n",
    "\n",
    "The script uses the `pandas`, `statsmodels`, and `pandas_datareader` libraries to load and analyze the data. It calculates the Fama-French factors and momentum factor, runs the regression analysis, and outputs the coefficients and p-values for each strategy and the S&P 500 index.\n",
    "\n",
    "You can run this script in a Python environment to analyze the Fama-French 4-factor model for the strategies and the S&P 500 index. The results will be saved to CSV files for further analysis or reporting.\n",
    "\n",
    "Please note that you may need to install the required libraries (`pandas`, `statsmodels`, `pandas_datareader`) if you haven't already done so. You can install them using `pip` by running the following commands in your Python environment:\n",
    "\n"
   ]
  },
  {
   "cell_type": "code",
   "execution_count": null,
   "metadata": {},
   "outputs": [],
   "source": []
  }
 ],
 "metadata": {
  "kernelspec": {
   "display_name": ".venv",
   "language": "python",
   "name": "python3"
  },
  "language_info": {
   "codemirror_mode": {
    "name": "ipython",
    "version": 3
   },
   "file_extension": ".py",
   "mimetype": "text/x-python",
   "name": "python",
   "nbconvert_exporter": "python",
   "pygments_lexer": "ipython3",
   "version": "3.9.21"
  }
 },
 "nbformat": 4,
 "nbformat_minor": 2
}
