{
 "cells": [
  {
   "cell_type": "code",
   "execution_count": 30,
   "metadata": {},
   "outputs": [],
   "source": [
    "import urllib.request\n",
    "import requests\n",
    "import zipfile\n",
    "from pathlib import Path\n",
    "import sys\n",
    "import os\n",
    "import pandas as pd"
   ]
  },
  {
   "cell_type": "code",
   "execution_count": 34,
   "metadata": {},
   "outputs": [
    {
     "name": "stdout",
     "output_type": "stream",
     "text": [
      "/home/mansel/data/ff_datasets/indices\n"
     ]
    },
    {
     "ename": "NameError",
     "evalue": "name '__file__' is not defined",
     "output_type": "error",
     "traceback": [
      "\u001b[0;31m---------------------------------------------------------------------------\u001b[0m",
      "\u001b[0;31mNameError\u001b[0m                                 Traceback (most recent call last)",
      "\u001b[1;32m/home/mansel/code/coding_finance/Exercises/fama_french_csv.ipynb Cell 2\u001b[0m line \u001b[0;36m1\n\u001b[1;32m     <a href='vscode-notebook-cell:/home/mansel/code/coding_finance/Exercises/fama_french_csv.ipynb#W1sZmlsZQ%3D%3D?line=14'>15</a>\u001b[0m \u001b[39mprint\u001b[39m(os\u001b[39m.\u001b[39mgetcwd())\n\u001b[1;32m     <a href='vscode-notebook-cell:/home/mansel/code/coding_finance/Exercises/fama_french_csv.ipynb#W1sZmlsZQ%3D%3D?line=15'>16</a>\u001b[0m \u001b[39m#change working directory back to this file directory\u001b[39;00m\n\u001b[0;32m---> <a href='vscode-notebook-cell:/home/mansel/code/coding_finance/Exercises/fama_french_csv.ipynb#W1sZmlsZQ%3D%3D?line=16'>17</a>\u001b[0m os\u001b[39m.\u001b[39mchdir(os\u001b[39m.\u001b[39mpath\u001b[39m.\u001b[39mdirname(os\u001b[39m.\u001b[39mpath\u001b[39m.\u001b[39mabspath(\u001b[39m__file__\u001b[39;49m)))\n\u001b[1;32m     <a href='vscode-notebook-cell:/home/mansel/code/coding_finance/Exercises/fama_french_csv.ipynb#W1sZmlsZQ%3D%3D?line=17'>18</a>\u001b[0m \u001b[39mprint\u001b[39m(os\u001b[39m.\u001b[39mgetcwd())\n",
      "\u001b[0;31mNameError\u001b[0m: name '__file__' is not defined"
     ]
    }
   ],
   "source": [
    "\n",
    "home_dir = str(Path.home())\n",
    "\n",
    "if sys.platform == 'linux':\n",
    "    ff_data_dir = '/data/ff_datasets/indices/' \n",
    "elif sys.platform == 'win32':\n",
    "    ff_data_dir = '\\\\data\\\\ff_datasets\\indices\\\\' \n",
    "\n",
    "full_dir = home_dir+ff_data_dir\n",
    "\n",
    "if not os.path.exists(full_dir):\n",
    "    os.makedirs(full_dir)\n",
    "# change working directory to ff_data_dir\n",
    "os.chdir(full_dir)\n",
    "#what is the current working directory?\n",
    "print(os.getcwd())\n",
    "#change working directory back to this file directory\n",
    "os.chdir(os.path.dirname(os.path.abspath(__file__)))\n",
    "print(os.getcwd())"
   ]
  },
  {
   "cell_type": "code",
   "execution_count": 31,
   "metadata": {},
   "outputs": [],
   "source": [
    "# Create the download url\n",
    "url = 'http://mba.tuck.dartmouth.edu/pages/faculty/ken.french/ftp/F-F_Research_Data_Factors_CSV.zip'\n",
    "#download the file and save it in full_dir as fama_french.zip with module requests\n",
    "r = requests.get(url)\n",
    "with open('fama_french.zip', 'wb') as f:\n",
    "    f.write(r.content)\n",
    "# unzip the file\n",
    "zip_ref = zipfile.ZipFile('fama_french.zip', 'r')\n",
    "zip_ref.extractall(full_dir)\n",
    "zip_ref.close()\n",
    " \n",
    "\n",
    "\n",
    "# urllib.request.urlretrieve(url, 'fama_french.zip')"
   ]
  },
  {
   "cell_type": "code",
   "execution_count": 26,
   "metadata": {},
   "outputs": [],
   "source": [
    "# Unzip the file\n",
    "zip_file = zipfile.ZipFile('fama_french.zip', 'r')\n",
    "# Extract the file to the current directory\n",
    "zip_file.extractall(\"fama_french.csv\")\n",
    "zip_file.close()"
   ]
  },
  {
   "cell_type": "code",
   "execution_count": null,
   "metadata": {},
   "outputs": [],
   "source": [
    "ff_factors = pd.read_csv('fama_french.csv/F-F_Research_Data_Factors.csv', skiprows = 3, index_col = 0)"
   ]
  },
  {
   "cell_type": "code",
   "execution_count": 23,
   "metadata": {},
   "outputs": [
    {
     "data": {
      "text/plain": [
       "Timestamp('2010-09-01 00:00:00')"
      ]
     },
     "execution_count": 23,
     "metadata": {},
     "output_type": "execute_result"
    }
   ],
   "source": [
    "dateparse = lambda x: pd.to_datetime(x, format='%Y%m')\n",
    "dateparse(\"201009\")"
   ]
  },
  {
   "cell_type": "code",
   "execution_count": null,
   "metadata": {},
   "outputs": [],
   "source": [
    "readDir = full_dir\n",
    "readFile = readDir + 'FF_10_Industry_Portfolios.csv' \n",
    "df_10indus_m = pd.read_csv(readFile,skiprows=11,nrows=1107,index_col=0,parse_dates=True,date_parser=dateparse) \n",
    "\n",
    "\n",
    "readFile = readDir + 'FF_Research_Data_5_Factors_2x3.csv' \n",
    "df_5fac_m = pd.read_csv(readFile,skiprows=3,nrows=663,index_col=0,parse_dates=True,date_parser=dateparse) "
   ]
  }
 ],
 "metadata": {
  "kernelspec": {
   "display_name": "coding_finance_env",
   "language": "python",
   "name": "python3"
  },
  "language_info": {
   "codemirror_mode": {
    "name": "ipython",
    "version": 3
   },
   "file_extension": ".py",
   "mimetype": "text/x-python",
   "name": "python",
   "nbconvert_exporter": "python",
   "pygments_lexer": "ipython3",
   "version": "3.10.12"
  }
 },
 "nbformat": 4,
 "nbformat_minor": 2
}
